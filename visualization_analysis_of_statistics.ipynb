{
  "cells": [
    {
      "cell_type": "markdown",
      "id": "1eae389e",
      "metadata": {
        "id": "1eae389e"
      },
      "source": [
        "# Сборный проект"
      ]
    },
    {
      "cell_type": "markdown",
      "id": "2594e3c0",
      "metadata": {
        "id": "2594e3c0"
      },
      "source": [
        "Из открытых источников доступны исторические данные о продажах игр, оценки пользователей и экспертов, жанры и платформы (например, Xbox или PlayStation). Hужно выявить определяющие успешность игры закономерности, а именно:\n",
        "\n",
        "1. ***Открыть файл с данными и изучить общую информацию***\n",
        "\n",
        "2. ***Подготовить данные***\n",
        "\n",
        "3. ***Провести исследовательский анализ данных***\n",
        "Ответить на вопросы:\n",
        "Сколько игр выпускалось в разные годы. Важны ли данные за все периоды?\n",
        "Как менялись продажи по платформам. Выбрать платформы с наибольшими суммарными продажами и построить распределение по годам. За какой характерный срок появляются новые и исчезают старые платформы?\n",
        "Взять данные за соответствующий актуальный период. Основной фактор — эти данные помогут построить прогноз на 2017 год.\n",
        "Какие платформы лидируют по продажам, растут или падают? Выбрать несколько потенциально прибыльных платформ.\n",
        "Построить график «ящик с усами» по глобальным продажам игр в разбивке по платформам. Описать результат.\n",
        "Как влияют на продажи внутри одной популярной платформы отзывы пользователей и критиков. Построить диаграмму рассеяния и посчитайте корреляцию между отзывами и продажами. Сформулировать выводы.\n",
        "Соотнести выводы с продажами игр на других платформах.\n",
        "Посмотреть на общее распределение игр по жанрам. Что можно сказать о самых прибыльных жанрах? Выделяются ли жанры с высокими и низкими продажами?\n",
        "\n",
        "4. ***Составить портрет пользователя каждого региона***\n",
        "Ответить на вопросы:\n",
        "Определить для пользователя каждого региона (NA, EU, JP):\n",
        "Самые популярные платформы (топ-5). Описать различия в долях продаж.\n",
        "Самые популярные жанры (топ-5). \n",
        "Влияет ли рейтинг ESRB на продажи в отдельном регионе?\n",
        "\n",
        "5. ***Проверить гипотезы***\n",
        "Гипотезы для проверки:\n",
        "Средние пользовательские рейтинги платформ Xbox One и PC одинаковые;\n",
        "Средние пользовательские рейтинги жанров Action (англ. «действие», экшен-игры) и Sports (англ. «спортивные соревнования») разные.\n",
        "\n",
        "6. ***Написать общий вывод***\n"
      ]
    },
    {
      "cell_type": "markdown",
      "id": "ecb36417",
      "metadata": {
        "id": "ecb36417"
      },
      "source": [
        "## 1 Скачивание данных"
      ]
    },
    {
      "cell_type": "markdown",
      "id": "670e4a2a",
      "metadata": {
        "id": "670e4a2a"
      },
      "source": [
        "Необходимо загрузить файл и предварительно оценить качество данных."
      ]
    },
    {
      "cell_type": "code",
      "execution_count": null,
      "id": "dc1225ae",
      "metadata": {
        "id": "dc1225ae"
      },
      "outputs": [],
      "source": [
        "import pandas as pd\n",
        "import matplotlib.pyplot as plt\n",
        "import numpy as np\n",
        "from scipy import stats as st\n",
        "import seaborn as sns"
      ]
    },
    {
      "cell_type": "code",
      "execution_count": null,
      "id": "8aa25824",
      "metadata": {
        "id": "8aa25824"
      },
      "outputs": [],
      "source": [
        "try:\n",
        "    data = pd.read_csv('games.csv')\n",
        "except:\n",
        "    data = pd.read_csv('/datasets/games.csv')"
      ]
    },
    {
      "cell_type": "code",
      "execution_count": null,
      "id": "b3a7f131",
      "metadata": {
        "id": "b3a7f131",
        "outputId": "a30758bb-1cf4-4057-e54f-9cc79a078302"
      },
      "outputs": [
        {
          "data": {
            "text/html": [
              "<div>\n",
              "<style scoped>\n",
              "    .dataframe tbody tr th:only-of-type {\n",
              "        vertical-align: middle;\n",
              "    }\n",
              "\n",
              "    .dataframe tbody tr th {\n",
              "        vertical-align: top;\n",
              "    }\n",
              "\n",
              "    .dataframe thead th {\n",
              "        text-align: right;\n",
              "    }\n",
              "</style>\n",
              "<table border=\"1\" class=\"dataframe\">\n",
              "  <thead>\n",
              "    <tr style=\"text-align: right;\">\n",
              "      <th></th>\n",
              "      <th>Name</th>\n",
              "      <th>Platform</th>\n",
              "      <th>Year_of_Release</th>\n",
              "      <th>Genre</th>\n",
              "      <th>NA_sales</th>\n",
              "      <th>EU_sales</th>\n",
              "      <th>JP_sales</th>\n",
              "      <th>Other_sales</th>\n",
              "      <th>Critic_Score</th>\n",
              "      <th>User_Score</th>\n",
              "      <th>Rating</th>\n",
              "    </tr>\n",
              "  </thead>\n",
              "  <tbody>\n",
              "    <tr>\n",
              "      <td>0</td>\n",
              "      <td>Wii Sports</td>\n",
              "      <td>Wii</td>\n",
              "      <td>2006.0</td>\n",
              "      <td>Sports</td>\n",
              "      <td>41.36</td>\n",
              "      <td>28.96</td>\n",
              "      <td>3.77</td>\n",
              "      <td>8.45</td>\n",
              "      <td>76.0</td>\n",
              "      <td>8</td>\n",
              "      <td>E</td>\n",
              "    </tr>\n",
              "    <tr>\n",
              "      <td>1</td>\n",
              "      <td>Super Mario Bros.</td>\n",
              "      <td>NES</td>\n",
              "      <td>1985.0</td>\n",
              "      <td>Platform</td>\n",
              "      <td>29.08</td>\n",
              "      <td>3.58</td>\n",
              "      <td>6.81</td>\n",
              "      <td>0.77</td>\n",
              "      <td>NaN</td>\n",
              "      <td>NaN</td>\n",
              "      <td>NaN</td>\n",
              "    </tr>\n",
              "    <tr>\n",
              "      <td>2</td>\n",
              "      <td>Mario Kart Wii</td>\n",
              "      <td>Wii</td>\n",
              "      <td>2008.0</td>\n",
              "      <td>Racing</td>\n",
              "      <td>15.68</td>\n",
              "      <td>12.76</td>\n",
              "      <td>3.79</td>\n",
              "      <td>3.29</td>\n",
              "      <td>82.0</td>\n",
              "      <td>8.3</td>\n",
              "      <td>E</td>\n",
              "    </tr>\n",
              "    <tr>\n",
              "      <td>3</td>\n",
              "      <td>Wii Sports Resort</td>\n",
              "      <td>Wii</td>\n",
              "      <td>2009.0</td>\n",
              "      <td>Sports</td>\n",
              "      <td>15.61</td>\n",
              "      <td>10.93</td>\n",
              "      <td>3.28</td>\n",
              "      <td>2.95</td>\n",
              "      <td>80.0</td>\n",
              "      <td>8</td>\n",
              "      <td>E</td>\n",
              "    </tr>\n",
              "  </tbody>\n",
              "</table>\n",
              "</div>"
            ],
            "text/plain": [
              "                Name Platform  Year_of_Release     Genre  NA_sales  EU_sales  \\\n",
              "0         Wii Sports      Wii           2006.0    Sports     41.36     28.96   \n",
              "1  Super Mario Bros.      NES           1985.0  Platform     29.08      3.58   \n",
              "2     Mario Kart Wii      Wii           2008.0    Racing     15.68     12.76   \n",
              "3  Wii Sports Resort      Wii           2009.0    Sports     15.61     10.93   \n",
              "\n",
              "   JP_sales  Other_sales  Critic_Score User_Score Rating  \n",
              "0      3.77         8.45          76.0          8      E  \n",
              "1      6.81         0.77           NaN        NaN    NaN  \n",
              "2      3.79         3.29          82.0        8.3      E  \n",
              "3      3.28         2.95          80.0          8      E  "
            ]
          },
          "execution_count": 3,
          "metadata": {},
          "output_type": "execute_result"
        }
      ],
      "source": [
        "data.head(4)"
      ]
    },
    {
      "cell_type": "code",
      "execution_count": null,
      "id": "a193065c",
      "metadata": {
        "id": "a193065c",
        "outputId": "2eb6194c-11f4-4fbd-c671-65a661970c05"
      },
      "outputs": [
        {
          "name": "stdout",
          "output_type": "stream",
          "text": [
            "<class 'pandas.core.frame.DataFrame'>\n",
            "RangeIndex: 16715 entries, 0 to 16714\n",
            "Data columns (total 11 columns):\n",
            "Name               16713 non-null object\n",
            "Platform           16715 non-null object\n",
            "Year_of_Release    16446 non-null float64\n",
            "Genre              16713 non-null object\n",
            "NA_sales           16715 non-null float64\n",
            "EU_sales           16715 non-null float64\n",
            "JP_sales           16715 non-null float64\n",
            "Other_sales        16715 non-null float64\n",
            "Critic_Score       8137 non-null float64\n",
            "User_Score         10014 non-null object\n",
            "Rating             9949 non-null object\n",
            "dtypes: float64(6), object(5)\n",
            "memory usage: 1.4+ MB\n"
          ]
        }
      ],
      "source": [
        "data.info()"
      ]
    },
    {
      "cell_type": "markdown",
      "id": "e7ae0955",
      "metadata": {
        "id": "e7ae0955"
      },
      "source": [
        "### Вывод:\n",
        "\n",
        "Скачал данные. Из описания известно что:\n",
        "\n",
        "•\tName — название игры\n",
        "\n",
        "•\tPlatform — платформа\n",
        "\n",
        "•\tYear_of_Release — год выпуска\n",
        "\n",
        "•\tGenre — жанр игры\n",
        "\n",
        "•\tNA_sales — продажи в Северной Америке (миллионы проданных копий)\n",
        "\n",
        "•\tEU_sales — продажи в Европе (миллионы проданных копий)\n",
        "\n",
        "•\tJP_sales — продажи в Японии (миллионы проданных копий)\n",
        "\n",
        "•\tOther_sales — продажи в других странах (миллионы проданных копий)\n",
        "\n",
        "•\tCritic_Score — оценка критиков (максимум 100)\n",
        "\n",
        "•\tUser_Score — оценка пользователей (максимум 10)\n",
        "\n",
        "•\tRating — рейтинг от организации ESRB \n",
        "\n",
        "Предварительно видно что столбцы имеют некорректные названия и есть ряд пропущенных значений."
      ]
    },
    {
      "cell_type": "markdown",
      "id": "bab37a95",
      "metadata": {
        "id": "bab37a95"
      },
      "source": [
        "## 2 Подготовка данных"
      ]
    },
    {
      "cell_type": "markdown",
      "id": "59250429",
      "metadata": {
        "id": "59250429"
      },
      "source": [
        "Необходимо: \n",
        "\n",
        "- заменить названия столбцов;\n",
        "- преобразовать данные в нужные типы;\n",
        "- обработать пропуски;\n",
        "-  посчитать суммарные продажи во всех регионах."
      ]
    },
    {
      "cell_type": "code",
      "execution_count": null,
      "id": "291a3b5c",
      "metadata": {
        "id": "291a3b5c"
      },
      "outputs": [],
      "source": [
        "data.columns = data.columns.str.lower()"
      ]
    },
    {
      "cell_type": "code",
      "execution_count": null,
      "id": "bdd49f3a",
      "metadata": {
        "id": "bdd49f3a",
        "outputId": "300159d7-ff14-4ade-dbcd-551c2e0f5549"
      },
      "outputs": [
        {
          "name": "stdout",
          "output_type": "stream",
          "text": [
            "<class 'pandas.core.frame.DataFrame'>\n",
            "RangeIndex: 16715 entries, 0 to 16714\n",
            "Data columns (total 11 columns):\n",
            "name               16713 non-null object\n",
            "platform           16715 non-null object\n",
            "year_of_release    16446 non-null float64\n",
            "genre              16713 non-null object\n",
            "na_sales           16715 non-null float64\n",
            "eu_sales           16715 non-null float64\n",
            "jp_sales           16715 non-null float64\n",
            "other_sales        16715 non-null float64\n",
            "critic_score       8137 non-null float64\n",
            "user_score         10014 non-null object\n",
            "rating             9949 non-null object\n",
            "dtypes: float64(6), object(5)\n",
            "memory usage: 1.4+ MB\n"
          ]
        }
      ],
      "source": [
        "data.info()"
      ]
    },
    {
      "cell_type": "code",
      "execution_count": null,
      "id": "4decb2fe",
      "metadata": {
        "id": "4decb2fe",
        "outputId": "e625c68b-66c0-4157-e82e-2d2aeb931354"
      },
      "outputs": [
        {
          "data": {
            "text/plain": [
              "0"
            ]
          },
          "execution_count": 8,
          "metadata": {},
          "output_type": "execute_result"
        }
      ],
      "source": [
        "data.duplicated().sum()"
      ]
    },
    {
      "cell_type": "code",
      "execution_count": null,
      "id": "d2770e1b",
      "metadata": {
        "id": "d2770e1b",
        "outputId": "fb6dd5f1-a25b-4199-ec5d-345246808b56"
      },
      "outputs": [
        {
          "data": {
            "text/plain": [
              "array(['Wii', 'NES', 'GB', 'DS', 'X360', 'PS3', 'PS2', 'SNES', 'GBA',\n",
              "       'PS4', '3DS', 'N64', 'PS', 'XB', 'PC', '2600', 'PSP', 'XOne',\n",
              "       'WiiU', 'GC', 'GEN', 'DC', 'PSV', 'SAT', 'SCD', 'WS', 'NG', 'TG16',\n",
              "       '3DO', 'GG', 'PCFX'], dtype=object)"
            ]
          },
          "execution_count": 9,
          "metadata": {},
          "output_type": "execute_result"
        }
      ],
      "source": [
        "data['platform'].unique()"
      ]
    },
    {
      "cell_type": "code",
      "execution_count": null,
      "id": "36e66294",
      "metadata": {
        "id": "36e66294",
        "outputId": "963ae736-d15d-44fc-8bda-17084bbe569c"
      },
      "outputs": [
        {
          "data": {
            "text/plain": [
              "array(['Sports', 'Platform', 'Racing', 'Role-Playing', 'Puzzle', 'Misc',\n",
              "       'Shooter', 'Simulation', 'Action', 'Fighting', 'Adventure',\n",
              "       'Strategy', nan], dtype=object)"
            ]
          },
          "execution_count": 10,
          "metadata": {},
          "output_type": "execute_result"
        }
      ],
      "source": [
        "data['genre'].unique()"
      ]
    },
    {
      "cell_type": "code",
      "execution_count": null,
      "id": "cbb0b71b",
      "metadata": {
        "id": "cbb0b71b",
        "outputId": "c9762c22-46bb-4fe6-c4a7-ffc8f5f51785"
      },
      "outputs": [
        {
          "data": {
            "text/plain": [
              "array(['E', nan, 'M', 'T', 'E10+', 'K-A', 'AO', 'EC', 'RP'], dtype=object)"
            ]
          },
          "execution_count": 11,
          "metadata": {},
          "output_type": "execute_result"
        }
      ],
      "source": [
        "data['rating'].unique()"
      ]
    },
    {
      "cell_type": "markdown",
      "id": "d3f16ab7",
      "metadata": {
        "id": "d3f16ab7"
      },
      "source": [
        "Автоматическая проверка дубликаты не обнаружила. После ручной проверки дубликатов тоже не обнаружено, значения корректны."
      ]
    },
    {
      "cell_type": "code",
      "execution_count": null,
      "id": "da0e3d61",
      "metadata": {
        "id": "da0e3d61",
        "outputId": "5e8dc103-d821-44d4-c78f-2b341a462a42"
      },
      "outputs": [
        {
          "data": {
            "text/plain": [
              "array([2006., 1985., 2008., 2009., 1996., 1989., 1984., 2005., 1999.,\n",
              "       2007., 2010., 2013., 2004., 1990., 1988., 2002., 2001., 2011.,\n",
              "       1998., 2015., 2012., 2014., 1992., 1997., 1993., 1994., 1982.,\n",
              "       2016., 2003., 1986., 2000.,   nan, 1995., 1991., 1981., 1987.,\n",
              "       1980., 1983.])"
            ]
          },
          "execution_count": 12,
          "metadata": {},
          "output_type": "execute_result"
        }
      ],
      "source": [
        "data['year_of_release'].unique()"
      ]
    },
    {
      "cell_type": "code",
      "execution_count": null,
      "id": "71da3ad6",
      "metadata": {
        "id": "71da3ad6",
        "outputId": "cde50d0e-862a-4f72-bcd8-9fecee356f17"
      },
      "outputs": [
        {
          "data": {
            "text/html": [
              "<div>\n",
              "<style scoped>\n",
              "    .dataframe tbody tr th:only-of-type {\n",
              "        vertical-align: middle;\n",
              "    }\n",
              "\n",
              "    .dataframe tbody tr th {\n",
              "        vertical-align: top;\n",
              "    }\n",
              "\n",
              "    .dataframe thead th {\n",
              "        text-align: right;\n",
              "    }\n",
              "</style>\n",
              "<table border=\"1\" class=\"dataframe\">\n",
              "  <thead>\n",
              "    <tr style=\"text-align: right;\">\n",
              "      <th></th>\n",
              "      <th>name</th>\n",
              "      <th>platform</th>\n",
              "      <th>year_of_release</th>\n",
              "      <th>genre</th>\n",
              "      <th>na_sales</th>\n",
              "      <th>eu_sales</th>\n",
              "      <th>jp_sales</th>\n",
              "      <th>other_sales</th>\n",
              "      <th>critic_score</th>\n",
              "      <th>user_score</th>\n",
              "      <th>rating</th>\n",
              "    </tr>\n",
              "  </thead>\n",
              "  <tbody>\n",
              "    <tr>\n",
              "      <td>183</td>\n",
              "      <td>Madden NFL 2004</td>\n",
              "      <td>PS2</td>\n",
              "      <td>NaN</td>\n",
              "      <td>Sports</td>\n",
              "      <td>4.26</td>\n",
              "      <td>0.26</td>\n",
              "      <td>0.01</td>\n",
              "      <td>0.71</td>\n",
              "      <td>94.0</td>\n",
              "      <td>8.5</td>\n",
              "      <td>E</td>\n",
              "    </tr>\n",
              "    <tr>\n",
              "      <td>377</td>\n",
              "      <td>FIFA Soccer 2004</td>\n",
              "      <td>PS2</td>\n",
              "      <td>NaN</td>\n",
              "      <td>Sports</td>\n",
              "      <td>0.59</td>\n",
              "      <td>2.36</td>\n",
              "      <td>0.04</td>\n",
              "      <td>0.51</td>\n",
              "      <td>84.0</td>\n",
              "      <td>6.4</td>\n",
              "      <td>E</td>\n",
              "    </tr>\n",
              "    <tr>\n",
              "      <td>456</td>\n",
              "      <td>LEGO Batman: The Videogame</td>\n",
              "      <td>Wii</td>\n",
              "      <td>NaN</td>\n",
              "      <td>Action</td>\n",
              "      <td>1.80</td>\n",
              "      <td>0.97</td>\n",
              "      <td>0.00</td>\n",
              "      <td>0.29</td>\n",
              "      <td>74.0</td>\n",
              "      <td>7.9</td>\n",
              "      <td>E10+</td>\n",
              "    </tr>\n",
              "    <tr>\n",
              "      <td>475</td>\n",
              "      <td>wwe Smackdown vs. Raw 2006</td>\n",
              "      <td>PS2</td>\n",
              "      <td>NaN</td>\n",
              "      <td>Fighting</td>\n",
              "      <td>1.57</td>\n",
              "      <td>1.02</td>\n",
              "      <td>0.00</td>\n",
              "      <td>0.41</td>\n",
              "      <td>NaN</td>\n",
              "      <td>NaN</td>\n",
              "      <td>NaN</td>\n",
              "    </tr>\n",
              "    <tr>\n",
              "      <td>609</td>\n",
              "      <td>Space Invaders</td>\n",
              "      <td>2600</td>\n",
              "      <td>NaN</td>\n",
              "      <td>Shooter</td>\n",
              "      <td>2.36</td>\n",
              "      <td>0.14</td>\n",
              "      <td>0.00</td>\n",
              "      <td>0.03</td>\n",
              "      <td>NaN</td>\n",
              "      <td>NaN</td>\n",
              "      <td>NaN</td>\n",
              "    </tr>\n",
              "    <tr>\n",
              "      <td>627</td>\n",
              "      <td>Rock Band</td>\n",
              "      <td>X360</td>\n",
              "      <td>NaN</td>\n",
              "      <td>Misc</td>\n",
              "      <td>1.93</td>\n",
              "      <td>0.33</td>\n",
              "      <td>0.00</td>\n",
              "      <td>0.21</td>\n",
              "      <td>92.0</td>\n",
              "      <td>8.2</td>\n",
              "      <td>T</td>\n",
              "    </tr>\n",
              "  </tbody>\n",
              "</table>\n",
              "</div>"
            ],
            "text/plain": [
              "                           name platform  year_of_release     genre  na_sales  \\\n",
              "183             Madden NFL 2004      PS2              NaN    Sports      4.26   \n",
              "377            FIFA Soccer 2004      PS2              NaN    Sports      0.59   \n",
              "456  LEGO Batman: The Videogame      Wii              NaN    Action      1.80   \n",
              "475  wwe Smackdown vs. Raw 2006      PS2              NaN  Fighting      1.57   \n",
              "609              Space Invaders     2600              NaN   Shooter      2.36   \n",
              "627                   Rock Band     X360              NaN      Misc      1.93   \n",
              "\n",
              "     eu_sales  jp_sales  other_sales  critic_score user_score rating  \n",
              "183      0.26      0.01         0.71          94.0        8.5      E  \n",
              "377      2.36      0.04         0.51          84.0        6.4      E  \n",
              "456      0.97      0.00         0.29          74.0        7.9   E10+  \n",
              "475      1.02      0.00         0.41           NaN        NaN    NaN  \n",
              "609      0.14      0.00         0.03           NaN        NaN    NaN  \n",
              "627      0.33      0.00         0.21          92.0        8.2      T  "
            ]
          },
          "execution_count": 13,
          "metadata": {},
          "output_type": "execute_result"
        }
      ],
      "source": [
        "data[data['year_of_release'].isna()].head(6)"
      ]
    },
    {
      "cell_type": "markdown",
      "id": "cbe725d7",
      "metadata": {
        "id": "cbe725d7"
      },
      "source": [
        "Пропуски в дате выхода игры не имеют какой-то системы и не поддаются простому восстановлению. В ручную искать и восстанавливать даты для нескольких сотен пропущенных значений считаю нерациональным. С учётом того что эти данные участвуют в анализе замена так же нецелесообразна. Тк пропущенных данных сравнительно немного можно удалить данные строки.\n",
        "\n",
        "Этим мы отбросили 269 строк или 1.6% от всей информации."
      ]
    },
    {
      "cell_type": "code",
      "execution_count": null,
      "id": "c76160e0",
      "metadata": {
        "id": "c76160e0",
        "outputId": "44d19d48-8bd2-4a17-83f4-13b9745641b2"
      },
      "outputs": [
        {
          "name": "stdout",
          "output_type": "stream",
          "text": [
            "<class 'pandas.core.frame.DataFrame'>\n",
            "Int64Index: 16446 entries, 0 to 16714\n",
            "Data columns (total 11 columns):\n",
            "name               16444 non-null object\n",
            "platform           16446 non-null object\n",
            "year_of_release    16446 non-null float64\n",
            "genre              16444 non-null object\n",
            "na_sales           16446 non-null float64\n",
            "eu_sales           16446 non-null float64\n",
            "jp_sales           16446 non-null float64\n",
            "other_sales        16446 non-null float64\n",
            "critic_score       7983 non-null float64\n",
            "user_score         9839 non-null object\n",
            "rating             9768 non-null object\n",
            "dtypes: float64(6), object(5)\n",
            "memory usage: 1.5+ MB\n"
          ]
        }
      ],
      "source": [
        "data = data.dropna(subset = ['year_of_release'])\n",
        "data.info()"
      ]
    },
    {
      "cell_type": "markdown",
      "id": "ebc7889b",
      "metadata": {
        "id": "ebc7889b"
      },
      "source": [
        "Аналогично поступим с пропусками в названии игры."
      ]
    },
    {
      "cell_type": "code",
      "execution_count": null,
      "id": "a6710931",
      "metadata": {
        "id": "a6710931",
        "outputId": "e18b1234-1c7a-41ee-c920-95fd515a868d"
      },
      "outputs": [
        {
          "name": "stdout",
          "output_type": "stream",
          "text": [
            "<class 'pandas.core.frame.DataFrame'>\n",
            "Int64Index: 16444 entries, 0 to 16714\n",
            "Data columns (total 11 columns):\n",
            "name               16444 non-null object\n",
            "platform           16444 non-null object\n",
            "year_of_release    16444 non-null float64\n",
            "genre              16444 non-null object\n",
            "na_sales           16444 non-null float64\n",
            "eu_sales           16444 non-null float64\n",
            "jp_sales           16444 non-null float64\n",
            "other_sales        16444 non-null float64\n",
            "critic_score       7983 non-null float64\n",
            "user_score         9839 non-null object\n",
            "rating             9768 non-null object\n",
            "dtypes: float64(6), object(5)\n",
            "memory usage: 1.5+ MB\n"
          ]
        }
      ],
      "source": [
        "data = data.dropna(subset = ['name'])\n",
        "data.info()"
      ]
    },
    {
      "cell_type": "markdown",
      "id": "5b63ab66",
      "metadata": {
        "id": "5b63ab66"
      },
      "source": [
        "Остались пропуски в значениях рейтинга. Эти данные не имеют какой-то системы и их невозможно восстановить. В то же время их слишком много, и отбрасывать их тоже нельзя. Принимаю решение оставить пропуски как есть."
      ]
    },
    {
      "cell_type": "code",
      "execution_count": null,
      "id": "8301862f",
      "metadata": {
        "id": "8301862f",
        "outputId": "55437713-cfed-4904-bf41-0c85f97fb0c9"
      },
      "outputs": [
        {
          "data": {
            "text/plain": [
              "Text(0.5, 1.0, 'distribution  critics score')"
            ]
          },
          "execution_count": 16,
          "metadata": {},
          "output_type": "execute_result"
        },
        {
          "data": {
            "image/png": "[encoded data removed]",
            "text/plain": [
              "<Figure size 432x288 with 1 Axes>"
            ]
          },
          "metadata": {
            "needs_background": "light"
          },
          "output_type": "display_data"
        }
      ],
      "source": [
        "data['critic_score'].hist(bins=50)\n",
        "plt.title('distribution  critics score')"
      ]
    },
    {
      "cell_type": "code",
      "execution_count": null,
      "id": "3c49606f",
      "metadata": {
        "id": "3c49606f",
        "outputId": "2df947e0-d62e-4534-aac1-02c9305dc92a"
      },
      "outputs": [
        {
          "data": {
            "text/plain": [
              "rating\n",
              "AO         1\n",
              "E       3921\n",
              "E10+    1393\n",
              "EC         8\n",
              "K-A        3\n",
              "M       1536\n",
              "RP         1\n",
              "T       2905\n",
              "Name: name, dtype: int64"
            ]
          },
          "execution_count": 17,
          "metadata": {},
          "output_type": "execute_result"
        }
      ],
      "source": [
        "data.groupby('rating')['name'].count()"
      ]
    },
    {
      "cell_type": "code",
      "execution_count": null,
      "id": "e80b2771",
      "metadata": {
        "id": "e80b2771",
        "outputId": "485cf5ca-7895-4a08-d6f6-09ec89f09caf"
      },
      "outputs": [
        {
          "data": {
            "text/html": [
              "<div>\n",
              "<style scoped>\n",
              "    .dataframe tbody tr th:only-of-type {\n",
              "        vertical-align: middle;\n",
              "    }\n",
              "\n",
              "    .dataframe tbody tr th {\n",
              "        vertical-align: top;\n",
              "    }\n",
              "\n",
              "    .dataframe thead th {\n",
              "        text-align: right;\n",
              "    }\n",
              "</style>\n",
              "<table border=\"1\" class=\"dataframe\">\n",
              "  <thead>\n",
              "    <tr style=\"text-align: right;\">\n",
              "      <th></th>\n",
              "      <th>name</th>\n",
              "      <th>platform</th>\n",
              "      <th>year_of_release</th>\n",
              "      <th>genre</th>\n",
              "      <th>na_sales</th>\n",
              "      <th>eu_sales</th>\n",
              "      <th>jp_sales</th>\n",
              "      <th>other_sales</th>\n",
              "      <th>critic_score</th>\n",
              "      <th>user_score</th>\n",
              "      <th>rating</th>\n",
              "    </tr>\n",
              "  </thead>\n",
              "  <tbody>\n",
              "    <tr>\n",
              "      <td>656</td>\n",
              "      <td>Theme Hospital</td>\n",
              "      <td>PC</td>\n",
              "      <td>1997.0</td>\n",
              "      <td>Strategy</td>\n",
              "      <td>2.30</td>\n",
              "      <td>0.10</td>\n",
              "      <td>0.00</td>\n",
              "      <td>0.00</td>\n",
              "      <td>NaN</td>\n",
              "      <td>9</td>\n",
              "      <td>K-A</td>\n",
              "    </tr>\n",
              "    <tr>\n",
              "      <td>903</td>\n",
              "      <td>PaRappa The Rapper</td>\n",
              "      <td>PS</td>\n",
              "      <td>1996.0</td>\n",
              "      <td>Misc</td>\n",
              "      <td>0.26</td>\n",
              "      <td>0.16</td>\n",
              "      <td>1.46</td>\n",
              "      <td>0.03</td>\n",
              "      <td>92.0</td>\n",
              "      <td>7.4</td>\n",
              "      <td>K-A</td>\n",
              "    </tr>\n",
              "    <tr>\n",
              "      <td>16681</td>\n",
              "      <td>Worms 2</td>\n",
              "      <td>PC</td>\n",
              "      <td>1997.0</td>\n",
              "      <td>Strategy</td>\n",
              "      <td>0.00</td>\n",
              "      <td>0.01</td>\n",
              "      <td>0.00</td>\n",
              "      <td>0.00</td>\n",
              "      <td>NaN</td>\n",
              "      <td>8.1</td>\n",
              "      <td>K-A</td>\n",
              "    </tr>\n",
              "  </tbody>\n",
              "</table>\n",
              "</div>"
            ],
            "text/plain": [
              "                     name platform  year_of_release     genre  na_sales  \\\n",
              "656        Theme Hospital       PC           1997.0  Strategy      2.30   \n",
              "903    PaRappa The Rapper       PS           1996.0      Misc      0.26   \n",
              "16681             Worms 2       PC           1997.0  Strategy      0.00   \n",
              "\n",
              "       eu_sales  jp_sales  other_sales  critic_score user_score rating  \n",
              "656        0.10      0.00         0.00           NaN          9    K-A  \n",
              "903        0.16      1.46         0.03          92.0        7.4    K-A  \n",
              "16681      0.01      0.00         0.00           NaN        8.1    K-A  "
            ]
          },
          "execution_count": 18,
          "metadata": {},
          "output_type": "execute_result"
        }
      ],
      "source": [
        "data[data['rating'] == 'K-A']"
      ]
    },
    {
      "cell_type": "markdown",
      "id": "127bf1e3",
      "metadata": {
        "id": "127bf1e3"
      },
      "source": [
        "Проверил распределение для разных типов рейтинга. Рейтинг критиков похож на нормальное распределение и выглядит правдоподобно. Для возрастного рейтинга видно что значения AO (Только для взрослых), EC (Для детей младшего возраста),  K-A (\"для детей и взрослых\"), RP (Рейтинг ожидается) составляют абсолютное меньшинство.\n",
        "В результате гугленья этой информации узнал что рейтинг K-A позднее был переименован в \"Е\". В принципе можно было бы поменять эти значения, но у нас есть всего 3 игры подобного типа и все они выпущены в 96-97 годах, ктотрые мы всё равно отбросим для дальнейшего анализа. Так что оставлю всё как есть."
      ]
    },
    {
      "cell_type": "markdown",
      "id": "6c1c3f0d",
      "metadata": {
        "id": "6c1c3f0d"
      },
      "source": [
        "<div class=\"alert alert-info\"> Получше познакомился с работой аналитика. После размышлений решил оставить всё как есть но было поучительно. </div>"
      ]
    },
    {
      "cell_type": "code",
      "execution_count": null,
      "id": "3553f687",
      "metadata": {
        "id": "3553f687",
        "outputId": "8e27ddbb-634b-4133-da5a-1a9e07a1a09b"
      },
      "outputs": [
        {
          "name": "stdout",
          "output_type": "stream",
          "text": [
            "<class 'pandas.core.frame.DataFrame'>\n",
            "Int64Index: 16444 entries, 0 to 16714\n",
            "Data columns (total 11 columns):\n",
            "name               16444 non-null object\n",
            "platform           16444 non-null object\n",
            "year_of_release    16444 non-null int64\n",
            "genre              16444 non-null object\n",
            "na_sales           16444 non-null float64\n",
            "eu_sales           16444 non-null float64\n",
            "jp_sales           16444 non-null float64\n",
            "other_sales        16444 non-null float64\n",
            "critic_score       7983 non-null float64\n",
            "user_score         9839 non-null object\n",
            "rating             9768 non-null object\n",
            "dtypes: float64(5), int64(1), object(5)\n",
            "memory usage: 1.5+ MB\n"
          ]
        }
      ],
      "source": [
        "data[['year_of_release']] = data[['year_of_release']].astype('int')\n",
        "data.info()\n",
        "# Привёл год выхода игры к целому числу. "
      ]
    },
    {
      "cell_type": "markdown",
      "id": "855b4e23",
      "metadata": {
        "id": "855b4e23"
      },
      "source": [
        "Столбец user_score имеет строковый тип, что странно. Необходимо проверить и привести к числу."
      ]
    },
    {
      "cell_type": "code",
      "execution_count": null,
      "id": "123e0e24",
      "metadata": {
        "id": "123e0e24",
        "outputId": "48fbbd93-f2bf-4c3e-945d-99f900d30cc8"
      },
      "outputs": [
        {
          "data": {
            "text/plain": [
              "array(['8', nan, '8.3', '8.5', '6.6', '8.4', '8.6', '7.7', '6.3', '7.4',\n",
              "       '8.2', '9', '7.9', '8.1', '8.7', '7.1', '3.4', '5.3', '4.8', '3.2',\n",
              "       '8.9', '6.4', '7.8', '7.5', '2.6', '7.2', '9.2', '7', '7.3', '4.3',\n",
              "       '7.6', '5.7', '5', '9.1', '6.5', 'tbd', '8.8', '6.9', '9.4', '6.8',\n",
              "       '6.1', '6.7', '5.4', '4', '4.9', '4.5', '9.3', '6.2', '4.2', '6',\n",
              "       '3.7', '4.1', '5.8', '5.6', '5.5', '4.4', '4.6', '5.9', '3.9',\n",
              "       '3.1', '2.9', '5.2', '3.3', '4.7', '5.1', '3.5', '2.5', '1.9', '3',\n",
              "       '2.7', '2.2', '2', '9.5', '2.1', '3.6', '2.8', '1.8', '3.8', '0',\n",
              "       '1.6', '9.6', '2.4', '1.7', '1.1', '0.3', '1.5', '0.7', '1.2',\n",
              "       '2.3', '0.5', '1.3', '0.2', '0.6', '1.4', '0.9', '1', '9.7'],\n",
              "      dtype=object)"
            ]
          },
          "execution_count": 20,
          "metadata": {},
          "output_type": "execute_result"
        }
      ],
      "source": [
        "data['user_score'].unique()"
      ]
    },
    {
      "cell_type": "code",
      "execution_count": null,
      "id": "7656dd62",
      "metadata": {
        "id": "7656dd62"
      },
      "outputs": [],
      "source": [
        "data = data.replace('tbd', np.nan)\n",
        "data[['user_score']] = data[['user_score']].astype('float')\n",
        "# Заменил непонятное значение 'tbd' на np.nan. Привёл к  числу с плавающей точкой (потому что есть наны). "
      ]
    },
    {
      "cell_type": "code",
      "execution_count": null,
      "id": "ee52d6fc",
      "metadata": {
        "id": "ee52d6fc"
      },
      "outputs": [],
      "source": [
        "data['all_sales'] = data['na_sales'] + data['eu_sales'] + data['jp_sales'] + data['other_sales']\n",
        "# создал столбец all_sales где суммировал продажи во всех регионах"
      ]
    },
    {
      "cell_type": "code",
      "execution_count": null,
      "id": "a1f33c6c",
      "metadata": {
        "id": "a1f33c6c",
        "outputId": "040ad457-c9e3-4032-8b66-0df4f0c87f79"
      },
      "outputs": [
        {
          "data": {
            "text/html": [
              "<div>\n",
              "<style scoped>\n",
              "    .dataframe tbody tr th:only-of-type {\n",
              "        vertical-align: middle;\n",
              "    }\n",
              "\n",
              "    .dataframe tbody tr th {\n",
              "        vertical-align: top;\n",
              "    }\n",
              "\n",
              "    .dataframe thead th {\n",
              "        text-align: right;\n",
              "    }\n",
              "</style>\n",
              "<table border=\"1\" class=\"dataframe\">\n",
              "  <thead>\n",
              "    <tr style=\"text-align: right;\">\n",
              "      <th></th>\n",
              "      <th>name</th>\n",
              "      <th>platform</th>\n",
              "      <th>year_of_release</th>\n",
              "      <th>genre</th>\n",
              "      <th>na_sales</th>\n",
              "      <th>eu_sales</th>\n",
              "      <th>jp_sales</th>\n",
              "      <th>other_sales</th>\n",
              "      <th>critic_score</th>\n",
              "      <th>user_score</th>\n",
              "      <th>rating</th>\n",
              "      <th>all_sales</th>\n",
              "    </tr>\n",
              "  </thead>\n",
              "  <tbody>\n",
              "    <tr>\n",
              "      <td>0</td>\n",
              "      <td>Wii Sports</td>\n",
              "      <td>Wii</td>\n",
              "      <td>2006</td>\n",
              "      <td>Sports</td>\n",
              "      <td>41.36</td>\n",
              "      <td>28.96</td>\n",
              "      <td>3.77</td>\n",
              "      <td>8.45</td>\n",
              "      <td>76.0</td>\n",
              "      <td>8.0</td>\n",
              "      <td>E</td>\n",
              "      <td>82.54</td>\n",
              "    </tr>\n",
              "    <tr>\n",
              "      <td>1</td>\n",
              "      <td>Super Mario Bros.</td>\n",
              "      <td>NES</td>\n",
              "      <td>1985</td>\n",
              "      <td>Platform</td>\n",
              "      <td>29.08</td>\n",
              "      <td>3.58</td>\n",
              "      <td>6.81</td>\n",
              "      <td>0.77</td>\n",
              "      <td>NaN</td>\n",
              "      <td>NaN</td>\n",
              "      <td>NaN</td>\n",
              "      <td>40.24</td>\n",
              "    </tr>\n",
              "    <tr>\n",
              "      <td>2</td>\n",
              "      <td>Mario Kart Wii</td>\n",
              "      <td>Wii</td>\n",
              "      <td>2008</td>\n",
              "      <td>Racing</td>\n",
              "      <td>15.68</td>\n",
              "      <td>12.76</td>\n",
              "      <td>3.79</td>\n",
              "      <td>3.29</td>\n",
              "      <td>82.0</td>\n",
              "      <td>8.3</td>\n",
              "      <td>E</td>\n",
              "      <td>35.52</td>\n",
              "    </tr>\n",
              "    <tr>\n",
              "      <td>3</td>\n",
              "      <td>Wii Sports Resort</td>\n",
              "      <td>Wii</td>\n",
              "      <td>2009</td>\n",
              "      <td>Sports</td>\n",
              "      <td>15.61</td>\n",
              "      <td>10.93</td>\n",
              "      <td>3.28</td>\n",
              "      <td>2.95</td>\n",
              "      <td>80.0</td>\n",
              "      <td>8.0</td>\n",
              "      <td>E</td>\n",
              "      <td>32.77</td>\n",
              "    </tr>\n",
              "  </tbody>\n",
              "</table>\n",
              "</div>"
            ],
            "text/plain": [
              "                name platform  year_of_release     genre  na_sales  eu_sales  \\\n",
              "0         Wii Sports      Wii             2006    Sports     41.36     28.96   \n",
              "1  Super Mario Bros.      NES             1985  Platform     29.08      3.58   \n",
              "2     Mario Kart Wii      Wii             2008    Racing     15.68     12.76   \n",
              "3  Wii Sports Resort      Wii             2009    Sports     15.61     10.93   \n",
              "\n",
              "   jp_sales  other_sales  critic_score  user_score rating  all_sales  \n",
              "0      3.77         8.45          76.0         8.0      E      82.54  \n",
              "1      6.81         0.77           NaN         NaN    NaN      40.24  \n",
              "2      3.79         3.29          82.0         8.3      E      35.52  \n",
              "3      3.28         2.95          80.0         8.0      E      32.77  "
            ]
          },
          "execution_count": 23,
          "metadata": {},
          "output_type": "execute_result"
        }
      ],
      "source": [
        "data.head(4)"
      ]
    },
    {
      "cell_type": "markdown",
      "id": "46dba710",
      "metadata": {
        "id": "46dba710"
      },
      "source": [
        "### Вывод\n",
        "\n",
        "Исправил названия столбцов, проверил на дубликаты, обработал пропуски, преобразовал дату выхода в целое число, а пользовательский рейтинг в число с плавающей точкой, посчитал суммарные продажи и выделил в отдельный столбец."
      ]
    },
    {
      "cell_type": "markdown",
      "id": "a620a6c9",
      "metadata": {
        "id": "a620a6c9"
      },
      "source": [
        "## 3 Исследовательский анализ данных"
      ]
    },
    {
      "cell_type": "markdown",
      "id": "51f8d645",
      "metadata": {
        "id": "51f8d645"
      },
      "source": [
        "Необходимо:\n",
        "- Посмотреть сколько игр выпускалось в разные годы. \n",
        "- Посмотреть, как менялись продажи по платформам. Выбрать платформы с наибольшими суммарными продажами и определить актуальный период.\n",
        "- Использовать данные только за актуальный период, остальное отбросить.\n",
        "- Определить, какие платформы лидируют по продажам и выбрать несколько потенциально прибыльных платформ.\n",
        "- Построить график «ящик с усами» по глобальным продажам игр в разбивке по платформам.\n",
        "- Посмотреть, как влияют на продажи внутри одной популярной платформы отзывы пользователей и критиков. Сформулировать выводы.\n",
        "- Соотнести выводы с продажами игр на других платформах.\n",
        "- Посмотреть на общее распределение игр по жанрам. Определить прибыльные жанры."
      ]
    },
    {
      "cell_type": "code",
      "execution_count": null,
      "id": "ffa6f4c8",
      "metadata": {
        "id": "ffa6f4c8",
        "outputId": "a4f28ce0-cfa0-4e0f-a18d-94df37581b4b"
      },
      "outputs": [
        {
          "data": {
            "text/plain": [
              "year_of_release\n",
              "1980       9\n",
              "1981      46\n",
              "1982      36\n",
              "1983      17\n",
              "1984      14\n",
              "1985      14\n",
              "1986      21\n",
              "1987      16\n",
              "1988      15\n",
              "1989      17\n",
              "1990      16\n",
              "1991      41\n",
              "1992      43\n",
              "1993      60\n",
              "1994     121\n",
              "1995     219\n",
              "1996     263\n",
              "1997     289\n",
              "1998     379\n",
              "1999     338\n",
              "2000     350\n",
              "2001     482\n",
              "2002     829\n",
              "2003     775\n",
              "2004     762\n",
              "2005     939\n",
              "2006    1006\n",
              "2007    1197\n",
              "2008    1427\n",
              "2009    1426\n",
              "2010    1255\n",
              "2011    1136\n",
              "2012     653\n",
              "2013     544\n",
              "2014     581\n",
              "2015     606\n",
              "2016     502\n",
              "Name: name, dtype: int64"
            ]
          },
          "execution_count": 24,
          "metadata": {},
          "output_type": "execute_result"
        }
      ],
      "source": [
        "data.groupby('year_of_release')['name'].count()"
      ]
    },
    {
      "cell_type": "code",
      "execution_count": null,
      "id": "451f4958",
      "metadata": {
        "id": "451f4958",
        "outputId": "ce19938f-20e5-4e35-c15c-229db09bdc4d"
      },
      "outputs": [
        {
          "data": {
            "text/plain": [
              "Text(0.5, 1.0, 'distribution of games by year')"
            ]
          },
          "execution_count": 25,
          "metadata": {},
          "output_type": "execute_result"
        },
        {
          "data": {
            "image/png": "[encoded data removed]",
            "text/plain": [
              "<Figure size 432x288 with 1 Axes>"
            ]
          },
          "metadata": {
            "needs_background": "light"
          },
          "output_type": "display_data"
        }
      ],
      "source": [
        "data['year_of_release'].hist(bins=36)\n",
        "plt.title('distribution of games by year')"
      ]
    },
    {
      "cell_type": "markdown",
      "id": "ba890e63",
      "metadata": {
        "id": "ba890e63"
      },
      "source": [
        "Анализируя данные можно заметить что после 1994 года количество игр превысило сотню, что более чем в два раза больше чем количество выпускавшихся в год игр до этого. Поэтому можно сосредоточится на периоде с 1994 по 2016 годы. Игры более раннего года выпуска отбрасываем."
      ]
    },
    {
      "cell_type": "code",
      "execution_count": null,
      "id": "d436d433",
      "metadata": {
        "id": "d436d433"
      },
      "outputs": [],
      "source": [
        "data = data[data['year_of_release']>=1994]\n",
        "# Отбросил игры до 1994 года."
      ]
    },
    {
      "cell_type": "code",
      "execution_count": null,
      "id": "53aba1c8",
      "metadata": {
        "id": "53aba1c8",
        "outputId": "ae43a57a-efe1-4ec2-a80a-8b8695624115"
      },
      "outputs": [
        {
          "data": {
            "text/plain": [
              "platform\n",
              "PS2     1233.56\n",
              "X360     961.24\n",
              "PS3      931.34\n",
              "Wii      891.18\n",
              "DS       802.76\n",
              "PS       727.58\n",
              "PS4      314.14\n",
              "GBA      312.88\n",
              "PSP      289.53\n",
              "3DS      257.81\n",
              "PC       252.66\n",
              "XB       251.57\n",
              "N64      218.01\n",
              "GC       196.73\n",
              "XOne     159.32\n",
              "Name: all_sales, dtype: float64"
            ]
          },
          "execution_count": 27,
          "metadata": {},
          "output_type": "execute_result"
        }
      ],
      "source": [
        "data.groupby('platform')['all_sales'].sum().sort_values(ascending=False).head(15)\n",
        "# Вывел платформы с наибольшими продажами."
      ]
    },
    {
      "cell_type": "code",
      "execution_count": null,
      "id": "12020d21",
      "metadata": {
        "id": "12020d21",
        "outputId": "b7e41e74-b229-479a-8a11-a357fd100afc"
      },
      "outputs": [
        {
          "data": {
            "text/plain": [
              "Index(['PS2', 'X360', 'PS3', 'Wii', 'DS', 'PS', 'PS4', 'GBA'], dtype='object', name='platform')"
            ]
          },
          "execution_count": 28,
          "metadata": {},
          "output_type": "execute_result"
        }
      ],
      "source": [
        "name_platform = data.groupby('platform')['all_sales'].sum().sort_values(ascending=False).head(8).index\n",
        "name_platform\n",
        "# Вывел первые 8 индексов в отдельный список"
      ]
    },
    {
      "cell_type": "code",
      "execution_count": null,
      "id": "0529c50d",
      "metadata": {
        "id": "0529c50d",
        "outputId": "2003cb01-0fb9-47c3-c64b-efd06c4865f4"
      },
      "outputs": [
        {
          "data": {
            "text/plain": [
              "Text(0.5, 1.0, 'distribution of platform by year')"
            ]
          },
          "execution_count": 29,
          "metadata": {},
          "output_type": "execute_result"
        },
        {
          "data": {
            "image/png": "[encoded data removed]",
            "text/plain": [
              "<Figure size 864x432 with 1 Axes>"
            ]
          },
          "metadata": {
            "needs_background": "light"
          },
          "output_type": "display_data"
        }
      ],
      "source": [
        "for x in name_platform:\n",
        "    data[data['platform'] == x].groupby('year_of_release')['all_sales'].sum().plot(x=\"year_of_release\", figsize = (12, 6))\n",
        "plt.legend(name_platform)\n",
        "plt.title('distribution of platform by year')"
      ]
    },
    {
      "cell_type": "markdown",
      "id": "3475af19",
      "metadata": {
        "id": "3475af19"
      },
      "source": [
        "<div class=\"alert alert-info\"> Исправил. </div>"
      ]
    },
    {
      "cell_type": "markdown",
      "id": "555c0fc1",
      "metadata": {
        "id": "555c0fc1"
      },
      "source": [
        "По графикам можно определить что средний срок жизни одной платформы составляет около 10 лет. \n",
        "\n",
        "Для определения платформ которые находятся на подъёме нужно взять меньше чем половину от этого срока. Возьму для рассмотрения 4 года, от 2013 до 2017."
      ]
    },
    {
      "cell_type": "markdown",
      "id": "d6e209f2",
      "metadata": {
        "id": "d6e209f2"
      },
      "source": [
        "<div class=\"alert alert-info\"> Исправил. </div>"
      ]
    },
    {
      "cell_type": "code",
      "execution_count": null,
      "id": "f0b3664a",
      "metadata": {
        "id": "f0b3664a"
      },
      "outputs": [],
      "source": [
        "name_platform_new = data[data['year_of_release']>=2013].groupby('platform')['all_sales'].sum().sort_values(ascending=False).head(10).index\n",
        "# Вывел первые 10 индексов в обновлённый список"
      ]
    },
    {
      "cell_type": "code",
      "execution_count": null,
      "id": "3b3ac3eb",
      "metadata": {
        "id": "3b3ac3eb",
        "outputId": "e2693d13-93af-40d4-a1e1-5c44e9f99f16"
      },
      "outputs": [
        {
          "name": "stdout",
          "output_type": "stream",
          "text": [
            "PS4\n"
          ]
        },
        {
          "data": {
            "image/png": "[encoded data removed]",
            "text/plain": [
              "<Figure size 432x288 with 1 Axes>"
            ]
          },
          "metadata": {
            "needs_background": "light"
          },
          "output_type": "display_data"
        },
        {
          "name": "stdout",
          "output_type": "stream",
          "text": [
            "PS3\n"
          ]
        },
        {
          "data": {
            "image/png": "[encoded data removed]",
            "text/plain": [
              "<Figure size 432x288 with 1 Axes>"
            ]
          },
          "metadata": {
            "needs_background": "light"
          },
          "output_type": "display_data"
        },
        {
          "name": "stdout",
          "output_type": "stream",
          "text": [
            "XOne\n"
          ]
        },
        {
          "data": {
            "image/png": "[encoded data removed]",
            "text/plain": [
              "<Figure size 432x288 with 1 Axes>"
            ]
          },
          "metadata": {
            "needs_background": "light"
          },
          "output_type": "display_data"
        },
        {
          "name": "stdout",
          "output_type": "stream",
          "text": [
            "3DS\n"
          ]
        },
        {
          "data": {
            "image/png": "[encoded data removed]",
            "text/plain": [
              "<Figure size 432x288 with 1 Axes>"
            ]
          },
          "metadata": {
            "needs_background": "light"
          },
          "output_type": "display_data"
        },
        {
          "name": "stdout",
          "output_type": "stream",
          "text": [
            "X360\n"
          ]
        },
        {
          "data": {
            "image/png": "[encoded data removed]",
            "text/plain": [
              "<Figure size 432x288 with 1 Axes>"
            ]
          },
          "metadata": {
            "needs_background": "light"
          },
          "output_type": "display_data"
        },
        {
          "name": "stdout",
          "output_type": "stream",
          "text": [
            "WiiU\n"
          ]
        },
        {
          "data": {
            "image/png": "[encoded data removed]",
            "text/plain": [
              "<Figure size 432x288 with 1 Axes>"
            ]
          },
          "metadata": {
            "needs_background": "light"
          },
          "output_type": "display_data"
        },
        {
          "name": "stdout",
          "output_type": "stream",
          "text": [
            "PC\n"
          ]
        },
        {
          "data": {
            "image/png": "[encoded data removed]",
            "text/plain": [
              "<Figure size 432x288 with 1 Axes>"
            ]
          },
          "metadata": {
            "needs_background": "light"
          },
          "output_type": "display_data"
        },
        {
          "name": "stdout",
          "output_type": "stream",
          "text": [
            "PSV\n"
          ]
        },
        {
          "data": {
            "image/png": "[encoded data removed]",
            "text/plain": [
              "<Figure size 432x288 with 1 Axes>"
            ]
          },
          "metadata": {
            "needs_background": "light"
          },
          "output_type": "display_data"
        },
        {
          "name": "stdout",
          "output_type": "stream",
          "text": [
            "Wii\n"
          ]
        },
        {
          "data": {
            "image/png": "[encoded data removed]",
            "text/plain": [
              "<Figure size 432x288 with 1 Axes>"
            ]
          },
          "metadata": {
            "needs_background": "light"
          },
          "output_type": "display_data"
        },
        {
          "name": "stdout",
          "output_type": "stream",
          "text": [
            "PSP\n"
          ]
        },
        {
          "data": {
            "image/png": "[encoded data removed]",
            "text/plain": [
              "<Figure size 432x288 with 1 Axes>"
            ]
          },
          "metadata": {
            "needs_background": "light"
          },
          "output_type": "display_data"
        }
      ],
      "source": [
        "for x in name_platform_new:\n",
        "    data[(data['platform'] == x)&(data['year_of_release']>=2013)].groupby('year_of_release')['all_sales'].sum().plot(x=\"year_of_release\")\n",
        "    plt.title(f'distribution of {x} by year')\n",
        "    print(x)\n",
        "    plt.show()\n",
        "# Построил графики по количеству продаж по годам на избранных платформах, вывел каждую платформу на отдельный график.   "
      ]
    },
    {
      "cell_type": "code",
      "execution_count": null,
      "id": "925ac2ed",
      "metadata": {
        "id": "925ac2ed",
        "outputId": "04fec003-1dc6-4567-c7fa-be3d8bc304d7"
      },
      "outputs": [
        {
          "data": {
            "text/plain": [
              "Text(0.5, 1.0, 'all distribution by year')"
            ]
          },
          "execution_count": 32,
          "metadata": {},
          "output_type": "execute_result"
        },
        {
          "data": {
            "image/png": "[encoded data removed]",
            "text/plain": [
              "<Figure size 432x288 with 1 Axes>"
            ]
          },
          "metadata": {
            "needs_background": "light"
          },
          "output_type": "display_data"
        }
      ],
      "source": [
        "data.groupby('year_of_release')['all_sales'].sum().plot(x=\"year_of_release\")\n",
        "plt.title('all distribution by year')"
      ]
    },
    {
      "cell_type": "markdown",
      "id": "05b0fc5d",
      "metadata": {
        "id": "05b0fc5d"
      },
      "source": [
        "***Промежуточный вывод***\n",
        "\n",
        "Построив графики для периода 13-17 годов видно что на всех платформах продажи уменьшаются. Более того после периода 2005-2010 года уменьшаются продажи вообще всех игр.\n",
        "\n",
        "Можно предположить, что метрика \"общее количество продаж для одной игры\" нерелевантна и не подходит для данной задачи. Однажды выпущенная игра продаётся достаточно длительное время, поэтому игры выпущенные например в 2010 году в любом случае будут иметь большие продажи чем игры выпущенные в 2017 году из-за накопительного эффекта (одни игры покупали 7 лет а другие только 1 год).\n",
        "\n",
        "К сожалению данных по продажам каждой игры в разделении по годам у нас нет. Поэтому наиболее перспективные платформы можно определить двумя способами. Либо взяв продажи только за один год (лучше всего взять 2016 год тк по условию известно что за 2017 данные не полные). Либо взяв не продажи игр а количество игр выпущенных на платформе (предполагаем что если выпускается много игр то платформа популярна)."
      ]
    },
    {
      "cell_type": "code",
      "execution_count": null,
      "id": "0e85c007",
      "metadata": {
        "id": "0e85c007",
        "outputId": "f6a945f3-818b-4f9f-fc5e-8424dbc7bd73"
      },
      "outputs": [
        {
          "data": {
            "text/plain": [
              "platform\n",
              "PS4     69.25\n",
              "XOne    26.15\n",
              "3DS     15.14\n",
              "PC       5.25\n",
              "WiiU     4.60\n",
              "PSV      4.25\n",
              "PS3      3.60\n",
              "X360     1.52\n",
              "Wii      0.18\n",
              "Name: all_sales, dtype: float64"
            ]
          },
          "execution_count": 33,
          "metadata": {},
          "output_type": "execute_result"
        }
      ],
      "source": [
        " data[data['year_of_release']==2016].groupby('platform')['all_sales'].sum().sort_values(ascending=False)"
      ]
    },
    {
      "cell_type": "code",
      "execution_count": null,
      "id": "95ad7346",
      "metadata": {
        "id": "95ad7346",
        "outputId": "791692fa-3408-4784-b995-2f770d99ff4a"
      },
      "outputs": [
        {
          "name": "stdout",
          "output_type": "stream",
          "text": [
            "PS4\n"
          ]
        },
        {
          "data": {
            "image/png": "[encoded data removed]",
            "text/plain": [
              "<Figure size 432x288 with 1 Axes>"
            ]
          },
          "metadata": {
            "needs_background": "light"
          },
          "output_type": "display_data"
        },
        {
          "name": "stdout",
          "output_type": "stream",
          "text": [
            "PS3\n"
          ]
        },
        {
          "data": {
            "image/png": "[encoded data removed]",
            "text/plain": [
              "<Figure size 432x288 with 1 Axes>"
            ]
          },
          "metadata": {
            "needs_background": "light"
          },
          "output_type": "display_data"
        },
        {
          "name": "stdout",
          "output_type": "stream",
          "text": [
            "XOne\n"
          ]
        },
        {
          "data": {
            "image/png": "[encoded data removed]",
            "text/plain": [
              "<Figure size 432x288 with 1 Axes>"
            ]
          },
          "metadata": {
            "needs_background": "light"
          },
          "output_type": "display_data"
        },
        {
          "name": "stdout",
          "output_type": "stream",
          "text": [
            "3DS\n"
          ]
        },
        {
          "data": {
            "image/png": "[encoded data removed]",
            "text/plain": [
              "<Figure size 432x288 with 1 Axes>"
            ]
          },
          "metadata": {
            "needs_background": "light"
          },
          "output_type": "display_data"
        },
        {
          "name": "stdout",
          "output_type": "stream",
          "text": [
            "X360\n"
          ]
        },
        {
          "data": {
            "image/png": "[encoded data removed]",
            "text/plain": [
              "<Figure size 432x288 with 1 Axes>"
            ]
          },
          "metadata": {
            "needs_background": "light"
          },
          "output_type": "display_data"
        },
        {
          "name": "stdout",
          "output_type": "stream",
          "text": [
            "WiiU\n"
          ]
        },
        {
          "data": {
            "image/png": "[encoded data removed]",
            "text/plain": [
              "<Figure size 432x288 with 1 Axes>"
            ]
          },
          "metadata": {
            "needs_background": "light"
          },
          "output_type": "display_data"
        },
        {
          "name": "stdout",
          "output_type": "stream",
          "text": [
            "PC\n"
          ]
        },
        {
          "data": {
            "image/png": "[encoded data removed]",
            "text/plain": [
              "<Figure size 432x288 with 1 Axes>"
            ]
          },
          "metadata": {
            "needs_background": "light"
          },
          "output_type": "display_data"
        },
        {
          "name": "stdout",
          "output_type": "stream",
          "text": [
            "PSV\n"
          ]
        },
        {
          "data": {
            "image/png": "[encoded data removed]",
            "text/plain": [
              "<Figure size 432x288 with 1 Axes>"
            ]
          },
          "metadata": {
            "needs_background": "light"
          },
          "output_type": "display_data"
        },
        {
          "name": "stdout",
          "output_type": "stream",
          "text": [
            "Wii\n"
          ]
        },
        {
          "data": {
            "image/png": "[encoded data removed]",
            "text/plain": [
              "<Figure size 432x288 with 1 Axes>"
            ]
          },
          "metadata": {
            "needs_background": "light"
          },
          "output_type": "display_data"
        },
        {
          "name": "stdout",
          "output_type": "stream",
          "text": [
            "PSP\n"
          ]
        },
        {
          "data": {
            "image/png": "[encoded data removed]",
            "text/plain": [
              "<Figure size 432x288 with 1 Axes>"
            ]
          },
          "metadata": {
            "needs_background": "light"
          },
          "output_type": "display_data"
        }
      ],
      "source": [
        "for x in name_platform_new:\n",
        "    data[(data['platform'] == x)&(data['year_of_release']>=2013)].groupby('year_of_release')['name'].count().plot(x=\"year_of_release\")\n",
        "    plt.title(f'distribution of {x} by year')\n",
        "    print(x)\n",
        "    plt.show()"
      ]
    },
    {
      "cell_type": "code",
      "execution_count": null,
      "id": "4d24ff1e",
      "metadata": {
        "id": "4d24ff1e"
      },
      "outputs": [],
      "source": [
        "data_old = data.copy(deep=True)\n",
        "data = data[data['year_of_release']>=2013]\n",
        "# Отбрасываю все данные старше 2010 года.\n",
        "# На всякий случай сохраняю полные данные под именем data_old."
      ]
    },
    {
      "cell_type": "code",
      "execution_count": null,
      "id": "112ebb31",
      "metadata": {
        "id": "112ebb31",
        "outputId": "8635bd78-cae3-4a7f-f866-8d75591cfc92"
      },
      "outputs": [
        {
          "name": "stdout",
          "output_type": "stream",
          "text": [
            "<class 'pandas.core.frame.DataFrame'>\n",
            "Int64Index: 2233 entries, 16 to 16714\n",
            "Data columns (total 12 columns):\n",
            "name               2233 non-null object\n",
            "platform           2233 non-null object\n",
            "year_of_release    2233 non-null int64\n",
            "genre              2233 non-null object\n",
            "na_sales           2233 non-null float64\n",
            "eu_sales           2233 non-null float64\n",
            "jp_sales           2233 non-null float64\n",
            "other_sales        2233 non-null float64\n",
            "critic_score       991 non-null float64\n",
            "user_score         1192 non-null float64\n",
            "rating             1256 non-null object\n",
            "all_sales          2233 non-null float64\n",
            "dtypes: float64(7), int64(1), object(4)\n",
            "memory usage: 226.8+ KB\n"
          ]
        }
      ],
      "source": [
        "data.info()"
      ]
    },
    {
      "cell_type": "markdown",
      "id": "970be31a",
      "metadata": {
        "id": "970be31a"
      },
      "source": [
        "В конечном итоге осталось 5277 значений, что вполне достаточно для анализа."
      ]
    },
    {
      "cell_type": "code",
      "execution_count": null,
      "id": "d9fc31ac",
      "metadata": {
        "id": "d9fc31ac",
        "outputId": "66df4952-4297-4e1e-86a7-672ac3082ab1"
      },
      "outputs": [
        {
          "name": "stderr",
          "output_type": "stream",
          "text": [
            "/opt/conda/lib/python3.7/site-packages/numpy/core/_asarray.py:83: VisibleDeprecationWarning: Creating an ndarray from ragged nested sequences (which is a list-or-tuple of lists-or-tuples-or ndarrays with different lengths or shapes) is deprecated. If you meant to do this, you must specify 'dtype=object' when creating the ndarray\n",
            "  return array(a, dtype, copy=False, order=order)\n"
          ]
        },
        {
          "data": {
            "text/plain": [
              "Text(0, 0.5, 'all sales')"
            ]
          },
          "execution_count": 37,
          "metadata": {},
          "output_type": "execute_result"
        },
        {
          "data": {
            "image/png": "[encoded data removed]",
            "text/plain": [
              "<Figure size 576x576 with 1 Axes>"
            ]
          },
          "metadata": {
            "needs_background": "light"
          },
          "output_type": "display_data"
        }
      ],
      "source": [
        "fig, axs = plt.subplots(figsize=(8, 8), tight_layout=True)\n",
        "\n",
        "plt.boxplot ([data[data['platform'] == 'XOne']['all_sales'],\n",
        "              data[data['platform'] == 'PC']['all_sales'],\n",
        "              data[data['platform'] == 'PS4']['all_sales'],\n",
        "             data[data['platform'] == '3DS']['all_sales']],\n",
        "             labels = ('XOne', 'PC', 'PS4', '3DS'), whis = (5, 95)\n",
        "              )\n",
        "plt.title('Statistics all sales XOne, PC, 3DS and PS4')\n",
        "axs.set_ylabel('all sales')\n",
        "# Построил ящики с усами для выбранных платформ."
      ]
    },
    {
      "cell_type": "code",
      "execution_count": null,
      "id": "c2f92e13",
      "metadata": {
        "id": "c2f92e13",
        "outputId": "be4c0222-811c-4a67-ed5f-7f1d19f1f740"
      },
      "outputs": [
        {
          "name": "stderr",
          "output_type": "stream",
          "text": [
            "/opt/conda/lib/python3.7/site-packages/numpy/core/_asarray.py:83: VisibleDeprecationWarning: Creating an ndarray from ragged nested sequences (which is a list-or-tuple of lists-or-tuples-or ndarrays with different lengths or shapes) is deprecated. If you meant to do this, you must specify 'dtype=object' when creating the ndarray\n",
            "  return array(a, dtype, copy=False, order=order)\n"
          ]
        },
        {
          "data": {
            "text/plain": [
              "Text(0.5, 1.0, 'Statistics all sales XOne, PC, 3DS and PS4')"
            ]
          },
          "execution_count": 38,
          "metadata": {},
          "output_type": "execute_result"
        },
        {
          "data": {
            "image/png": "[encoded data removed]",
            "text/plain": [
              "<Figure size 576x576 with 1 Axes>"
            ]
          },
          "metadata": {
            "needs_background": "light"
          },
          "output_type": "display_data"
        }
      ],
      "source": [
        "fig, axs = plt.subplots(figsize=(8, 8), tight_layout=True)\n",
        "\n",
        "plt.boxplot ([data[data['platform'] == 'XOne']['all_sales'],\n",
        "              data[data['platform'] == 'PC']['all_sales'],\n",
        "              data[data['platform'] == 'PS4']['all_sales'],\n",
        "             data[data['platform'] == '3DS']['all_sales']],\n",
        "             labels = ('XOne', 'PC', 'PS4', '3DS'), whis = (5, 95)\n",
        "              )\n",
        "plt.ylim([0, 3])\n",
        "axs.set_ylabel('all sales')\n",
        "plt.title('Statistics all sales XOne, PC, 3DS and PS4')"
      ]
    },
    {
      "cell_type": "markdown",
      "id": "f34d1b7a",
      "metadata": {
        "id": "f34d1b7a"
      },
      "source": [
        "Глядя на диаграммы можно заметить большое количество выбросов. При этом медианные значения для всех платформ близки к нулю. Из этого можно сделать вывод что большая часть игр продаются довольно слабо и ситуацию спасают только некоторые игры которые продаются в десятки и сотни раз лучше среднего. \n",
        "\n",
        "Если обрезать выбросы (наиболее продаваемые игры) видно что медиана и 50% значений (25-75 процентили) у платформ XOne и PS4 заметно выше чем у 'PC' и '3DS."
      ]
    },
    {
      "cell_type": "code",
      "execution_count": null,
      "id": "0b97b31d",
      "metadata": {
        "scrolled": false,
        "id": "0b97b31d",
        "outputId": "84cd520b-801b-4267-cc39-bed300503055"
      },
      "outputs": [
        {
          "data": {
            "text/plain": [
              "Text(0.5, 1.0, 'dependence of the user score on sales XOne')"
            ]
          },
          "execution_count": 39,
          "metadata": {},
          "output_type": "execute_result"
        },
        {
          "data": {
            "image/png": "[encoded data removed]",
            "text/plain": [
              "<Figure size 432x288 with 1 Axes>"
            ]
          },
          "metadata": {
            "needs_background": "light"
          },
          "output_type": "display_data"
        },
        {
          "data": {
            "image/png": "[encoded data removed]",
            "text/plain": [
              "<Figure size 432x288 with 1 Axes>"
            ]
          },
          "metadata": {
            "needs_background": "light"
          },
          "output_type": "display_data"
        }
      ],
      "source": [
        "data[data['platform'] == 'XOne'].plot(x='critic_score', y='all_sales', kind='scatter') \n",
        "plt.title('dependence of the critic score on sales XOne')\n",
        "data[data['platform'] == 'XOne'].plot(x='user_score', y='all_sales', kind='scatter') \n",
        "plt.title('dependence of the user score on sales XOne')"
      ]
    },
    {
      "cell_type": "code",
      "execution_count": null,
      "id": "0c43f048",
      "metadata": {
        "id": "0c43f048",
        "outputId": "4f7f50cf-9d02-4a5e-8ced-d022b2d5a76d"
      },
      "outputs": [
        {
          "name": "stdout",
          "output_type": "stream",
          "text": [
            "Корреляция продаж и оценок критиков: 0.4169983280084017\n",
            "Корреляция продаж и оценок пользователей: -0.06892505328279414\n"
          ]
        }
      ],
      "source": [
        "print('Корреляция продаж и оценок критиков:', data[data['platform'] == 'XOne']['critic_score'].corr(data[data['platform'] == 'XOne']['all_sales']))\n",
        "print('Корреляция продаж и оценок пользователей:', data[data['platform'] == 'XOne']['user_score'].corr(data[data['platform'] == 'XOne']['all_sales']))"
      ]
    },
    {
      "cell_type": "markdown",
      "id": "53912c60",
      "metadata": {
        "id": "53912c60"
      },
      "source": [
        "Для платформы 'XOne' можно сделать вывод что корреляция между оценками критиков и продажами существует, хоть и не является сильно выраженной. Корреляция между оценками пользователей и продажами практический отсутствует."
      ]
    },
    {
      "cell_type": "code",
      "execution_count": null,
      "id": "8b9080c7",
      "metadata": {
        "id": "8b9080c7",
        "outputId": "347629a5-bb42-4c33-dc90-814e50b7d135"
      },
      "outputs": [
        {
          "data": {
            "text/plain": [
              "Text(0.5, 1.0, 'dependence of the user score on sales PS4')"
            ]
          },
          "execution_count": 41,
          "metadata": {},
          "output_type": "execute_result"
        },
        {
          "data": {
            "image/png": "[encoded data removed]",
            "text/plain": [
              "<Figure size 432x288 with 1 Axes>"
            ]
          },
          "metadata": {
            "needs_background": "light"
          },
          "output_type": "display_data"
        },
        {
          "data": {
            "image/png": "[encoded data removed]",
            "text/plain": [
              "<Figure size 432x288 with 1 Axes>"
            ]
          },
          "metadata": {
            "needs_background": "light"
          },
          "output_type": "display_data"
        }
      ],
      "source": [
        "data[data['platform'] == 'PS4'].plot(x='critic_score', y='all_sales', kind='scatter') \n",
        "plt.title('dependence of the critic score on sales PS4')\n",
        "data[data['platform'] == 'PS4'].plot(x='user_score', y='all_sales', kind='scatter') \n",
        "plt.title('dependence of the user score on sales PS4')"
      ]
    },
    {
      "cell_type": "code",
      "execution_count": null,
      "id": "f2c2560b",
      "metadata": {
        "id": "f2c2560b",
        "outputId": "2e086270-e00f-4342-eb85-73852fe9d724"
      },
      "outputs": [
        {
          "name": "stdout",
          "output_type": "stream",
          "text": [
            "Корреляция продаж и оценок критиков: 0.40656790206178095\n",
            "Корреляция продаж и оценок пользователей: -0.031957110204556424\n"
          ]
        }
      ],
      "source": [
        "print('Корреляция продаж и оценок критиков:', data[data['platform'] == 'PS4']['critic_score'].corr(data[data['platform'] == 'PS4']['all_sales']))\n",
        "print('Корреляция продаж и оценок пользователей:', data[data['platform'] == 'PS4']['user_score'].corr(data[data['platform'] == 'PS4']['all_sales']))"
      ]
    },
    {
      "cell_type": "markdown",
      "id": "31e0fc33",
      "metadata": {
        "id": "31e0fc33"
      },
      "source": [
        "Для платформы ***'PS4'*** картина такая же как и для ***'XOne'***, небольшая корреляция между оценками критиков и продажами и практический никакой корреляции между оценками пользователей и продажами."
      ]
    },
    {
      "cell_type": "code",
      "execution_count": null,
      "id": "72e4a1da",
      "metadata": {
        "id": "72e4a1da",
        "outputId": "adc2d0e0-0743-48c7-8433-0991a7bb0010"
      },
      "outputs": [
        {
          "data": {
            "text/plain": [
              "Text(0.5, 1.0, 'dependence of the user score on sales PC')"
            ]
          },
          "execution_count": 43,
          "metadata": {},
          "output_type": "execute_result"
        },
        {
          "data": {
            "image/png": "[encoded data removed]",
            "text/plain": [
              "<Figure size 432x288 with 1 Axes>"
            ]
          },
          "metadata": {
            "needs_background": "light"
          },
          "output_type": "display_data"
        },
        {
          "data": {
            "image/png": "[encoded data removed]",
            "text/plain": [
              "<Figure size 432x288 with 1 Axes>"
            ]
          },
          "metadata": {
            "needs_background": "light"
          },
          "output_type": "display_data"
        }
      ],
      "source": [
        "data[data['platform'] == 'PC'].plot(x='critic_score', y='all_sales', kind='scatter') \n",
        "plt.title('dependence of the critic score on sales PC')\n",
        "data[data['platform'] == 'PC'].plot(x='user_score', y='all_sales', kind='scatter') \n",
        "plt.title('dependence of the user score on sales PC')"
      ]
    },
    {
      "cell_type": "code",
      "execution_count": null,
      "id": "e8c8f713",
      "metadata": {
        "id": "e8c8f713",
        "outputId": "764da3f3-bef8-426c-e6ca-f5525f914e3a"
      },
      "outputs": [
        {
          "name": "stdout",
          "output_type": "stream",
          "text": [
            "Корреляция продаж и оценок критиков: 0.19603028294369382\n",
            "Корреляция продаж и оценок пользователей: -0.0938418695247674\n"
          ]
        }
      ],
      "source": [
        "print('Корреляция продаж и оценок критиков:', data[data['platform'] == 'PC']['critic_score'].corr(data[data['platform'] == 'PC']['all_sales']))\n",
        "print('Корреляция продаж и оценок пользователей:', data[data['platform'] == 'PC']['user_score'].corr(data[data['platform'] == 'PC']['all_sales']))"
      ]
    },
    {
      "cell_type": "markdown",
      "id": "b5569ab8",
      "metadata": {
        "id": "b5569ab8"
      },
      "source": [
        "Для платформы ***'PC'*** мы  вообще не видим корреляцию между продажами и оценками что пользователей что критиков."
      ]
    },
    {
      "cell_type": "code",
      "execution_count": null,
      "id": "a2a93921",
      "metadata": {
        "id": "a2a93921",
        "outputId": "780ebbd3-24a6-4b78-e2c1-cb537fb7f317"
      },
      "outputs": [
        {
          "data": {
            "text/plain": [
              "Text(0.5, 1.0, 'dependence of the user score on sales 3DS')"
            ]
          },
          "execution_count": 45,
          "metadata": {},
          "output_type": "execute_result"
        },
        {
          "data": {
            "image/png": "[encoded data removed]",
            "text/plain": [
              "<Figure size 432x288 with 1 Axes>"
            ]
          },
          "metadata": {
            "needs_background": "light"
          },
          "output_type": "display_data"
        },
        {
          "data": {
            "image/png": "[encoded data removed]",
            "text/plain": [
              "<Figure size 432x288 with 1 Axes>"
            ]
          },
          "metadata": {
            "needs_background": "light"
          },
          "output_type": "display_data"
        }
      ],
      "source": [
        "data[data['platform'] == '3DS'].plot(x='critic_score', y='all_sales', kind='scatter') \n",
        "plt.title('dependence of the critic score on sales 3DS')\n",
        "data[data['platform'] == '3DS'].plot(x='user_score', y='all_sales', kind='scatter') \n",
        "plt.title('dependence of the user score on sales 3DS')"
      ]
    },
    {
      "cell_type": "code",
      "execution_count": null,
      "id": "60ad216e",
      "metadata": {
        "id": "60ad216e",
        "outputId": "9fd2752e-6c5a-4cd5-9992-e498ad28369f"
      },
      "outputs": [
        {
          "name": "stdout",
          "output_type": "stream",
          "text": [
            "Корреляция продаж и оценок критиков: 0.3570566142288103\n",
            "Корреляция продаж и оценок пользователей: 0.24150411773563016\n"
          ]
        }
      ],
      "source": [
        "print('Корреляция продаж и оценок критиков:', data[data['platform'] == '3DS']['critic_score'].corr(data[data['platform'] == '3DS']['all_sales']))\n",
        "print('Корреляция продаж и оценок пользователей:', data[data['platform'] == '3DS']['user_score'].corr(data[data['platform'] == '3DS']['all_sales']))"
      ]
    },
    {
      "cell_type": "markdown",
      "id": "8dcdbb9d",
      "metadata": {
        "id": "8dcdbb9d"
      },
      "source": [
        "Для платформы '3DS' можно сделать вывод что корреляция между оценками критиков и продажами существует, хоть и не является сильно выраженной. Корреляция между оценками пользователей и продажами на грани значимости."
      ]
    },
    {
      "cell_type": "code",
      "execution_count": null,
      "id": "6140620c",
      "metadata": {
        "id": "6140620c",
        "outputId": "6428d1d8-2bb5-4fd6-9039-b4504009146b"
      },
      "outputs": [
        {
          "data": {
            "text/plain": [
              "genre\n",
              "Action          321.87\n",
              "Shooter         232.98\n",
              "Sports          150.65\n",
              "Role-Playing    145.89\n",
              "Misc             62.82\n",
              "Platform         42.63\n",
              "Racing           39.89\n",
              "Fighting         35.31\n",
              "Adventure        23.64\n",
              "Simulation       21.76\n",
              "Strategy         10.08\n",
              "Puzzle            3.17\n",
              "Name: all_sales, dtype: float64"
            ]
          },
          "execution_count": 47,
          "metadata": {},
          "output_type": "execute_result"
        }
      ],
      "source": [
        "data.groupby('genre')['all_sales'].sum().sort_values(ascending=False)\n",
        "# Вывел суммарную выручку игр по жанрам в порядке убывания"
      ]
    },
    {
      "cell_type": "code",
      "execution_count": null,
      "id": "52bcd599",
      "metadata": {
        "id": "52bcd599",
        "outputId": "513624ae-c7f7-44a3-d4e4-165fdc04fb2b"
      },
      "outputs": [
        {
          "data": {
            "text/plain": [
              "Text(0.5, 1.0, '8 best genre on sales')"
            ]
          },
          "execution_count": 48,
          "metadata": {},
          "output_type": "execute_result"
        },
        {
          "data": {
            "image/png": "[encoded data removed]",
            "text/plain": [
              "<Figure size 648x648 with 1 Axes>"
            ]
          },
          "metadata": {
            "needs_background": "light"
          },
          "output_type": "display_data"
        }
      ],
      "source": [
        "data.groupby('genre')['all_sales'].sum().sort_values(ascending=False).reset_index().head(8).plot(x=\"genre\", y=\"all_sales\",\n",
        "                                                                                                 kind=\"bar\", rot=5, fontsize=12, figsize = (9, 9))\n",
        "xlabel='genre'\n",
        "plt.title('8 best genre on sales')    "
      ]
    },
    {
      "cell_type": "code",
      "execution_count": null,
      "id": "86c3bced",
      "metadata": {
        "id": "86c3bced",
        "outputId": "f3acd60c-fbc1-41b2-802c-db361db23617"
      },
      "outputs": [
        {
          "data": {
            "text/plain": [
              "genre\n",
              "Action          766\n",
              "Role-Playing    292\n",
              "Adventure       245\n",
              "Sports          214\n",
              "Shooter         187\n",
              "Misc            155\n",
              "Racing           85\n",
              "Fighting         80\n",
              "Platform         74\n",
              "Simulation       62\n",
              "Strategy         56\n",
              "Puzzle           17\n",
              "Name: name, dtype: int64"
            ]
          },
          "execution_count": 49,
          "metadata": {},
          "output_type": "execute_result"
        }
      ],
      "source": [
        "data.groupby('genre')['name'].count().sort_values(ascending=False)\n",
        "# Вывел количество выпущенных игр по жанрам в порядке убывания"
      ]
    },
    {
      "cell_type": "code",
      "execution_count": null,
      "id": "a7d83f8e",
      "metadata": {
        "id": "a7d83f8e",
        "outputId": "1eb028ff-1bbc-480b-a95d-77c3bbf9a4e3"
      },
      "outputs": [
        {
          "data": {
            "text/plain": [
              "Text(0.5, 1.0, '8 best genre on quantity')"
            ]
          },
          "execution_count": 50,
          "metadata": {},
          "output_type": "execute_result"
        },
        {
          "data": {
            "image/png": "[encoded data removed]",
            "text/plain": [
              "<Figure size 648x648 with 1 Axes>"
            ]
          },
          "metadata": {
            "needs_background": "light"
          },
          "output_type": "display_data"
        }
      ],
      "source": [
        "data.groupby('genre')['name'].count().sort_values(ascending=False).reset_index().head(8).plot(x=\"genre\", y=\"name\",\n",
        "                                                                                                 kind=\"bar\", rot=15, fontsize=12, figsize = (9, 9))\n",
        "xlabel='genre'\n",
        "plt.title('8 best genre on quantity')    "
      ]
    },
    {
      "cell_type": "code",
      "execution_count": null,
      "id": "ebbba80d",
      "metadata": {
        "id": "ebbba80d",
        "outputId": "eb8f9388-b4a9-45bc-fac1-0587141ee609"
      },
      "outputs": [
        {
          "data": {
            "text/plain": [
              "genre\n",
              "Shooter         1.245882\n",
              "Sports          0.703972\n",
              "Platform        0.576081\n",
              "Role-Playing    0.499623\n",
              "Racing          0.469294\n",
              "Fighting        0.441375\n",
              "Action          0.420196\n",
              "Misc            0.405290\n",
              "Simulation      0.350968\n",
              "Puzzle          0.186471\n",
              "Strategy        0.180000\n",
              "Adventure       0.096490\n",
              "Name: all_sales, dtype: float64"
            ]
          },
          "execution_count": 51,
          "metadata": {},
          "output_type": "execute_result"
        }
      ],
      "source": [
        "data.groupby('genre')['all_sales'].mean().sort_values(ascending=False)\n",
        "# Вывел среднюю выручку по жанрам в порядке убывания"
      ]
    },
    {
      "cell_type": "code",
      "execution_count": null,
      "id": "01fcd01a",
      "metadata": {
        "id": "01fcd01a",
        "outputId": "9b0f4be5-edb9-4193-9e66-91b1d81730d0"
      },
      "outputs": [
        {
          "name": "stderr",
          "output_type": "stream",
          "text": [
            "/opt/conda/lib/python3.7/site-packages/numpy/core/_asarray.py:83: VisibleDeprecationWarning: Creating an ndarray from ragged nested sequences (which is a list-or-tuple of lists-or-tuples-or ndarrays with different lengths or shapes) is deprecated. If you meant to do this, you must specify 'dtype=object' when creating the ndarray\n",
            "  return array(a, dtype, copy=False, order=order)\n"
          ]
        },
        {
          "data": {
            "text/plain": [
              "(0, 5)"
            ]
          },
          "execution_count": 52,
          "metadata": {},
          "output_type": "execute_result"
        },
        {
          "data": {
            "image/png": "[encoded data removed]",
            "text/plain": [
              "<Figure size 576x576 with 1 Axes>"
            ]
          },
          "metadata": {
            "needs_background": "light"
          },
          "output_type": "display_data"
        }
      ],
      "source": [
        "fig, axs = plt.subplots(figsize=(8, 8), tight_layout=True)\n",
        "\n",
        "plt.boxplot ([data[data['genre'] == 'Shooter']['all_sales'],\n",
        "              data[data['genre'] == 'Platform']['all_sales'],\n",
        "              data[data['genre'] == 'Sports']['all_sales'],\n",
        "             data[data['genre'] == 'Role-Playing']['all_sales']],\n",
        "             labels = ('Shooter', 'Platform', 'Sports', 'Role-Playing'), whis = (5, 95)\n",
        "              )\n",
        "plt.title('Statistics all sales Shooter, Platform, Sports, Role-Playing')\n",
        "axs.set_ylabel('all sales')\n",
        "plt.ylim([0, 5])\n",
        "# Построил ящики с усами для выбранных жанров."
      ]
    },
    {
      "cell_type": "markdown",
      "id": "9cdb8ecf",
      "metadata": {
        "id": "9cdb8ecf"
      },
      "source": [
        "Если смотреть распределение по количеству продаж и количеству выпущенных игр то можно заметить что наиболее популярен Action. Самый непопулярный это  Puzzle. Можно заметить что жанры заметно различаются по популярности, жанры с максиальными и минимальными продажами отличаются более чем на порядок. \n",
        "\n",
        "Но если разделить продажи на общее количество игр в каждом жанре (найти среднее) то можно заметить что самую высокую выручку в расчёте на одну игру приносят Shooter и Sports. У них наиболее высокие и среднее и медиана и распределение и 50% значений (25-75 процентили)."
      ]
    },
    {
      "cell_type": "markdown",
      "id": "0985ab27",
      "metadata": {
        "id": "0985ab27"
      },
      "source": [
        "### Вывод\n",
        "\n",
        "Провёл исследование для определения времени жизни платформ и интересующего временного интервала, нашёл наиболее популярные платформы, и определил наиболее популярные жанры. Определил что отзывы критиков очень слабо связаны с продажами игр а отзывы пользователей практический совсем не связаны с продажами."
      ]
    },
    {
      "cell_type": "markdown",
      "id": "cfddac02",
      "metadata": {
        "id": "cfddac02"
      },
      "source": [
        "## 4 Определение портрета пользователя каждого региона"
      ]
    },
    {
      "cell_type": "markdown",
      "id": "2d2b4921",
      "metadata": {
        "id": "2d2b4921"
      },
      "source": [
        "Определить для пользователя каждого региона (NA, EU, JP):\n",
        "- Самые популярные платформы (топ-5). Опишите различия в долях продаж.\n",
        "- Самые популярные жанры (топ-5). Поясните разницу.\n",
        "- Влияет ли рейтинг ESRB на продажи в отдельном регионе?\n"
      ]
    },
    {
      "cell_type": "code",
      "execution_count": null,
      "id": "253915a9",
      "metadata": {
        "id": "253915a9"
      },
      "outputs": [],
      "source": [
        "data.loc[data['rating'].isna(), ['rating']] = 'unknown'"
      ]
    },
    {
      "cell_type": "code",
      "execution_count": null,
      "id": "052f81be",
      "metadata": {
        "id": "052f81be"
      },
      "outputs": [],
      "source": [
        "#fig = plt.figure(figsize=(14, 10))\n",
        "#axs1 = fig.add_subplot(1, 3, 1)\n",
        "#axs2 = fig.add_subplot(1, 3, 2)\n",
        "#axs3 = fig.add_subplot(1, 3, 3)\n",
        "#axs1.pie((*list(data.groupby('genre')['na_sales'].sum().sort_values(ascending=False).head(5)),\n",
        "#          data.groupby('genre')['na_sales'].sum().sort_values(ascending=False)[5::].sum()),\n",
        "#        labels = (*data.groupby('genre')['na_sales'].sum().sort_values(ascending=False).head(5).index, 'other'),\n",
        "#        autopct='%1.1f%%')\n",
        "#axs1.set(title='genre north america')\n",
        "#axs2.pie((*list(data.groupby('genre')['eu_sales'].sum().sort_values(ascending=False).head(5)),\n",
        "#          data.groupby('genre')['eu_sales'].sum().sort_values(ascending=False)[5::].sum()),\n",
        "#       labels = (*data.groupby('genre')['eu_sales'].sum().sort_values(ascending=False).head(5).index, 'other'),\n",
        "#        autopct='%1.1f%%')\n",
        "#axs2.set(title='genre europe')\n",
        "#axs3.pie((*list(data.groupby('genre')['jp_sales'].sum().sort_values(ascending=False).head(5)),\n",
        "#          data.groupby('genre')['jp_sales'].sum().sort_values(ascending=False)[5::].sum()),\n",
        "#        labels = (*data.groupby('genre')['jp_sales'].sum().sort_values(ascending=False).head(5).index, 'other'),\n",
        "#        autopct='%1.1f%%')\n",
        "#axs3.set(title='genre japan')\n",
        "\n",
        "\n",
        "# Образец построения отдельных графиков если общий поломается."
      ]
    },
    {
      "cell_type": "code",
      "execution_count": null,
      "id": "1ea881d3",
      "metadata": {
        "id": "1ea881d3",
        "outputId": "51ab4fc5-0bc3-4c7a-b412-87e0faf076ad"
      },
      "outputs": [
        {
          "data": {
            "text/plain": [
              "[Text(0.5, 1.0, 'platform japan')]"
            ]
          },
          "execution_count": 55,
          "metadata": {},
          "output_type": "execute_result"
        },
        {
          "data": {
            "image/png": "[encoded data removed]",
            "text/plain": [
              "<Figure size 1152x1152 with 9 Axes>"
            ]
          },
          "metadata": {},
          "output_type": "display_data"
        }
      ],
      "source": [
        "fig, axes = plt.subplots(nrows = 3, ncols =3, figsize=(16, 16))\n",
        "\n",
        "axes[0, 0].pie(data.groupby('rating')['na_sales'].sum().sort_values(ascending=False).head(5),\n",
        "        labels = data.groupby('rating')['na_sales'].sum().sort_values(ascending=False).head(5).index,\n",
        "        autopct='%1.1f%%')\n",
        "axes[0, 0].set(title='rating north america')\n",
        "\n",
        "axes[0, 1].pie(data.groupby('rating')['eu_sales'].sum().sort_values(ascending=False).head(5),\n",
        "        labels = data.groupby('rating')['eu_sales'].sum().sort_values(ascending=False).head(5).index,\n",
        "        autopct='%1.1f%%')\n",
        "axes[0, 1].set(title='rating europe')\n",
        "\n",
        "axes[0, 2].pie(data.groupby('rating')['jp_sales'].sum().sort_values(ascending=False).head(5),\n",
        "        labels = data.groupby('rating')['jp_sales'].sum().sort_values(ascending=False).head(5).index,\n",
        "        autopct='%1.1f%%')\n",
        "axes[0, 2].set(title='rating japan')\n",
        "\n",
        "axes[1, 0].pie((*list(data.groupby('genre')['na_sales'].sum().sort_values(ascending=False).head(5)),\n",
        "          data.groupby('genre')['na_sales'].sum().sort_values(ascending=False)[5::].sum()),\n",
        "        labels = (*data.groupby('genre')['na_sales'].sum().sort_values(ascending=False).head(5).index, 'other'),\n",
        "        autopct='%1.1f%%')\n",
        "axes[1, 0].set(title='genre north america')\n",
        "\n",
        "axes[1, 1].pie((*list(data.groupby('genre')['eu_sales'].sum().sort_values(ascending=False).head(5)),\n",
        "          data.groupby('genre')['eu_sales'].sum().sort_values(ascending=False)[5::].sum()),\n",
        "        labels = (*data.groupby('genre')['eu_sales'].sum().sort_values(ascending=False).head(5).index, 'other'),\n",
        "        autopct='%1.1f%%')\n",
        "axes[1, 1].set(title='genre europe')\n",
        "\n",
        "axes[1, 2].pie((*list(data.groupby('genre')['jp_sales'].sum().sort_values(ascending=False).head(5)),\n",
        "          data.groupby('genre')['jp_sales'].sum().sort_values(ascending=False)[5::].sum()),\n",
        "        labels = (*data.groupby('genre')['jp_sales'].sum().sort_values(ascending=False).head(5).index, 'other'),\n",
        "        autopct='%1.1f%%')\n",
        "axes[1, 2].set(title='genre japan')\n",
        "\n",
        "axes[2, 0].pie((*list(data.groupby('platform')['na_sales'].sum().sort_values(ascending=False).head(5)),\n",
        "          data.groupby('platform')['na_sales'].sum().sort_values(ascending=False)[5::].sum()),\n",
        "        labels = (*data.groupby('platform')['na_sales'].sum().sort_values(ascending=False).head(5).index, 'other'),\n",
        "        autopct='%1.1f%%')\n",
        "axes[2, 0].set(title='platform north america')\n",
        "\n",
        "axes[2, 1].pie((*list(data.groupby('platform')['eu_sales'].sum().sort_values(ascending=False).head(5)),\n",
        "          data.groupby('platform')['eu_sales'].sum().sort_values(ascending=False)[5::].sum()),\n",
        "        labels = (*data.groupby('platform')['eu_sales'].sum().sort_values(ascending=False).head(5).index, 'other'),\n",
        "        autopct='%1.1f%%')\n",
        "axes[2, 1].set(title='platform europe')\n",
        "\n",
        "axes[2, 2].pie((*list(data.groupby('platform')['jp_sales'].sum().sort_values(ascending=False).head(5)),\n",
        "          data.groupby('platform')['jp_sales'].sum().sort_values(ascending=False)[5::].sum()),\n",
        "        labels = (*data.groupby('platform')['jp_sales'].sum().sort_values(ascending=False).head(5).index, 'other'),\n",
        "        autopct='%1.1f%%')\n",
        "axes[2, 2].set(title='platform japan')"
      ]
    },
    {
      "cell_type": "code",
      "execution_count": null,
      "id": "4d32f107",
      "metadata": {
        "id": "4d32f107",
        "outputId": "8ff68eab-7fce-45ba-fea7-7450803cd4b7"
      },
      "outputs": [
        {
          "name": "stdout",
          "output_type": "stream",
          "text": [
            "Продажи по жанрам в Америке:\n",
            "genre\n",
            "Action          126.05\n",
            "Shooter         109.74\n",
            "Sports           65.27\n",
            "Role-Playing     46.40\n",
            "Misc             27.49\n",
            "Name: na_sales, dtype: float64\n",
            "\n",
            "Продажи по платформам в Америке:\n",
            "platform\n",
            "PS4     108.74\n",
            "XOne     93.12\n",
            "X360     81.66\n",
            "PS3      63.50\n",
            "3DS      38.20\n",
            "Name: na_sales, dtype: float64\n",
            "\n",
            "Продажи по возрастному рейтингу в Америке:\n",
            "rating\n",
            "M          165.21\n",
            "unknown     89.42\n",
            "E           79.05\n",
            "E10+        54.24\n",
            "T           49.79\n",
            "Name: na_sales, dtype: float64\n"
          ]
        }
      ],
      "source": [
        "print('Продажи по жанрам в Америке:', data.groupby('genre')['na_sales'].sum().sort_values(ascending=False).head(5), '',\n",
        "      'Продажи по платформам в Америке:', data.groupby('platform')['na_sales'].sum().sort_values(ascending=False).head(5), '',\n",
        "      'Продажи по возрастному рейтингу в Америке:',\n",
        "      data.groupby('rating')['na_sales'].sum().sort_values(ascending=False).head(5), sep = '\\n')"
      ]
    },
    {
      "cell_type": "code",
      "execution_count": null,
      "id": "2927d598",
      "metadata": {
        "id": "2927d598",
        "outputId": "112f1a06-11d1-4e47-a42a-6e3509133ffa"
      },
      "outputs": [
        {
          "name": "stdout",
          "output_type": "stream",
          "text": [
            "Продажи по жанрам в Европе:\n",
            "genre\n",
            "Action          118.13\n",
            "Shooter          87.86\n",
            "Sports           60.52\n",
            "Role-Playing     36.97\n",
            "Racing           20.19\n",
            "Name: eu_sales, dtype: float64\n",
            "\n",
            "Продажи по платформам в Европе:\n",
            "platform\n",
            "PS4     141.09\n",
            "PS3      67.81\n",
            "XOne     51.59\n",
            "X360     42.52\n",
            "3DS      30.96\n",
            "Name: eu_sales, dtype: float64\n",
            "\n",
            "Продажи по возрастному рейтингу в Европе:\n",
            "rating\n",
            "M          145.32\n",
            "E           83.36\n",
            "unknown     78.91\n",
            "E10+        42.69\n",
            "T           41.95\n",
            "Name: eu_sales, dtype: float64\n"
          ]
        }
      ],
      "source": [
        "print('Продажи по жанрам в Европе:', data.groupby('genre')['eu_sales'].sum().sort_values(ascending=False).head(5), '',\n",
        "      'Продажи по платформам в Европе:', data.groupby('platform')['eu_sales'].sum().sort_values(ascending=False).head(5), '',\n",
        "      'Продажи по возрастному рейтингу в Европе:',\n",
        "      data.groupby('rating')['eu_sales'].sum().sort_values(ascending=False).head(5), sep = '\\n')"
      ]
    },
    {
      "cell_type": "code",
      "execution_count": null,
      "id": "717fa49f",
      "metadata": {
        "id": "717fa49f",
        "outputId": "aafe77ce-fb58-4edb-bb73-8390f51499c8"
      },
      "outputs": [
        {
          "name": "stdout",
          "output_type": "stream",
          "text": [
            "Продажи по жанрам в Японии:\n",
            "genre\n",
            "Role-Playing    51.04\n",
            "Action          40.49\n",
            "Misc             9.20\n",
            "Fighting         7.65\n",
            "Shooter          6.61\n",
            "Name: jp_sales, dtype: float64\n",
            "\n",
            "Продажи по платформам в Японии:\n",
            "platform\n",
            "3DS     67.81\n",
            "PS3     23.35\n",
            "PSV     18.59\n",
            "PS4     15.96\n",
            "WiiU    10.88\n",
            "Name: jp_sales, dtype: float64\n",
            "\n",
            "Продажи по возрастному рейтингу в Японии:\n",
            "rating\n",
            "unknown    85.05\n",
            "T          20.59\n",
            "E          15.14\n",
            "M          14.11\n",
            "E10+        5.89\n",
            "Name: jp_sales, dtype: float64\n"
          ]
        }
      ],
      "source": [
        "print('Продажи по жанрам в Японии:', data.groupby('genre')['jp_sales'].sum().sort_values(ascending=False).head(5), '',\n",
        "      'Продажи по платформам в Японии:', data.groupby('platform')['jp_sales'].sum().sort_values(ascending=False).head(5), '',\n",
        "      'Продажи по возрастному рейтингу в Японии:',\n",
        "      data.groupby('rating')['jp_sales'].sum().sort_values(ascending=False).head(5), sep = '\\n')"
      ]
    },
    {
      "cell_type": "markdown",
      "id": "369e037a",
      "metadata": {
        "id": "369e037a"
      },
      "source": [
        "### Вывод\n",
        "\n",
        "В распределении по жанрам в Северной Америке и Европе наиболее популярны Action и Shooter. В Японии их обогнали  Role-Playing.\n",
        "\n",
        "В распределении по платформам в Северной Америке XOne и PS4. В Европе наиболее популярны PS4 и PS3. В Японии 3DS и PS3.\n",
        "\n",
        "В распределении по рейтингу в Северной Америке, Европе лидирует \"М\" а в Японии лидирует \"Т\". Но стоит обратить внимание что в Японии очень много продаж у игр с неуказанным рейтингом (их доля больше половины от всех игр). Эта ситуация требует отдельного рассмотрения, возможно там существует свой рейтинг, не зависящий от ESRB либо игры для японского рынка не передают в ESRB для оценки. "
      ]
    },
    {
      "cell_type": "markdown",
      "id": "f062d57b",
      "metadata": {
        "id": "f062d57b"
      },
      "source": [
        "## 5 Проверка гипотез"
      ]
    },
    {
      "cell_type": "markdown",
      "id": "622ee9ce",
      "metadata": {
        "id": "622ee9ce"
      },
      "source": [
        "Проверить гипотезы: \n",
        "- Средние пользовательские рейтинги платформ Xbox One и PC одинаковые;\n",
        "- Средние пользовательские рейтинги жанров Action (англ. «действие», экшен-игры) и Sports (англ. «спортивные соревнования») разные.\n"
      ]
    },
    {
      "cell_type": "markdown",
      "id": "d8068e95",
      "metadata": {
        "id": "d8068e95"
      },
      "source": [
        "Нулевая гипотеза - \"средние пользовательские рейтинги платформ Xbox One и PC одинаковые\". Альтернативная \"пользовательские рейтинги платформ Xbox One и PC различаются\". Уровень значимости возьму 5%, что является одним из наиболее распространённых вариантов."
      ]
    },
    {
      "cell_type": "code",
      "execution_count": null,
      "id": "4c56d711",
      "metadata": {
        "id": "4c56d711",
        "outputId": "4fb99c49-3a0c-4ba8-d681-9e9e7adbedad"
      },
      "outputs": [
        {
          "name": "stdout",
          "output_type": "stream",
          "text": [
            "Не получилось отвергнуть нулевую гипотезу, средние пользовательские рейтинги платформ Xbox One и PC статистический не различаются\n",
            "p-value равно: 0.1475959401343003\n"
          ]
        }
      ],
      "source": [
        "user_score_xb_one = data[data['platform'] =='XOne']['user_score'].to_numpy()\n",
        "user_score_pc = data[data['platform'] =='PC']['user_score'].to_numpy()\n",
        "\n",
        "results_score = st.ttest_ind(user_score_xb_one, user_score_pc, equal_var = False, nan_policy = 'omit')\n",
        "alpha = 0.05\n",
        "if results_score.pvalue < alpha:\n",
        "    print(\"средний рейтинг для Xbox One:\", int(np.nanmean(user_score_xb_one)),\n",
        "          \"средний рейтинг для PC:\", int(np.nanmean(user_score_pc)))\n",
        "    print(\"Они статистический различаются, p-value равно:\", results_score.pvalue)\n",
        "    \n",
        "else:\n",
        "    print(\"Не получилось отвергнуть нулевую гипотезу, средние пользовательские рейтинги платформ Xbox One и PC статистический не различаются\")\n",
        "    print(\"p-value равно:\", results_score.pvalue)"
      ]
    },
    {
      "cell_type": "markdown",
      "id": "0b6f2f95",
      "metadata": {
        "id": "0b6f2f95"
      },
      "source": [
        "Нулевая гипотеза - \"средние пользовательские рейтинги жанров Action и Sports одинаковые\". Альтернативная \"пользовательские рейтинги жанров Action и Sports различаются\". Уровень значимости возьму 5%, что является одним из наиболее распространённых вариантов."
      ]
    },
    {
      "cell_type": "code",
      "execution_count": null,
      "id": "69236e69",
      "metadata": {
        "id": "69236e69",
        "outputId": "eae6c660-b511-42ca-922e-0e0667849978"
      },
      "outputs": [
        {
          "name": "stdout",
          "output_type": "stream",
          "text": [
            "средний рейтинг для жанрa Action: 6 средний рейтинг для жанрa Sports: 5\n",
            "Они статистический различаются, p-value равно: 1.446003970070351e-20\n"
          ]
        }
      ],
      "source": [
        "user_score_action = data[data['genre'] =='Action']['user_score'].to_numpy()\n",
        "user_score_sports = data[data['genre'] =='Sports']['user_score'].to_numpy()\n",
        "\n",
        "results_score = st.ttest_ind(user_score_action, user_score_sports, equal_var = False, nan_policy = 'omit')\n",
        "alpha = 0.05\n",
        "if results_score.pvalue < alpha:\n",
        "    print(\"средний рейтинг для жанрa Action:\", int(np.nanmean(user_score_action)),\n",
        "          \"средний рейтинг для жанрa Sports:\", int(np.nanmean(user_score_sports)))\n",
        "    print(\"Они статистический различаются, p-value равно:\", results_score.pvalue)\n",
        "    \n",
        "else:\n",
        "    print(\"Не получилось отвергнуть нулевую гипотезу, средние пользовательские рейтинги жанров Action и Sports статистический не различаются\")\n"
      ]
    },
    {
      "cell_type": "markdown",
      "id": "42a4bda6",
      "metadata": {
        "id": "42a4bda6"
      },
      "source": [
        "### Вывод\n",
        "\n",
        "При выборе нулевой гипотезы \"средние пользовательские рейтинги платформ Xbox One и PC одинаковые\" метод st.ttest_ind показал большое p-value (выше выбранного уровня стат значимости). Следовательно, нулевую гипотезу отвергнуть не получилось, это значит что с большой долей вероятности различие может быть вызвано слчайностью. Средние пользовательские рейтинги платформ Xbox One и PC статистический не различаются\n",
        "\n",
        "При выборе нулевой гипотезы \"средние пользовательские рейтинги жанров Action и Sports одинаковые\" метод st.ttest_ind показал очень маленькое p-value (ниже выбранного уровня стат значимости). Следовательно, нулевую гипотезу можно отвергнуть, это значит вероятность того что различие было вызвано слчайностью очень мала. Можно с уверенностью утверждать что средние пользовательские рейтинги жанров Action и Sports различны.\n"
      ]
    },
    {
      "cell_type": "markdown",
      "id": "1b665ae4",
      "metadata": {
        "id": "1b665ae4"
      },
      "source": [
        "## 6 Общий вывод проекта\n",
        "\n",
        "\n",
        "Мною был получен датасет по продажам игр и проведена предобработка и очистка данных. Для оценки наиболее порспективных платформ я определил срок жизни одной платформы, он примерно равен десяти годам. Дальнейшее рассмотрение я вёл только для периода с 2013 по 2017 годы. Определил наиболее перспективные платформы, это были  PC, PS4, 3DS и XOne. При исследовании зависимости продаж от рейтингов критиков оказалось что корреляции довольно слабые (а от рейтинга пользователей зависимости вообще нет). При этом большая часть игр имеет достаточно скромные продажи, но некоторые игры продаются в десятки раз больше среднего (много выбросов). Исследуя продажи так же можно заметить что больше всего игр выпускается в жанре Action а самую высокую выручку в расчёте на одну игру приносят Shooter и Sports.\n",
        "\n",
        "Поведение пользователей в разных регионах различается при этом пользователи Европы и Америки довольно похожи а пользователи Японии имеют ряд особенностей. В Европе и Северной Америке наибольшей популярностью пользуются жанры Action и Shooter (в Японии лидирует Role-Playing). В распределении по платформам в Северной Америке XOne и PS4. В Европе наиболее популярны PS4 и PS3. В Японии 3DS и PS3.\n",
        "В распределении по рейтингу в Северной Америке, Европе лидирует \"М\" а в Японии лидирует \"Т\", при этом большую часть продаж в Японии составляют игры с неуказанным рейтингом.\n",
        "\n",
        "\n",
        "При статистическом исследовании гипотез я определил что средние пользовательские рейтинги платформ Xbox One и PC одинаковые а средние пользовательские рейтинги жанров Action и Sports различаются (при этом у Action рейтинг выше)."
      ]
    },
    {
      "cell_type": "code",
      "execution_count": null,
      "id": "138a5323",
      "metadata": {
        "id": "138a5323"
      },
      "outputs": [],
      "source": [
        ""
      ]
    }
  ],
  "metadata": {
    "ExecuteTimeLog": [
      {
        "duration": 2026,
        "start_time": "2022-02-11T23:06:53.699Z"
      },
      {
        "duration": 530,
        "start_time": "2022-02-11T23:06:55.729Z"
      },
      {
        "duration": 22,
        "start_time": "2022-02-11T23:06:56.262Z"
      },
      {
        "duration": 14,
        "start_time": "2022-02-11T23:06:56.287Z"
      },
      {
        "duration": 3,
        "start_time": "2022-02-11T23:06:56.304Z"
      },
      {
        "duration": 14,
        "start_time": "2022-02-11T23:06:56.309Z"
      },
      {
        "duration": 22,
        "start_time": "2022-02-11T23:06:56.325Z"
      },
      {
        "duration": 7,
        "start_time": "2022-02-11T23:06:56.350Z"
      },
      {
        "duration": 5,
        "start_time": "2022-02-11T23:06:56.360Z"
      },
      {
        "duration": 11,
        "start_time": "2022-02-11T23:06:56.368Z"
      },
      {
        "duration": 11,
        "start_time": "2022-02-11T23:06:56.381Z"
      },
      {
        "duration": 30,
        "start_time": "2022-02-11T23:06:56.395Z"
      },
      {
        "duration": 21,
        "start_time": "2022-02-11T23:06:56.427Z"
      },
      {
        "duration": 19,
        "start_time": "2022-02-11T23:06:56.450Z"
      },
      {
        "duration": 17,
        "start_time": "2022-02-11T23:06:56.471Z"
      },
      {
        "duration": 9,
        "start_time": "2022-02-11T23:06:56.491Z"
      },
      {
        "duration": 43,
        "start_time": "2022-02-11T23:06:56.502Z"
      },
      {
        "duration": 22,
        "start_time": "2022-02-11T23:06:56.548Z"
      },
      {
        "duration": 18,
        "start_time": "2022-02-11T23:06:56.572Z"
      },
      {
        "duration": 11,
        "start_time": "2022-02-11T23:06:56.592Z"
      },
      {
        "duration": 6,
        "start_time": "2022-02-11T23:06:56.606Z"
      },
      {
        "duration": 12,
        "start_time": "2022-02-11T23:06:56.615Z"
      },
      {
        "duration": 10,
        "start_time": "2022-02-11T23:06:56.631Z"
      },
      {
        "duration": 579,
        "start_time": "2022-02-11T23:06:56.644Z"
      },
      {
        "duration": 10,
        "start_time": "2022-02-11T23:06:57.226Z"
      },
      {
        "duration": 2756,
        "start_time": "2022-02-11T23:06:57.238Z"
      },
      {
        "duration": 6,
        "start_time": "2022-02-11T23:06:59.997Z"
      },
      {
        "duration": 544,
        "start_time": "2022-02-11T23:07:00.006Z"
      },
      {
        "duration": 855,
        "start_time": "2022-02-11T23:07:00.553Z"
      },
      {
        "duration": 22,
        "start_time": "2022-02-11T23:07:01.411Z"
      },
      {
        "duration": 863,
        "start_time": "2022-02-11T23:07:01.436Z"
      },
      {
        "duration": 23,
        "start_time": "2022-02-11T23:07:02.302Z"
      },
      {
        "duration": 859,
        "start_time": "2022-02-11T23:07:02.328Z"
      },
      {
        "duration": 15,
        "start_time": "2022-02-11T23:07:03.190Z"
      },
      {
        "duration": 11,
        "start_time": "2022-02-11T23:07:03.225Z"
      },
      {
        "duration": 12,
        "start_time": "2022-02-11T23:07:03.238Z"
      },
      {
        "duration": 11,
        "start_time": "2022-02-11T23:07:03.252Z"
      },
      {
        "duration": 17,
        "start_time": "2022-02-11T23:07:03.266Z"
      },
      {
        "duration": 21,
        "start_time": "2022-02-11T23:07:03.324Z"
      },
      {
        "duration": 16,
        "start_time": "2022-02-11T23:07:03.347Z"
      },
      {
        "duration": 12,
        "start_time": "2022-02-11T23:07:03.365Z"
      },
      {
        "duration": 56,
        "start_time": "2022-02-11T23:07:03.380Z"
      },
      {
        "duration": 127,
        "start_time": "2022-02-11T23:48:19.558Z"
      },
      {
        "duration": 1465,
        "start_time": "2022-02-13T08:28:06.615Z"
      },
      {
        "duration": 246,
        "start_time": "2022-02-13T08:28:09.110Z"
      },
      {
        "duration": 23,
        "start_time": "2022-02-13T08:28:10.135Z"
      },
      {
        "duration": 15,
        "start_time": "2022-02-13T08:28:17.196Z"
      },
      {
        "duration": 3,
        "start_time": "2022-02-13T08:28:33.949Z"
      },
      {
        "duration": 4,
        "start_time": "2022-02-13T08:28:34.746Z"
      },
      {
        "duration": 372,
        "start_time": "2022-02-13T08:28:37.857Z"
      },
      {
        "duration": 4,
        "start_time": "2022-02-13T08:29:02.981Z"
      },
      {
        "duration": 183,
        "start_time": "2022-02-13T08:29:03.179Z"
      },
      {
        "duration": 18,
        "start_time": "2022-02-13T08:29:03.422Z"
      },
      {
        "duration": 14,
        "start_time": "2022-02-13T08:29:03.993Z"
      },
      {
        "duration": 3,
        "start_time": "2022-02-13T08:29:06.963Z"
      },
      {
        "duration": 6,
        "start_time": "2022-02-13T08:29:07.544Z"
      },
      {
        "duration": 14,
        "start_time": "2022-02-13T08:29:14.813Z"
      },
      {
        "duration": 4,
        "start_time": "2022-02-13T08:29:31.161Z"
      },
      {
        "duration": 14,
        "start_time": "2022-02-13T08:29:33.444Z"
      },
      {
        "duration": 13,
        "start_time": "2022-02-13T08:32:49.005Z"
      },
      {
        "duration": 23,
        "start_time": "2022-02-13T08:32:50.893Z"
      },
      {
        "duration": 7,
        "start_time": "2022-02-13T08:32:51.965Z"
      },
      {
        "duration": 7,
        "start_time": "2022-02-13T08:32:53.117Z"
      },
      {
        "duration": 10,
        "start_time": "2022-02-13T08:32:55.505Z"
      },
      {
        "duration": 7,
        "start_time": "2022-02-13T08:32:57.114Z"
      },
      {
        "duration": 20,
        "start_time": "2022-02-13T08:32:57.693Z"
      },
      {
        "duration": 19,
        "start_time": "2022-02-13T08:33:08.250Z"
      },
      {
        "duration": 20,
        "start_time": "2022-02-13T08:33:11.438Z"
      },
      {
        "duration": 267,
        "start_time": "2022-02-13T08:51:26.976Z"
      },
      {
        "duration": 276,
        "start_time": "2022-02-13T08:53:10.575Z"
      },
      {
        "duration": 316,
        "start_time": "2022-02-13T08:54:11.491Z"
      },
      {
        "duration": 12,
        "start_time": "2022-02-13T08:54:31.070Z"
      },
      {
        "duration": 12,
        "start_time": "2022-02-13T08:55:10.394Z"
      },
      {
        "duration": 12,
        "start_time": "2022-02-13T08:55:32.357Z"
      },
      {
        "duration": 368,
        "start_time": "2022-02-13T08:57:24.573Z"
      },
      {
        "duration": 271,
        "start_time": "2022-02-13T09:00:28.609Z"
      },
      {
        "duration": 15,
        "start_time": "2022-02-13T09:01:27.834Z"
      },
      {
        "duration": 411,
        "start_time": "2022-02-13T09:02:46.047Z"
      },
      {
        "duration": 11,
        "start_time": "2022-02-13T09:03:36.566Z"
      },
      {
        "duration": 457,
        "start_time": "2022-02-13T09:04:44.747Z"
      },
      {
        "duration": 16,
        "start_time": "2022-02-13T09:05:19.472Z"
      },
      {
        "duration": 737,
        "start_time": "2022-02-13T09:05:56.329Z"
      },
      {
        "duration": 20,
        "start_time": "2022-02-13T09:06:43.691Z"
      },
      {
        "duration": 444,
        "start_time": "2022-02-13T09:08:07.009Z"
      },
      {
        "duration": -19,
        "start_time": "2022-02-13T09:09:52.930Z"
      },
      {
        "duration": 7,
        "start_time": "2022-02-13T09:10:05.539Z"
      },
      {
        "duration": 34,
        "start_time": "2022-02-13T09:10:06.571Z"
      },
      {
        "duration": 2144,
        "start_time": "2022-02-13T09:10:16.099Z"
      },
      {
        "duration": 5806,
        "start_time": "2022-02-13T09:23:05.265Z"
      },
      {
        "duration": 12,
        "start_time": "2022-02-13T09:24:18.308Z"
      },
      {
        "duration": 21,
        "start_time": "2022-02-13T09:32:03.585Z"
      },
      {
        "duration": 20,
        "start_time": "2022-02-13T09:32:49.471Z"
      },
      {
        "duration": 295,
        "start_time": "2022-02-13T09:46:43.648Z"
      },
      {
        "duration": 371,
        "start_time": "2022-02-13T09:47:14.828Z"
      },
      {
        "duration": 13,
        "start_time": "2022-02-13T09:48:08.815Z"
      },
      {
        "duration": 22,
        "start_time": "2022-02-13T09:48:10.157Z"
      },
      {
        "duration": 13,
        "start_time": "2022-02-13T09:48:12.173Z"
      },
      {
        "duration": 386,
        "start_time": "2022-02-13T09:48:13.336Z"
      },
      {
        "duration": 11,
        "start_time": "2022-02-13T09:50:18.790Z"
      },
      {
        "duration": 11,
        "start_time": "2022-02-13T09:51:10.532Z"
      },
      {
        "duration": 10,
        "start_time": "2022-02-13T09:51:46.856Z"
      },
      {
        "duration": 12,
        "start_time": "2022-02-13T09:52:36.273Z"
      },
      {
        "duration": 11,
        "start_time": "2022-02-13T09:53:45.810Z"
      },
      {
        "duration": 686,
        "start_time": "2022-02-13T09:58:29.512Z"
      },
      {
        "duration": 398,
        "start_time": "2022-02-13T09:59:01.240Z"
      },
      {
        "duration": 440,
        "start_time": "2022-02-13T09:59:35.808Z"
      },
      {
        "duration": 558,
        "start_time": "2022-02-13T10:00:11.802Z"
      },
      {
        "duration": 399,
        "start_time": "2022-02-13T10:09:15.942Z"
      },
      {
        "duration": 417,
        "start_time": "2022-02-13T10:11:06.425Z"
      },
      {
        "duration": 375,
        "start_time": "2022-02-13T10:13:20.274Z"
      },
      {
        "duration": 83,
        "start_time": "2022-02-13T10:15:26.096Z"
      },
      {
        "duration": 586,
        "start_time": "2022-02-13T10:15:33.751Z"
      },
      {
        "duration": 523,
        "start_time": "2022-02-13T10:17:20.154Z"
      },
      {
        "duration": 83,
        "start_time": "2022-02-13T10:19:50.209Z"
      },
      {
        "duration": 11,
        "start_time": "2022-02-13T10:21:39.932Z"
      },
      {
        "duration": 9,
        "start_time": "2022-02-13T10:21:48.678Z"
      },
      {
        "duration": 2759,
        "start_time": "2022-02-13T10:23:24.819Z"
      },
      {
        "duration": 2764,
        "start_time": "2022-02-13T10:25:57.092Z"
      },
      {
        "duration": 3153,
        "start_time": "2022-02-13T10:27:51.029Z"
      },
      {
        "duration": 528,
        "start_time": "2022-02-13T10:34:07.564Z"
      },
      {
        "duration": 3200,
        "start_time": "2022-02-13T10:35:07.203Z"
      },
      {
        "duration": 13,
        "start_time": "2022-02-13T10:37:19.933Z"
      },
      {
        "duration": 14,
        "start_time": "2022-02-13T10:37:27.114Z"
      },
      {
        "duration": 14,
        "start_time": "2022-02-13T10:37:34.121Z"
      },
      {
        "duration": 16,
        "start_time": "2022-02-13T10:37:39.779Z"
      },
      {
        "duration": 289,
        "start_time": "2022-02-13T10:41:29.930Z"
      },
      {
        "duration": 121,
        "start_time": "2022-02-13T10:41:48.321Z"
      },
      {
        "duration": 12,
        "start_time": "2022-02-13T10:42:00.318Z"
      },
      {
        "duration": 15,
        "start_time": "2022-02-13T10:44:28.111Z"
      },
      {
        "duration": 17,
        "start_time": "2022-02-13T10:45:34.085Z"
      },
      {
        "duration": 4299,
        "start_time": "2022-02-13T10:48:58.199Z"
      },
      {
        "duration": 221,
        "start_time": "2022-02-13T10:52:34.141Z"
      },
      {
        "duration": 12,
        "start_time": "2022-02-13T10:52:38.774Z"
      },
      {
        "duration": 12,
        "start_time": "2022-02-13T10:53:38.399Z"
      },
      {
        "duration": 2920,
        "start_time": "2022-02-13T10:59:29.165Z"
      },
      {
        "duration": 13,
        "start_time": "2022-02-13T11:01:28.808Z"
      },
      {
        "duration": 12,
        "start_time": "2022-02-13T11:01:44.349Z"
      },
      {
        "duration": 2959,
        "start_time": "2022-02-13T11:03:13.992Z"
      },
      {
        "duration": 301,
        "start_time": "2022-02-13T11:06:18.838Z"
      },
      {
        "duration": 279,
        "start_time": "2022-02-13T11:07:35.536Z"
      },
      {
        "duration": 13,
        "start_time": "2022-02-13T11:09:07.443Z"
      },
      {
        "duration": 12,
        "start_time": "2022-02-13T11:21:38.805Z"
      },
      {
        "duration": 3648,
        "start_time": "2022-02-13T11:22:54.186Z"
      },
      {
        "duration": 82,
        "start_time": "2022-02-13T11:37:12.263Z"
      },
      {
        "duration": 930,
        "start_time": "2022-02-13T11:37:40.862Z"
      },
      {
        "duration": 112,
        "start_time": "2022-02-13T11:38:13.204Z"
      },
      {
        "duration": 118,
        "start_time": "2022-02-13T11:38:23.378Z"
      },
      {
        "duration": 95,
        "start_time": "2022-02-13T11:38:30.840Z"
      },
      {
        "duration": 205,
        "start_time": "2022-02-13T11:39:03.953Z"
      },
      {
        "duration": 568,
        "start_time": "2022-02-13T11:39:09.283Z"
      },
      {
        "duration": 554,
        "start_time": "2022-02-13T11:39:56.235Z"
      },
      {
        "duration": 7,
        "start_time": "2022-02-13T11:40:11.379Z"
      },
      {
        "duration": 716,
        "start_time": "2022-02-13T11:40:12.165Z"
      },
      {
        "duration": 578,
        "start_time": "2022-02-13T11:43:14.348Z"
      },
      {
        "duration": 617,
        "start_time": "2022-02-13T11:44:03.871Z"
      },
      {
        "duration": 697,
        "start_time": "2022-02-13T11:46:17.790Z"
      },
      {
        "duration": 597,
        "start_time": "2022-02-13T11:46:32.170Z"
      },
      {
        "duration": 549,
        "start_time": "2022-02-13T11:54:47.531Z"
      },
      {
        "duration": 538,
        "start_time": "2022-02-13T11:55:47.721Z"
      },
      {
        "duration": 552,
        "start_time": "2022-02-13T11:55:53.299Z"
      },
      {
        "duration": 852,
        "start_time": "2022-02-13T12:03:51.006Z"
      },
      {
        "duration": 520,
        "start_time": "2022-02-13T12:05:04.155Z"
      },
      {
        "duration": 561,
        "start_time": "2022-02-13T12:05:30.207Z"
      },
      {
        "duration": 526,
        "start_time": "2022-02-13T12:05:38.746Z"
      },
      {
        "duration": 531,
        "start_time": "2022-02-13T12:06:07.950Z"
      },
      {
        "duration": 519,
        "start_time": "2022-02-13T12:06:08.547Z"
      },
      {
        "duration": 14,
        "start_time": "2022-02-13T12:07:53.548Z"
      },
      {
        "duration": 11,
        "start_time": "2022-02-13T12:24:44.525Z"
      },
      {
        "duration": 18,
        "start_time": "2022-02-13T12:24:45.412Z"
      },
      {
        "duration": 242,
        "start_time": "2022-02-13T12:27:27.818Z"
      },
      {
        "duration": 94,
        "start_time": "2022-02-13T12:27:50.420Z"
      },
      {
        "duration": 134,
        "start_time": "2022-02-13T12:29:14.414Z"
      },
      {
        "duration": 328,
        "start_time": "2022-02-13T12:33:43.331Z"
      },
      {
        "duration": 107,
        "start_time": "2022-02-13T12:33:47.986Z"
      },
      {
        "duration": 112,
        "start_time": "2022-02-13T12:34:15.609Z"
      },
      {
        "duration": 169,
        "start_time": "2022-02-13T12:35:50.653Z"
      },
      {
        "duration": 399,
        "start_time": "2022-02-13T12:36:28.167Z"
      },
      {
        "duration": 805,
        "start_time": "2022-02-13T12:39:08.111Z"
      },
      {
        "duration": 569,
        "start_time": "2022-02-13T12:41:47.360Z"
      },
      {
        "duration": 806,
        "start_time": "2022-02-13T12:41:57.105Z"
      },
      {
        "duration": 597,
        "start_time": "2022-02-13T12:42:04.347Z"
      },
      {
        "duration": 329,
        "start_time": "2022-02-13T12:42:19.119Z"
      },
      {
        "duration": 345,
        "start_time": "2022-02-13T12:46:22.073Z"
      },
      {
        "duration": 265,
        "start_time": "2022-02-13T12:47:21.079Z"
      },
      {
        "duration": 361,
        "start_time": "2022-02-13T12:48:16.425Z"
      },
      {
        "duration": 254,
        "start_time": "2022-02-13T12:48:25.909Z"
      },
      {
        "duration": 261,
        "start_time": "2022-02-13T12:48:50.495Z"
      },
      {
        "duration": 121,
        "start_time": "2022-02-13T12:49:24.589Z"
      },
      {
        "duration": 664,
        "start_time": "2022-02-13T12:49:38.831Z"
      },
      {
        "duration": 246,
        "start_time": "2022-02-13T12:49:50.830Z"
      },
      {
        "duration": 300,
        "start_time": "2022-02-13T12:52:02.058Z"
      },
      {
        "duration": 252,
        "start_time": "2022-02-13T12:52:49.970Z"
      },
      {
        "duration": 199,
        "start_time": "2022-02-13T12:55:33.663Z"
      },
      {
        "duration": 294,
        "start_time": "2022-02-13T12:55:49.793Z"
      },
      {
        "duration": 258,
        "start_time": "2022-02-13T12:56:36.026Z"
      },
      {
        "duration": 361,
        "start_time": "2022-02-13T12:57:01.172Z"
      },
      {
        "duration": 214,
        "start_time": "2022-02-13T12:57:32.164Z"
      },
      {
        "duration": 472,
        "start_time": "2022-02-13T12:58:45.963Z"
      },
      {
        "duration": 584,
        "start_time": "2022-02-13T12:58:56.770Z"
      },
      {
        "duration": 244,
        "start_time": "2022-02-13T13:01:56.324Z"
      },
      {
        "duration": 289,
        "start_time": "2022-02-13T13:05:06.996Z"
      },
      {
        "duration": 278,
        "start_time": "2022-02-13T13:06:50.900Z"
      },
      {
        "duration": 393,
        "start_time": "2022-02-13T13:07:02.009Z"
      },
      {
        "duration": 285,
        "start_time": "2022-02-13T13:07:13.586Z"
      },
      {
        "duration": 854,
        "start_time": "2022-02-13T13:11:14.498Z"
      },
      {
        "duration": 257,
        "start_time": "2022-02-13T13:11:36.310Z"
      },
      {
        "duration": 404,
        "start_time": "2022-02-13T13:11:56.136Z"
      },
      {
        "duration": 2843,
        "start_time": "2022-02-13T13:12:09.466Z"
      },
      {
        "duration": 264,
        "start_time": "2022-02-13T13:12:15.394Z"
      },
      {
        "duration": 492,
        "start_time": "2022-02-13T13:13:33.348Z"
      },
      {
        "duration": 315,
        "start_time": "2022-02-13T13:13:46.262Z"
      },
      {
        "duration": 326,
        "start_time": "2022-02-13T13:19:06.097Z"
      },
      {
        "duration": 896,
        "start_time": "2022-02-13T13:19:39.292Z"
      },
      {
        "duration": 309,
        "start_time": "2022-02-13T13:20:28.103Z"
      },
      {
        "duration": 374,
        "start_time": "2022-02-13T13:25:49.894Z"
      },
      {
        "duration": 253,
        "start_time": "2022-02-13T13:26:43.961Z"
      },
      {
        "duration": 335,
        "start_time": "2022-02-13T13:28:08.473Z"
      },
      {
        "duration": 327,
        "start_time": "2022-02-13T13:28:26.234Z"
      },
      {
        "duration": 471,
        "start_time": "2022-02-13T13:29:50.261Z"
      },
      {
        "duration": 303,
        "start_time": "2022-02-13T13:30:03.445Z"
      },
      {
        "duration": 258,
        "start_time": "2022-02-13T13:30:21.432Z"
      },
      {
        "duration": 315,
        "start_time": "2022-02-13T13:30:32.475Z"
      },
      {
        "duration": 307,
        "start_time": "2022-02-13T13:32:26.165Z"
      },
      {
        "duration": 376,
        "start_time": "2022-02-13T13:36:08.599Z"
      },
      {
        "duration": 4882,
        "start_time": "2022-02-13T13:36:35.397Z"
      },
      {
        "duration": 703,
        "start_time": "2022-02-13T13:36:53.678Z"
      },
      {
        "duration": 486,
        "start_time": "2022-02-13T13:38:39.711Z"
      },
      {
        "duration": 607,
        "start_time": "2022-02-13T13:40:50.797Z"
      },
      {
        "duration": 1217,
        "start_time": "2022-02-13T13:41:46.421Z"
      },
      {
        "duration": 469,
        "start_time": "2022-02-13T13:42:27.810Z"
      },
      {
        "duration": 483,
        "start_time": "2022-02-13T13:44:11.194Z"
      },
      {
        "duration": 484,
        "start_time": "2022-02-13T13:44:40.482Z"
      },
      {
        "duration": 448,
        "start_time": "2022-02-13T13:45:58.260Z"
      },
      {
        "duration": 459,
        "start_time": "2022-02-13T13:46:12.111Z"
      },
      {
        "duration": 539,
        "start_time": "2022-02-13T13:47:02.589Z"
      },
      {
        "duration": 478,
        "start_time": "2022-02-13T13:52:11.771Z"
      },
      {
        "duration": 469,
        "start_time": "2022-02-13T13:52:43.666Z"
      },
      {
        "duration": 444,
        "start_time": "2022-02-13T14:05:37.454Z"
      },
      {
        "duration": 298,
        "start_time": "2022-02-13T14:08:27.777Z"
      },
      {
        "duration": 5,
        "start_time": "2022-02-13T14:08:37.268Z"
      },
      {
        "duration": 240,
        "start_time": "2022-02-13T14:08:51.019Z"
      },
      {
        "duration": 337,
        "start_time": "2022-02-13T14:10:11.367Z"
      },
      {
        "duration": 6,
        "start_time": "2022-02-13T14:10:57.741Z"
      },
      {
        "duration": 264,
        "start_time": "2022-02-13T14:11:35.675Z"
      },
      {
        "duration": 58,
        "start_time": "2022-02-13T14:12:17.520Z"
      },
      {
        "duration": 56,
        "start_time": "2022-02-13T14:13:13.415Z"
      },
      {
        "duration": 57,
        "start_time": "2022-02-13T14:13:58.023Z"
      },
      {
        "duration": 455,
        "start_time": "2022-02-13T14:14:17.580Z"
      },
      {
        "duration": 1558,
        "start_time": "2022-02-13T14:15:01.329Z"
      },
      {
        "duration": 459,
        "start_time": "2022-02-13T14:15:10.651Z"
      },
      {
        "duration": 89,
        "start_time": "2022-02-13T14:16:19.235Z"
      },
      {
        "duration": 85,
        "start_time": "2022-02-13T14:17:13.756Z"
      },
      {
        "duration": 984,
        "start_time": "2022-02-13T14:17:55.736Z"
      },
      {
        "duration": 10,
        "start_time": "2022-02-13T14:18:36.085Z"
      },
      {
        "duration": 11,
        "start_time": "2022-02-13T14:18:48.350Z"
      },
      {
        "duration": 14,
        "start_time": "2022-02-13T14:19:02.742Z"
      },
      {
        "duration": 11,
        "start_time": "2022-02-13T14:19:12.502Z"
      },
      {
        "duration": 12,
        "start_time": "2022-02-13T14:19:47.701Z"
      },
      {
        "duration": 10,
        "start_time": "2022-02-13T14:19:59.754Z"
      },
      {
        "duration": 11,
        "start_time": "2022-02-13T14:20:15.438Z"
      },
      {
        "duration": 11,
        "start_time": "2022-02-13T14:20:56.146Z"
      },
      {
        "duration": 10,
        "start_time": "2022-02-13T14:21:20.593Z"
      },
      {
        "duration": 12,
        "start_time": "2022-02-13T14:21:40.250Z"
      },
      {
        "duration": 456,
        "start_time": "2022-02-13T14:22:29.205Z"
      },
      {
        "duration": 522,
        "start_time": "2022-02-13T14:27:17.747Z"
      },
      {
        "duration": 12,
        "start_time": "2022-02-13T14:28:53.272Z"
      },
      {
        "duration": 11,
        "start_time": "2022-02-13T14:28:57.822Z"
      },
      {
        "duration": 551,
        "start_time": "2022-02-13T14:30:58.876Z"
      },
      {
        "duration": 564,
        "start_time": "2022-02-13T14:31:23.295Z"
      },
      {
        "duration": 1409,
        "start_time": "2022-02-13T14:35:01.212Z"
      },
      {
        "duration": 397,
        "start_time": "2022-02-13T14:40:59.812Z"
      },
      {
        "duration": 282,
        "start_time": "2022-02-13T14:41:23.677Z"
      },
      {
        "duration": 1622,
        "start_time": "2022-02-13T14:43:40.814Z"
      },
      {
        "duration": 1259,
        "start_time": "2022-02-13T14:44:02.054Z"
      },
      {
        "duration": 1546,
        "start_time": "2022-02-13T14:44:14.855Z"
      },
      {
        "duration": 1948,
        "start_time": "2022-02-13T14:47:00.507Z"
      },
      {
        "duration": 3,
        "start_time": "2022-02-13T14:49:50.210Z"
      },
      {
        "duration": 1515,
        "start_time": "2022-02-13T14:52:40.446Z"
      },
      {
        "duration": 314,
        "start_time": "2022-02-13T14:52:41.965Z"
      },
      {
        "duration": 32,
        "start_time": "2022-02-13T14:52:42.283Z"
      },
      {
        "duration": 37,
        "start_time": "2022-02-13T14:52:42.317Z"
      },
      {
        "duration": 4,
        "start_time": "2022-02-13T14:52:42.357Z"
      },
      {
        "duration": 14,
        "start_time": "2022-02-13T14:52:42.364Z"
      },
      {
        "duration": 26,
        "start_time": "2022-02-13T14:52:42.381Z"
      },
      {
        "duration": 47,
        "start_time": "2022-02-13T14:52:42.412Z"
      },
      {
        "duration": 7,
        "start_time": "2022-02-13T14:52:42.462Z"
      },
      {
        "duration": 18,
        "start_time": "2022-02-13T14:52:42.472Z"
      },
      {
        "duration": 21,
        "start_time": "2022-02-13T14:52:42.494Z"
      },
      {
        "duration": 15,
        "start_time": "2022-02-13T14:52:42.518Z"
      },
      {
        "duration": 24,
        "start_time": "2022-02-13T14:52:42.548Z"
      },
      {
        "duration": 28,
        "start_time": "2022-02-13T14:52:42.575Z"
      },
      {
        "duration": 46,
        "start_time": "2022-02-13T14:52:42.605Z"
      },
      {
        "duration": 4381,
        "start_time": "2022-02-13T14:54:59.797Z"
      },
      {
        "duration": 14,
        "start_time": "2022-02-13T14:55:04.181Z"
      },
      {
        "duration": 50,
        "start_time": "2022-02-13T14:55:04.198Z"
      },
      {
        "duration": 26,
        "start_time": "2022-02-13T14:55:04.251Z"
      },
      {
        "duration": 10,
        "start_time": "2022-02-13T14:55:04.280Z"
      },
      {
        "duration": 47,
        "start_time": "2022-02-13T14:55:04.293Z"
      },
      {
        "duration": 14,
        "start_time": "2022-02-13T14:55:04.353Z"
      },
      {
        "duration": 30,
        "start_time": "2022-02-13T14:55:04.370Z"
      },
      {
        "duration": 13,
        "start_time": "2022-02-13T14:55:04.402Z"
      },
      {
        "duration": 451,
        "start_time": "2022-02-13T14:55:04.418Z"
      },
      {
        "duration": 7,
        "start_time": "2022-02-13T14:55:04.872Z"
      },
      {
        "duration": 17,
        "start_time": "2022-02-13T14:55:04.882Z"
      },
      {
        "duration": 96,
        "start_time": "2022-02-13T14:55:04.902Z"
      },
      {
        "duration": 136,
        "start_time": "2022-02-13T14:55:04.864Z"
      },
      {
        "duration": 130,
        "start_time": "2022-02-13T14:55:04.872Z"
      },
      {
        "duration": 124,
        "start_time": "2022-02-13T14:55:04.879Z"
      },
      {
        "duration": 108,
        "start_time": "2022-02-13T14:55:04.897Z"
      },
      {
        "duration": 103,
        "start_time": "2022-02-13T14:55:04.904Z"
      },
      {
        "duration": 97,
        "start_time": "2022-02-13T14:55:04.911Z"
      },
      {
        "duration": 90,
        "start_time": "2022-02-13T14:55:04.919Z"
      },
      {
        "duration": 85,
        "start_time": "2022-02-13T14:55:04.926Z"
      },
      {
        "duration": 79,
        "start_time": "2022-02-13T14:55:04.933Z"
      },
      {
        "duration": 75,
        "start_time": "2022-02-13T14:55:04.940Z"
      },
      {
        "duration": 68,
        "start_time": "2022-02-13T14:55:04.948Z"
      },
      {
        "duration": 64,
        "start_time": "2022-02-13T14:55:04.954Z"
      },
      {
        "duration": 54,
        "start_time": "2022-02-13T14:55:04.966Z"
      },
      {
        "duration": 49,
        "start_time": "2022-02-13T14:55:04.973Z"
      },
      {
        "duration": 43,
        "start_time": "2022-02-13T14:55:04.980Z"
      },
      {
        "duration": 38,
        "start_time": "2022-02-13T14:55:04.987Z"
      },
      {
        "duration": 32,
        "start_time": "2022-02-13T14:55:04.994Z"
      },
      {
        "duration": 18,
        "start_time": "2022-02-13T14:55:05.010Z"
      },
      {
        "duration": 13,
        "start_time": "2022-02-13T14:55:05.017Z"
      },
      {
        "duration": 6,
        "start_time": "2022-02-13T14:55:05.025Z"
      },
      {
        "duration": 1,
        "start_time": "2022-02-13T14:55:05.032Z"
      },
      {
        "duration": -5,
        "start_time": "2022-02-13T14:55:05.039Z"
      },
      {
        "duration": -10,
        "start_time": "2022-02-13T14:55:05.046Z"
      },
      {
        "duration": -26,
        "start_time": "2022-02-13T14:55:05.074Z"
      },
      {
        "duration": -33,
        "start_time": "2022-02-13T14:55:05.082Z"
      },
      {
        "duration": -37,
        "start_time": "2022-02-13T14:55:05.088Z"
      },
      {
        "duration": -42,
        "start_time": "2022-02-13T14:55:05.095Z"
      },
      {
        "duration": -47,
        "start_time": "2022-02-13T14:55:05.102Z"
      },
      {
        "duration": 1520,
        "start_time": "2022-02-13T14:55:38.506Z"
      },
      {
        "duration": 216,
        "start_time": "2022-02-13T14:55:40.029Z"
      },
      {
        "duration": 1429,
        "start_time": "2022-02-13T14:55:42.594Z"
      },
      {
        "duration": 185,
        "start_time": "2022-02-13T14:55:44.026Z"
      },
      {
        "duration": 24,
        "start_time": "2022-02-13T14:55:44.213Z"
      },
      {
        "duration": 14,
        "start_time": "2022-02-13T14:55:44.240Z"
      },
      {
        "duration": 3,
        "start_time": "2022-02-13T14:55:44.257Z"
      },
      {
        "duration": 10,
        "start_time": "2022-02-13T14:55:44.262Z"
      },
      {
        "duration": 16,
        "start_time": "2022-02-13T14:55:44.274Z"
      },
      {
        "duration": 22,
        "start_time": "2022-02-13T14:55:44.294Z"
      },
      {
        "duration": 6,
        "start_time": "2022-02-13T14:55:44.348Z"
      },
      {
        "duration": 6,
        "start_time": "2022-02-13T14:55:44.357Z"
      },
      {
        "duration": 13,
        "start_time": "2022-02-13T14:55:44.365Z"
      },
      {
        "duration": 9,
        "start_time": "2022-02-13T14:55:44.381Z"
      },
      {
        "duration": 57,
        "start_time": "2022-02-13T14:55:44.392Z"
      },
      {
        "duration": 19,
        "start_time": "2022-02-13T14:55:44.452Z"
      },
      {
        "duration": 18,
        "start_time": "2022-02-13T14:55:44.473Z"
      },
      {
        "duration": 3,
        "start_time": "2022-02-13T14:55:44.494Z"
      },
      {
        "duration": 435,
        "start_time": "2022-02-13T14:55:44.499Z"
      },
      {
        "duration": 19,
        "start_time": "2022-02-13T14:55:44.936Z"
      },
      {
        "duration": 26,
        "start_time": "2022-02-13T14:55:44.957Z"
      },
      {
        "duration": 21,
        "start_time": "2022-02-13T14:55:44.985Z"
      },
      {
        "duration": 14,
        "start_time": "2022-02-13T14:55:45.009Z"
      },
      {
        "duration": 55,
        "start_time": "2022-02-13T14:55:45.025Z"
      },
      {
        "duration": 12,
        "start_time": "2022-02-13T14:55:45.086Z"
      },
      {
        "duration": 21,
        "start_time": "2022-02-13T14:55:45.101Z"
      },
      {
        "duration": 31,
        "start_time": "2022-02-13T14:55:45.124Z"
      },
      {
        "duration": 396,
        "start_time": "2022-02-13T14:55:45.158Z"
      },
      {
        "duration": 7,
        "start_time": "2022-02-13T14:55:45.557Z"
      },
      {
        "duration": 13,
        "start_time": "2022-02-13T14:55:45.566Z"
      },
      {
        "duration": 82,
        "start_time": "2022-02-13T14:55:45.582Z"
      },
      {
        "duration": -396,
        "start_time": "2022-02-13T14:55:46.063Z"
      },
      {
        "duration": -400,
        "start_time": "2022-02-13T14:55:46.069Z"
      },
      {
        "duration": -406,
        "start_time": "2022-02-13T14:55:46.077Z"
      },
      {
        "duration": -411,
        "start_time": "2022-02-13T14:55:46.084Z"
      },
      {
        "duration": -417,
        "start_time": "2022-02-13T14:55:46.092Z"
      },
      {
        "duration": -421,
        "start_time": "2022-02-13T14:55:46.098Z"
      },
      {
        "duration": -427,
        "start_time": "2022-02-13T14:55:46.106Z"
      },
      {
        "duration": -431,
        "start_time": "2022-02-13T14:55:46.113Z"
      },
      {
        "duration": -436,
        "start_time": "2022-02-13T14:55:46.120Z"
      },
      {
        "duration": -440,
        "start_time": "2022-02-13T14:55:46.126Z"
      },
      {
        "duration": -446,
        "start_time": "2022-02-13T14:55:46.134Z"
      },
      {
        "duration": -450,
        "start_time": "2022-02-13T14:55:46.141Z"
      },
      {
        "duration": -490,
        "start_time": "2022-02-13T14:55:46.183Z"
      },
      {
        "duration": -498,
        "start_time": "2022-02-13T14:55:46.192Z"
      },
      {
        "duration": -523,
        "start_time": "2022-02-13T14:55:46.219Z"
      },
      {
        "duration": -528,
        "start_time": "2022-02-13T14:55:46.226Z"
      },
      {
        "duration": -534,
        "start_time": "2022-02-13T14:55:46.234Z"
      },
      {
        "duration": -540,
        "start_time": "2022-02-13T14:55:46.241Z"
      },
      {
        "duration": -547,
        "start_time": "2022-02-13T14:55:46.250Z"
      },
      {
        "duration": -510,
        "start_time": "2022-02-13T14:55:46.257Z"
      },
      {
        "duration": -516,
        "start_time": "2022-02-13T14:55:46.265Z"
      },
      {
        "duration": -532,
        "start_time": "2022-02-13T14:55:46.283Z"
      },
      {
        "duration": -538,
        "start_time": "2022-02-13T14:55:46.291Z"
      },
      {
        "duration": -544,
        "start_time": "2022-02-13T14:55:46.299Z"
      },
      {
        "duration": -551,
        "start_time": "2022-02-13T14:55:46.307Z"
      },
      {
        "duration": -571,
        "start_time": "2022-02-13T14:55:46.329Z"
      },
      {
        "duration": -592,
        "start_time": "2022-02-13T14:55:46.352Z"
      },
      {
        "duration": 1565,
        "start_time": "2022-02-13T14:56:52.620Z"
      },
      {
        "duration": 345,
        "start_time": "2022-02-13T14:56:54.188Z"
      },
      {
        "duration": 26,
        "start_time": "2022-02-13T14:56:54.537Z"
      },
      {
        "duration": 17,
        "start_time": "2022-02-13T14:56:54.566Z"
      },
      {
        "duration": 3,
        "start_time": "2022-02-13T14:56:54.586Z"
      },
      {
        "duration": 14,
        "start_time": "2022-02-13T14:56:54.592Z"
      },
      {
        "duration": 51,
        "start_time": "2022-02-13T14:56:54.609Z"
      },
      {
        "duration": 25,
        "start_time": "2022-02-13T14:56:54.666Z"
      },
      {
        "duration": 8,
        "start_time": "2022-02-13T14:56:54.695Z"
      },
      {
        "duration": 50,
        "start_time": "2022-02-13T14:56:54.706Z"
      },
      {
        "duration": 14,
        "start_time": "2022-02-13T14:56:54.759Z"
      },
      {
        "duration": 10,
        "start_time": "2022-02-13T14:56:54.776Z"
      },
      {
        "duration": 24,
        "start_time": "2022-02-13T14:56:54.789Z"
      },
      {
        "duration": 43,
        "start_time": "2022-02-13T14:56:54.815Z"
      },
      {
        "duration": 23,
        "start_time": "2022-02-13T14:56:54.861Z"
      },
      {
        "duration": 4,
        "start_time": "2022-02-13T14:56:54.887Z"
      },
      {
        "duration": 421,
        "start_time": "2022-02-13T14:56:54.894Z"
      },
      {
        "duration": 10,
        "start_time": "2022-02-13T14:56:55.318Z"
      },
      {
        "duration": 42,
        "start_time": "2022-02-13T14:56:55.330Z"
      },
      {
        "duration": 20,
        "start_time": "2022-02-13T14:56:55.375Z"
      },
      {
        "duration": 8,
        "start_time": "2022-02-13T14:56:55.398Z"
      },
      {
        "duration": 69,
        "start_time": "2022-02-13T14:56:55.409Z"
      },
      {
        "duration": 13,
        "start_time": "2022-02-13T14:56:55.484Z"
      },
      {
        "duration": 19,
        "start_time": "2022-02-13T14:56:55.501Z"
      },
      {
        "duration": 13,
        "start_time": "2022-02-13T14:56:55.549Z"
      },
      {
        "duration": 425,
        "start_time": "2022-02-13T14:56:55.565Z"
      },
      {
        "duration": 9,
        "start_time": "2022-02-13T14:56:55.993Z"
      },
      {
        "duration": 14,
        "start_time": "2022-02-13T14:56:56.005Z"
      },
      {
        "duration": 37,
        "start_time": "2022-02-13T14:56:56.022Z"
      },
      {
        "duration": 574,
        "start_time": "2022-02-13T14:56:56.062Z"
      },
      {
        "duration": 16,
        "start_time": "2022-02-13T14:56:56.639Z"
      },
      {
        "duration": 3033,
        "start_time": "2022-02-13T14:56:56.657Z"
      },
      {
        "duration": 343,
        "start_time": "2022-02-13T14:56:59.693Z"
      },
      {
        "duration": 18,
        "start_time": "2022-02-13T14:57:00.038Z"
      },
      {
        "duration": 3121,
        "start_time": "2022-02-13T14:57:00.058Z"
      },
      {
        "duration": 7,
        "start_time": "2022-02-13T14:57:03.182Z"
      },
      {
        "duration": 579,
        "start_time": "2022-02-13T14:57:03.192Z"
      },
      {
        "duration": 606,
        "start_time": "2022-02-13T14:57:03.774Z"
      },
      {
        "duration": 821,
        "start_time": "2022-02-13T14:57:04.382Z"
      },
      {
        "duration": 14,
        "start_time": "2022-02-13T14:57:05.206Z"
      },
      {
        "duration": 806,
        "start_time": "2022-02-13T14:57:05.223Z"
      },
      {
        "duration": 22,
        "start_time": "2022-02-13T14:57:06.032Z"
      },
      {
        "duration": 860,
        "start_time": "2022-02-13T14:57:06.056Z"
      },
      {
        "duration": 31,
        "start_time": "2022-02-13T14:57:06.918Z"
      },
      {
        "duration": 10,
        "start_time": "2022-02-13T14:57:06.951Z"
      },
      {
        "duration": 14,
        "start_time": "2022-02-13T14:57:06.964Z"
      },
      {
        "duration": 14,
        "start_time": "2022-02-13T14:57:06.980Z"
      },
      {
        "duration": 7,
        "start_time": "2022-02-13T14:57:06.996Z"
      },
      {
        "duration": 7,
        "start_time": "2022-02-13T14:57:07.006Z"
      },
      {
        "duration": 1820,
        "start_time": "2022-02-13T14:57:07.049Z"
      },
      {
        "duration": 22,
        "start_time": "2022-02-13T14:57:08.872Z"
      },
      {
        "duration": 54,
        "start_time": "2022-02-13T14:57:08.897Z"
      },
      {
        "duration": 24,
        "start_time": "2022-02-13T14:57:08.954Z"
      },
      {
        "duration": 17,
        "start_time": "2022-02-13T14:57:08.981Z"
      },
      {
        "duration": 48,
        "start_time": "2022-02-13T14:57:09.001Z"
      },
      {
        "duration": 13,
        "start_time": "2022-02-13T15:15:33.867Z"
      },
      {
        "duration": 297,
        "start_time": "2022-02-13T15:21:02.718Z"
      },
      {
        "duration": 16,
        "start_time": "2022-02-13T15:22:49.558Z"
      },
      {
        "duration": 121,
        "start_time": "2022-02-13T15:26:13.028Z"
      },
      {
        "duration": 283,
        "start_time": "2022-02-13T15:26:31.791Z"
      },
      {
        "duration": 299,
        "start_time": "2022-02-13T15:28:09.139Z"
      },
      {
        "duration": 321,
        "start_time": "2022-02-13T15:28:16.818Z"
      },
      {
        "duration": 308,
        "start_time": "2022-02-13T15:28:39.533Z"
      },
      {
        "duration": 624,
        "start_time": "2022-02-13T15:30:30.610Z"
      },
      {
        "duration": 451,
        "start_time": "2022-02-13T15:31:01.390Z"
      },
      {
        "duration": 403,
        "start_time": "2022-02-13T15:31:24.570Z"
      },
      {
        "duration": 540,
        "start_time": "2022-02-13T15:31:59.272Z"
      },
      {
        "duration": 395,
        "start_time": "2022-02-13T15:34:31.122Z"
      },
      {
        "duration": 396,
        "start_time": "2022-02-13T15:34:46.901Z"
      },
      {
        "duration": 503,
        "start_time": "2022-02-13T15:34:54.352Z"
      },
      {
        "duration": 673,
        "start_time": "2022-02-13T15:37:50.647Z"
      },
      {
        "duration": 554,
        "start_time": "2022-02-13T15:38:56.974Z"
      },
      {
        "duration": 16,
        "start_time": "2022-02-13T15:51:34.597Z"
      },
      {
        "duration": 1641,
        "start_time": "2022-02-13T16:01:55.372Z"
      },
      {
        "duration": 447,
        "start_time": "2022-02-13T16:01:57.016Z"
      },
      {
        "duration": 24,
        "start_time": "2022-02-13T16:01:57.466Z"
      },
      {
        "duration": 18,
        "start_time": "2022-02-13T16:01:57.493Z"
      },
      {
        "duration": 3,
        "start_time": "2022-02-13T16:01:57.514Z"
      },
      {
        "duration": 31,
        "start_time": "2022-02-13T16:01:57.519Z"
      },
      {
        "duration": 20,
        "start_time": "2022-02-13T16:01:57.553Z"
      },
      {
        "duration": 22,
        "start_time": "2022-02-13T16:01:57.577Z"
      },
      {
        "duration": 7,
        "start_time": "2022-02-13T16:01:57.602Z"
      },
      {
        "duration": 17,
        "start_time": "2022-02-13T16:01:57.648Z"
      },
      {
        "duration": 25,
        "start_time": "2022-02-13T16:01:57.668Z"
      },
      {
        "duration": 20,
        "start_time": "2022-02-13T16:01:57.696Z"
      },
      {
        "duration": 28,
        "start_time": "2022-02-13T16:01:57.719Z"
      },
      {
        "duration": 23,
        "start_time": "2022-02-13T16:01:57.750Z"
      },
      {
        "duration": 19,
        "start_time": "2022-02-13T16:01:57.778Z"
      },
      {
        "duration": 430,
        "start_time": "2022-02-13T16:01:57.800Z"
      },
      {
        "duration": 22,
        "start_time": "2022-02-13T16:01:58.233Z"
      },
      {
        "duration": 26,
        "start_time": "2022-02-13T16:01:58.258Z"
      },
      {
        "duration": 33,
        "start_time": "2022-02-13T16:01:58.287Z"
      },
      {
        "duration": 29,
        "start_time": "2022-02-13T16:01:58.322Z"
      },
      {
        "duration": 40,
        "start_time": "2022-02-13T16:01:58.354Z"
      },
      {
        "duration": 30,
        "start_time": "2022-02-13T16:01:58.397Z"
      },
      {
        "duration": 28,
        "start_time": "2022-02-13T16:01:58.433Z"
      },
      {
        "duration": 20,
        "start_time": "2022-02-13T16:01:58.465Z"
      },
      {
        "duration": 440,
        "start_time": "2022-02-13T16:01:58.487Z"
      },
      {
        "duration": 7,
        "start_time": "2022-02-13T16:01:58.930Z"
      },
      {
        "duration": 13,
        "start_time": "2022-02-13T16:01:58.948Z"
      },
      {
        "duration": 18,
        "start_time": "2022-02-13T16:01:58.963Z"
      },
      {
        "duration": 702,
        "start_time": "2022-02-13T16:01:58.984Z"
      },
      {
        "duration": 11,
        "start_time": "2022-02-13T16:01:59.689Z"
      },
      {
        "duration": 3346,
        "start_time": "2022-02-13T16:01:59.702Z"
      },
      {
        "duration": 323,
        "start_time": "2022-02-13T16:02:03.051Z"
      },
      {
        "duration": 12,
        "start_time": "2022-02-13T16:02:03.377Z"
      },
      {
        "duration": 3287,
        "start_time": "2022-02-13T16:02:03.391Z"
      },
      {
        "duration": 9,
        "start_time": "2022-02-13T16:02:06.680Z"
      },
      {
        "duration": 12,
        "start_time": "2022-02-13T16:02:06.692Z"
      },
      {
        "duration": 609,
        "start_time": "2022-02-13T16:02:06.707Z"
      },
      {
        "duration": 582,
        "start_time": "2022-02-13T16:02:07.320Z"
      },
      {
        "duration": 946,
        "start_time": "2022-02-13T16:02:07.904Z"
      },
      {
        "duration": 15,
        "start_time": "2022-02-13T16:02:08.853Z"
      },
      {
        "duration": 941,
        "start_time": "2022-02-13T16:02:08.870Z"
      },
      {
        "duration": 34,
        "start_time": "2022-02-13T16:02:09.814Z"
      },
      {
        "duration": 790,
        "start_time": "2022-02-13T16:02:09.851Z"
      },
      {
        "duration": 17,
        "start_time": "2022-02-13T16:02:10.644Z"
      },
      {
        "duration": 13,
        "start_time": "2022-02-13T16:02:10.664Z"
      },
      {
        "duration": 444,
        "start_time": "2022-02-13T16:02:10.679Z"
      },
      {
        "duration": 23,
        "start_time": "2022-02-13T16:02:11.127Z"
      },
      {
        "duration": 546,
        "start_time": "2022-02-13T16:02:11.153Z"
      },
      {
        "duration": 13,
        "start_time": "2022-02-13T16:02:11.702Z"
      },
      {
        "duration": 770,
        "start_time": "2022-02-13T16:02:11.717Z"
      },
      {
        "duration": 8,
        "start_time": "2022-02-13T16:02:12.490Z"
      },
      {
        "duration": 10,
        "start_time": "2022-02-13T16:02:12.501Z"
      },
      {
        "duration": 1645,
        "start_time": "2022-02-13T16:02:12.514Z"
      },
      {
        "duration": 18,
        "start_time": "2022-02-13T16:02:14.162Z"
      },
      {
        "duration": 26,
        "start_time": "2022-02-13T16:02:14.182Z"
      },
      {
        "duration": 52,
        "start_time": "2022-02-13T16:02:14.211Z"
      },
      {
        "duration": 13,
        "start_time": "2022-02-13T16:02:14.265Z"
      },
      {
        "duration": 17,
        "start_time": "2022-02-13T16:02:14.281Z"
      },
      {
        "duration": 953,
        "start_time": "2022-02-13T16:11:51.662Z"
      },
      {
        "duration": 16,
        "start_time": "2022-02-13T16:11:57.181Z"
      },
      {
        "duration": 15,
        "start_time": "2022-02-13T16:12:07.916Z"
      },
      {
        "duration": 1934,
        "start_time": "2022-02-13T16:27:39.899Z"
      },
      {
        "duration": 358,
        "start_time": "2022-02-13T16:27:41.837Z"
      },
      {
        "duration": 50,
        "start_time": "2022-02-13T16:27:42.199Z"
      },
      {
        "duration": 19,
        "start_time": "2022-02-13T16:27:42.253Z"
      },
      {
        "duration": 8,
        "start_time": "2022-02-13T16:27:42.275Z"
      },
      {
        "duration": 15,
        "start_time": "2022-02-13T16:27:42.286Z"
      },
      {
        "duration": 45,
        "start_time": "2022-02-13T16:27:42.304Z"
      },
      {
        "duration": 37,
        "start_time": "2022-02-13T16:27:42.353Z"
      },
      {
        "duration": 10,
        "start_time": "2022-02-13T16:27:42.396Z"
      },
      {
        "duration": 42,
        "start_time": "2022-02-13T16:27:42.410Z"
      },
      {
        "duration": 13,
        "start_time": "2022-02-13T16:27:42.456Z"
      },
      {
        "duration": 8,
        "start_time": "2022-02-13T16:27:42.472Z"
      },
      {
        "duration": 32,
        "start_time": "2022-02-13T16:27:42.483Z"
      },
      {
        "duration": 51,
        "start_time": "2022-02-13T16:27:42.518Z"
      },
      {
        "duration": 32,
        "start_time": "2022-02-13T16:27:42.573Z"
      },
      {
        "duration": 510,
        "start_time": "2022-02-13T16:27:42.608Z"
      },
      {
        "duration": 32,
        "start_time": "2022-02-13T16:27:43.121Z"
      },
      {
        "duration": 28,
        "start_time": "2022-02-13T16:27:43.156Z"
      },
      {
        "duration": 31,
        "start_time": "2022-02-13T16:27:43.188Z"
      },
      {
        "duration": 8,
        "start_time": "2022-02-13T16:27:43.250Z"
      },
      {
        "duration": 64,
        "start_time": "2022-02-13T16:27:43.261Z"
      },
      {
        "duration": 23,
        "start_time": "2022-02-13T16:27:43.349Z"
      },
      {
        "duration": 32,
        "start_time": "2022-02-13T16:27:43.375Z"
      },
      {
        "duration": 20,
        "start_time": "2022-02-13T16:27:43.411Z"
      },
      {
        "duration": 670,
        "start_time": "2022-02-13T16:27:43.449Z"
      },
      {
        "duration": 26,
        "start_time": "2022-02-13T16:27:44.122Z"
      },
      {
        "duration": 16,
        "start_time": "2022-02-13T16:27:44.159Z"
      },
      {
        "duration": 12,
        "start_time": "2022-02-13T16:27:44.178Z"
      },
      {
        "duration": 959,
        "start_time": "2022-02-13T16:27:44.194Z"
      },
      {
        "duration": 15,
        "start_time": "2022-02-13T16:27:45.156Z"
      },
      {
        "duration": 4112,
        "start_time": "2022-02-13T16:27:45.175Z"
      },
      {
        "duration": 467,
        "start_time": "2022-02-13T16:27:49.291Z"
      },
      {
        "duration": 15,
        "start_time": "2022-02-13T16:27:49.762Z"
      },
      {
        "duration": 4761,
        "start_time": "2022-02-13T16:27:49.780Z"
      },
      {
        "duration": 10,
        "start_time": "2022-02-13T16:27:54.548Z"
      },
      {
        "duration": 16,
        "start_time": "2022-02-13T16:27:54.562Z"
      },
      {
        "duration": 854,
        "start_time": "2022-02-13T16:27:54.581Z"
      },
      {
        "duration": 790,
        "start_time": "2022-02-13T16:27:55.439Z"
      },
      {
        "duration": 925,
        "start_time": "2022-02-13T16:27:56.232Z"
      },
      {
        "duration": 30,
        "start_time": "2022-02-13T16:27:57.162Z"
      },
      {
        "duration": 852,
        "start_time": "2022-02-13T16:27:57.197Z"
      },
      {
        "duration": 19,
        "start_time": "2022-02-13T16:27:58.052Z"
      },
      {
        "duration": 1138,
        "start_time": "2022-02-13T16:27:58.074Z"
      },
      {
        "duration": 35,
        "start_time": "2022-02-13T16:27:59.215Z"
      },
      {
        "duration": 1055,
        "start_time": "2022-02-13T16:27:59.252Z"
      },
      {
        "duration": 42,
        "start_time": "2022-02-13T16:28:00.321Z"
      },
      {
        "duration": 104,
        "start_time": "2022-02-13T16:28:00.383Z"
      },
      {
        "duration": 969,
        "start_time": "2022-02-13T16:28:00.507Z"
      },
      {
        "duration": 32,
        "start_time": "2022-02-13T16:28:01.497Z"
      },
      {
        "duration": 733,
        "start_time": "2022-02-13T16:28:01.539Z"
      },
      {
        "duration": 13,
        "start_time": "2022-02-13T16:28:02.275Z"
      },
      {
        "duration": 800,
        "start_time": "2022-02-13T16:28:02.293Z"
      },
      {
        "duration": 12,
        "start_time": "2022-02-13T16:28:03.097Z"
      },
      {
        "duration": 27,
        "start_time": "2022-02-13T16:28:03.113Z"
      },
      {
        "duration": 2237,
        "start_time": "2022-02-13T16:28:03.147Z"
      },
      {
        "duration": 27,
        "start_time": "2022-02-13T16:28:05.388Z"
      },
      {
        "duration": 50,
        "start_time": "2022-02-13T16:28:05.419Z"
      },
      {
        "duration": 20,
        "start_time": "2022-02-13T16:28:05.471Z"
      },
      {
        "duration": 55,
        "start_time": "2022-02-13T16:28:05.494Z"
      },
      {
        "duration": 25,
        "start_time": "2022-02-13T16:28:05.552Z"
      }
    ],
    "kernelspec": {
      "display_name": "Python 3 (ipykernel)",
      "language": "python",
      "name": "python3"
    },
    "language_info": {
      "codemirror_mode": {
        "name": "ipython",
        "version": 3
      },
      "file_extension": ".py",
      "mimetype": "text/x-python",
      "name": "python",
      "nbconvert_exporter": "python",
      "pygments_lexer": "ipython3",
      "version": "3.9.5"
    },
    "toc": {
      "base_numbering": 1,
      "nav_menu": {},
      "number_sections": true,
      "sideBar": true,
      "skip_h1_title": true,
      "title_cell": "Table of Contents",
      "title_sidebar": "Contents",
      "toc_cell": false,
      "toc_position": {
        "height": "calc(100% - 180px)",
        "left": "10px",
        "top": "150px",
        "width": "165px"
      },
      "toc_section_display": true,
      "toc_window_display": true
    },
    "colab": {
      "name": "visualization_analysis_of_statistics.ipynb",
      "provenance": []
    }
  },
  "nbformat": 4,
  "nbformat_minor": 5
}