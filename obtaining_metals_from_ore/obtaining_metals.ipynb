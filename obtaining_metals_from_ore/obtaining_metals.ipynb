{
  "cells": [
    {
      "cell_type": "markdown",
      "metadata": {
        "id": "UdMosJ2EkvkA"
      },
      "source": [
        "# Предсказание восстановления металлов из руды"
      ]
    },
    {
      "cell_type": "markdown",
      "metadata": {
        "id": "LYr1ZFyWkvkB"
      },
      "source": [
        "Необходимо подготовить модель которая может предсказать коэффициент восстановления золота из золотосодержащей руды по данным с параметрами добычи и очистки. \n"
      ]
    },
    {
      "cell_type": "markdown",
      "metadata": {
        "id": "IO2h04ZSkvkD"
      },
      "source": [
        "## Подготовка данных"
      ]
    },
    {
      "cell_type": "markdown",
      "metadata": {
        "id": "W6dmM3__kvkE"
      },
      "source": [
        " Откройте файлы и изучите их.\n",
        "  Проверьте, что эффективность обогащения рассчитана правильно. \n",
        "  Проанализируйте признаки, недоступные в тестовой выборке.\n",
        "  Проведите предобработку данных."
      ]
    },
    {
      "cell_type": "markdown",
      "metadata": {
        "id": "mUnSoP1AkvkH"
      },
      "source": [
        "Наименование признаков:\n",
        "- [этап].[тип_параметра].[название_параметра]\n",
        "\n",
        "\n",
        "- Возможные значения для блока [этап]:\n",
        "- rougher — флотация\n",
        "- primary_cleaner — первичная очистка\n",
        "- secondary_cleaner — вторичная очистка\n",
        "- final — финальные характеристики\n",
        "\n",
        "\n",
        "- Возможные значения для блока [тип_параметра]:\n",
        "- input — параметры сырья\n",
        "- output — параметры продукта\n",
        "- state — параметры, характеризующие текущее состояние этапа\n",
        "- calculation — расчётные характеристики"
      ]
    },
    {
      "cell_type": "markdown",
      "metadata": {
        "id": "lrRLtAHfkvkS"
      },
      "source": [
        "C = rougher.output.concentrate_au\n",
        "F = rougher.input.feed_au\n",
        "rougher.output.recovery\n",
        "T = rougher.output.tail_au"
      ]
    },
    {
      "cell_type": "markdown",
      "metadata": {
        "id": "FUjMLWM3kvkV"
      },
      "source": [
        "recovery = (C * (F-T) / (F * (C-T))) * 100%\n",
        "\n",
        "- C — доля золота в концентрате после флотации/очистки;\n",
        "- F — доля золота в сырье/концентрате до флотации/очистки;\n",
        "- T — доля золота в отвальных хвостах после флотации/очистки."
      ]
    },
    {
      "cell_type": "code",
      "execution_count": null,
      "metadata": {
        "id": "Z7YRkRM7kvkX"
      },
      "outputs": [],
      "source": [
        "import pandas as pd\n",
        "import matplotlib.pyplot as plt\n",
        "import numpy as np\n",
        "import sklearn\n",
        "from sklearn.preprocessing import StandardScaler\n",
        "\n",
        "from sklearn.linear_model import LinearRegression\n",
        "from sklearn.tree import DecisionTreeRegressor\n",
        "from sklearn.ensemble import RandomForestRegressor\n",
        "\n",
        "from sklearn.model_selection import KFold, cross_val_score, GridSearchCV\n",
        "from sklearn.metrics import make_scorer\n"
      ]
    },
    {
      "cell_type": "code",
      "execution_count": null,
      "metadata": {
        "id": "DczTINKwkvke"
      },
      "outputs": [],
      "source": [
        "data_train = pd.read_csv('/datasets/gold_recovery_train_new.csv')\n",
        "data_test = pd.read_csv('/datasets/gold_recovery_test_new.csv')\n",
        "data_full = pd.read_csv('/datasets/gold_recovery_full_new.csv')"
      ]
    },
    {
      "cell_type": "code",
      "execution_count": null,
      "metadata": {
        "id": "a714y1nkkvkh",
        "outputId": "a6a28402-62b3-4445-d00a-e458853583a8"
      },
      "outputs": [
        {
          "data": {
            "text/html": [
              "<div>\n",
              "<style scoped>\n",
              "    .dataframe tbody tr th:only-of-type {\n",
              "        vertical-align: middle;\n",
              "    }\n",
              "\n",
              "    .dataframe tbody tr th {\n",
              "        vertical-align: top;\n",
              "    }\n",
              "\n",
              "    .dataframe thead th {\n",
              "        text-align: right;\n",
              "    }\n",
              "</style>\n",
              "<table border=\"1\" class=\"dataframe\">\n",
              "  <thead>\n",
              "    <tr style=\"text-align: right;\">\n",
              "      <th></th>\n",
              "      <th>date</th>\n",
              "      <th>final.output.concentrate_ag</th>\n",
              "      <th>final.output.concentrate_pb</th>\n",
              "      <th>final.output.concentrate_sol</th>\n",
              "      <th>final.output.concentrate_au</th>\n",
              "      <th>final.output.recovery</th>\n",
              "      <th>final.output.tail_ag</th>\n",
              "      <th>final.output.tail_pb</th>\n",
              "      <th>final.output.tail_sol</th>\n",
              "      <th>final.output.tail_au</th>\n",
              "      <th>...</th>\n",
              "      <th>secondary_cleaner.state.floatbank4_a_air</th>\n",
              "      <th>secondary_cleaner.state.floatbank4_a_level</th>\n",
              "      <th>secondary_cleaner.state.floatbank4_b_air</th>\n",
              "      <th>secondary_cleaner.state.floatbank4_b_level</th>\n",
              "      <th>secondary_cleaner.state.floatbank5_a_air</th>\n",
              "      <th>secondary_cleaner.state.floatbank5_a_level</th>\n",
              "      <th>secondary_cleaner.state.floatbank5_b_air</th>\n",
              "      <th>secondary_cleaner.state.floatbank5_b_level</th>\n",
              "      <th>secondary_cleaner.state.floatbank6_a_air</th>\n",
              "      <th>secondary_cleaner.state.floatbank6_a_level</th>\n",
              "    </tr>\n",
              "  </thead>\n",
              "  <tbody>\n",
              "    <tr>\n",
              "      <th>0</th>\n",
              "      <td>2016-01-15 00:00:00</td>\n",
              "      <td>6.055403</td>\n",
              "      <td>9.889648</td>\n",
              "      <td>5.507324</td>\n",
              "      <td>42.192020</td>\n",
              "      <td>70.541216</td>\n",
              "      <td>10.411962</td>\n",
              "      <td>0.895447</td>\n",
              "      <td>16.904297</td>\n",
              "      <td>2.143149</td>\n",
              "      <td>...</td>\n",
              "      <td>14.016835</td>\n",
              "      <td>-502.488007</td>\n",
              "      <td>12.099931</td>\n",
              "      <td>-504.715942</td>\n",
              "      <td>9.925633</td>\n",
              "      <td>-498.310211</td>\n",
              "      <td>8.079666</td>\n",
              "      <td>-500.470978</td>\n",
              "      <td>14.151341</td>\n",
              "      <td>-605.841980</td>\n",
              "    </tr>\n",
              "    <tr>\n",
              "      <th>1</th>\n",
              "      <td>2016-01-15 01:00:00</td>\n",
              "      <td>6.029369</td>\n",
              "      <td>9.968944</td>\n",
              "      <td>5.257781</td>\n",
              "      <td>42.701629</td>\n",
              "      <td>69.266198</td>\n",
              "      <td>10.462676</td>\n",
              "      <td>0.927452</td>\n",
              "      <td>16.634514</td>\n",
              "      <td>2.224930</td>\n",
              "      <td>...</td>\n",
              "      <td>13.992281</td>\n",
              "      <td>-505.503262</td>\n",
              "      <td>11.950531</td>\n",
              "      <td>-501.331529</td>\n",
              "      <td>10.039245</td>\n",
              "      <td>-500.169983</td>\n",
              "      <td>7.984757</td>\n",
              "      <td>-500.582168</td>\n",
              "      <td>13.998353</td>\n",
              "      <td>-599.787184</td>\n",
              "    </tr>\n",
              "    <tr>\n",
              "      <th>2</th>\n",
              "      <td>2016-01-15 02:00:00</td>\n",
              "      <td>6.055926</td>\n",
              "      <td>10.213995</td>\n",
              "      <td>5.383759</td>\n",
              "      <td>42.657501</td>\n",
              "      <td>68.116445</td>\n",
              "      <td>10.507046</td>\n",
              "      <td>0.953716</td>\n",
              "      <td>16.208849</td>\n",
              "      <td>2.257889</td>\n",
              "      <td>...</td>\n",
              "      <td>14.015015</td>\n",
              "      <td>-502.520901</td>\n",
              "      <td>11.912783</td>\n",
              "      <td>-501.133383</td>\n",
              "      <td>10.070913</td>\n",
              "      <td>-500.129135</td>\n",
              "      <td>8.013877</td>\n",
              "      <td>-500.517572</td>\n",
              "      <td>14.028663</td>\n",
              "      <td>-601.427363</td>\n",
              "    </tr>\n",
              "    <tr>\n",
              "      <th>3</th>\n",
              "      <td>2016-01-15 03:00:00</td>\n",
              "      <td>6.047977</td>\n",
              "      <td>9.977019</td>\n",
              "      <td>4.858634</td>\n",
              "      <td>42.689819</td>\n",
              "      <td>68.347543</td>\n",
              "      <td>10.422762</td>\n",
              "      <td>0.883763</td>\n",
              "      <td>16.532835</td>\n",
              "      <td>2.146849</td>\n",
              "      <td>...</td>\n",
              "      <td>14.036510</td>\n",
              "      <td>-500.857308</td>\n",
              "      <td>11.999550</td>\n",
              "      <td>-501.193686</td>\n",
              "      <td>9.970366</td>\n",
              "      <td>-499.201640</td>\n",
              "      <td>7.977324</td>\n",
              "      <td>-500.255908</td>\n",
              "      <td>14.005551</td>\n",
              "      <td>-599.996129</td>\n",
              "    </tr>\n",
              "    <tr>\n",
              "      <th>4</th>\n",
              "      <td>2016-01-15 04:00:00</td>\n",
              "      <td>6.148599</td>\n",
              "      <td>10.142511</td>\n",
              "      <td>4.939416</td>\n",
              "      <td>42.774141</td>\n",
              "      <td>66.927016</td>\n",
              "      <td>10.360302</td>\n",
              "      <td>0.792826</td>\n",
              "      <td>16.525686</td>\n",
              "      <td>2.055292</td>\n",
              "      <td>...</td>\n",
              "      <td>14.027298</td>\n",
              "      <td>-499.838632</td>\n",
              "      <td>11.953070</td>\n",
              "      <td>-501.053894</td>\n",
              "      <td>9.925709</td>\n",
              "      <td>-501.686727</td>\n",
              "      <td>7.894242</td>\n",
              "      <td>-500.356035</td>\n",
              "      <td>13.996647</td>\n",
              "      <td>-601.496691</td>\n",
              "    </tr>\n",
              "  </tbody>\n",
              "</table>\n",
              "<p>5 rows × 87 columns</p>\n",
              "</div>"
            ],
            "text/plain": [
              "                  date  final.output.concentrate_ag  \\\n",
              "0  2016-01-15 00:00:00                     6.055403   \n",
              "1  2016-01-15 01:00:00                     6.029369   \n",
              "2  2016-01-15 02:00:00                     6.055926   \n",
              "3  2016-01-15 03:00:00                     6.047977   \n",
              "4  2016-01-15 04:00:00                     6.148599   \n",
              "\n",
              "   final.output.concentrate_pb  final.output.concentrate_sol  \\\n",
              "0                     9.889648                      5.507324   \n",
              "1                     9.968944                      5.257781   \n",
              "2                    10.213995                      5.383759   \n",
              "3                     9.977019                      4.858634   \n",
              "4                    10.142511                      4.939416   \n",
              "\n",
              "   final.output.concentrate_au  final.output.recovery  final.output.tail_ag  \\\n",
              "0                    42.192020              70.541216             10.411962   \n",
              "1                    42.701629              69.266198             10.462676   \n",
              "2                    42.657501              68.116445             10.507046   \n",
              "3                    42.689819              68.347543             10.422762   \n",
              "4                    42.774141              66.927016             10.360302   \n",
              "\n",
              "   final.output.tail_pb  final.output.tail_sol  final.output.tail_au  ...  \\\n",
              "0              0.895447              16.904297              2.143149  ...   \n",
              "1              0.927452              16.634514              2.224930  ...   \n",
              "2              0.953716              16.208849              2.257889  ...   \n",
              "3              0.883763              16.532835              2.146849  ...   \n",
              "4              0.792826              16.525686              2.055292  ...   \n",
              "\n",
              "   secondary_cleaner.state.floatbank4_a_air  \\\n",
              "0                                 14.016835   \n",
              "1                                 13.992281   \n",
              "2                                 14.015015   \n",
              "3                                 14.036510   \n",
              "4                                 14.027298   \n",
              "\n",
              "   secondary_cleaner.state.floatbank4_a_level  \\\n",
              "0                                 -502.488007   \n",
              "1                                 -505.503262   \n",
              "2                                 -502.520901   \n",
              "3                                 -500.857308   \n",
              "4                                 -499.838632   \n",
              "\n",
              "   secondary_cleaner.state.floatbank4_b_air  \\\n",
              "0                                 12.099931   \n",
              "1                                 11.950531   \n",
              "2                                 11.912783   \n",
              "3                                 11.999550   \n",
              "4                                 11.953070   \n",
              "\n",
              "   secondary_cleaner.state.floatbank4_b_level  \\\n",
              "0                                 -504.715942   \n",
              "1                                 -501.331529   \n",
              "2                                 -501.133383   \n",
              "3                                 -501.193686   \n",
              "4                                 -501.053894   \n",
              "\n",
              "   secondary_cleaner.state.floatbank5_a_air  \\\n",
              "0                                  9.925633   \n",
              "1                                 10.039245   \n",
              "2                                 10.070913   \n",
              "3                                  9.970366   \n",
              "4                                  9.925709   \n",
              "\n",
              "   secondary_cleaner.state.floatbank5_a_level  \\\n",
              "0                                 -498.310211   \n",
              "1                                 -500.169983   \n",
              "2                                 -500.129135   \n",
              "3                                 -499.201640   \n",
              "4                                 -501.686727   \n",
              "\n",
              "   secondary_cleaner.state.floatbank5_b_air  \\\n",
              "0                                  8.079666   \n",
              "1                                  7.984757   \n",
              "2                                  8.013877   \n",
              "3                                  7.977324   \n",
              "4                                  7.894242   \n",
              "\n",
              "   secondary_cleaner.state.floatbank5_b_level  \\\n",
              "0                                 -500.470978   \n",
              "1                                 -500.582168   \n",
              "2                                 -500.517572   \n",
              "3                                 -500.255908   \n",
              "4                                 -500.356035   \n",
              "\n",
              "   secondary_cleaner.state.floatbank6_a_air  \\\n",
              "0                                 14.151341   \n",
              "1                                 13.998353   \n",
              "2                                 14.028663   \n",
              "3                                 14.005551   \n",
              "4                                 13.996647   \n",
              "\n",
              "   secondary_cleaner.state.floatbank6_a_level  \n",
              "0                                 -605.841980  \n",
              "1                                 -599.787184  \n",
              "2                                 -601.427363  \n",
              "3                                 -599.996129  \n",
              "4                                 -601.496691  \n",
              "\n",
              "[5 rows x 87 columns]"
            ]
          },
          "execution_count": 3,
          "metadata": {},
          "output_type": "execute_result"
        }
      ],
      "source": [
        "data_train.head(5)"
      ]
    },
    {
      "cell_type": "code",
      "execution_count": null,
      "metadata": {
        "id": "1ZPQ_sgDkvkk",
        "outputId": "10788d21-974c-4d83-c96c-846a7d56a4df"
      },
      "outputs": [
        {
          "data": {
            "text/plain": [
              "'data_train: (14149, 87), data_test: (5290, 53), data_full: (19439, 87)'"
            ]
          },
          "execution_count": 4,
          "metadata": {},
          "output_type": "execute_result"
        }
      ],
      "source": [
        "f'data_train: {data_train.shape}, data_test: {data_test.shape}, data_full: {data_full.shape}'"
      ]
    },
    {
      "cell_type": "code",
      "execution_count": null,
      "metadata": {
        "id": "fWhEtP4jkvkn",
        "outputId": "3d95ed80-1a57-4a78-a980-2dbf7286ff43"
      },
      "outputs": [
        {
          "name": "stdout",
          "output_type": "stream",
          "text": [
            "<class 'pandas.core.frame.DataFrame'>\n",
            "RangeIndex: 14149 entries, 0 to 14148\n",
            "Data columns (total 87 columns):\n",
            " #   Column                                              Non-Null Count  Dtype  \n",
            "---  ------                                              --------------  -----  \n",
            " 0   date                                                14149 non-null  object \n",
            " 1   final.output.concentrate_ag                         14148 non-null  float64\n",
            " 2   final.output.concentrate_pb                         14148 non-null  float64\n",
            " 3   final.output.concentrate_sol                        13938 non-null  float64\n",
            " 4   final.output.concentrate_au                         14149 non-null  float64\n",
            " 5   final.output.recovery                               14149 non-null  float64\n",
            " 6   final.output.tail_ag                                14149 non-null  float64\n",
            " 7   final.output.tail_pb                                14049 non-null  float64\n",
            " 8   final.output.tail_sol                               14144 non-null  float64\n",
            " 9   final.output.tail_au                                14149 non-null  float64\n",
            " 10  primary_cleaner.input.sulfate                       14129 non-null  float64\n",
            " 11  primary_cleaner.input.depressant                    14117 non-null  float64\n",
            " 12  primary_cleaner.input.feed_size                     14149 non-null  float64\n",
            " 13  primary_cleaner.input.xanthate                      14049 non-null  float64\n",
            " 14  primary_cleaner.output.concentrate_ag               14149 non-null  float64\n",
            " 15  primary_cleaner.output.concentrate_pb               14063 non-null  float64\n",
            " 16  primary_cleaner.output.concentrate_sol              13863 non-null  float64\n",
            " 17  primary_cleaner.output.concentrate_au               14149 non-null  float64\n",
            " 18  primary_cleaner.output.tail_ag                      14148 non-null  float64\n",
            " 19  primary_cleaner.output.tail_pb                      14134 non-null  float64\n",
            " 20  primary_cleaner.output.tail_sol                     14103 non-null  float64\n",
            " 21  primary_cleaner.output.tail_au                      14149 non-null  float64\n",
            " 22  primary_cleaner.state.floatbank8_a_air              14145 non-null  float64\n",
            " 23  primary_cleaner.state.floatbank8_a_level            14148 non-null  float64\n",
            " 24  primary_cleaner.state.floatbank8_b_air              14145 non-null  float64\n",
            " 25  primary_cleaner.state.floatbank8_b_level            14148 non-null  float64\n",
            " 26  primary_cleaner.state.floatbank8_c_air              14147 non-null  float64\n",
            " 27  primary_cleaner.state.floatbank8_c_level            14148 non-null  float64\n",
            " 28  primary_cleaner.state.floatbank8_d_air              14146 non-null  float64\n",
            " 29  primary_cleaner.state.floatbank8_d_level            14148 non-null  float64\n",
            " 30  rougher.calculation.sulfate_to_au_concentrate       14148 non-null  float64\n",
            " 31  rougher.calculation.floatbank10_sulfate_to_au_feed  14148 non-null  float64\n",
            " 32  rougher.calculation.floatbank11_sulfate_to_au_feed  14148 non-null  float64\n",
            " 33  rougher.calculation.au_pb_ratio                     14149 non-null  float64\n",
            " 34  rougher.input.feed_ag                               14149 non-null  float64\n",
            " 35  rougher.input.feed_pb                               14049 non-null  float64\n",
            " 36  rougher.input.feed_rate                             14141 non-null  float64\n",
            " 37  rougher.input.feed_size                             14005 non-null  float64\n",
            " 38  rougher.input.feed_sol                              14071 non-null  float64\n",
            " 39  rougher.input.feed_au                               14149 non-null  float64\n",
            " 40  rougher.input.floatbank10_sulfate                   14120 non-null  float64\n",
            " 41  rougher.input.floatbank10_xanthate                  14141 non-null  float64\n",
            " 42  rougher.input.floatbank11_sulfate                   14113 non-null  float64\n",
            " 43  rougher.input.floatbank11_xanthate                  13721 non-null  float64\n",
            " 44  rougher.output.concentrate_ag                       14149 non-null  float64\n",
            " 45  rougher.output.concentrate_pb                       14149 non-null  float64\n",
            " 46  rougher.output.concentrate_sol                      14127 non-null  float64\n",
            " 47  rougher.output.concentrate_au                       14149 non-null  float64\n",
            " 48  rougher.output.recovery                             14149 non-null  float64\n",
            " 49  rougher.output.tail_ag                              14148 non-null  float64\n",
            " 50  rougher.output.tail_pb                              14149 non-null  float64\n",
            " 51  rougher.output.tail_sol                             14149 non-null  float64\n",
            " 52  rougher.output.tail_au                              14149 non-null  float64\n",
            " 53  rougher.state.floatbank10_a_air                     14148 non-null  float64\n",
            " 54  rougher.state.floatbank10_a_level                   14148 non-null  float64\n",
            " 55  rougher.state.floatbank10_b_air                     14148 non-null  float64\n",
            " 56  rougher.state.floatbank10_b_level                   14148 non-null  float64\n",
            " 57  rougher.state.floatbank10_c_air                     14148 non-null  float64\n",
            " 58  rougher.state.floatbank10_c_level                   14148 non-null  float64\n",
            " 59  rougher.state.floatbank10_d_air                     14149 non-null  float64\n",
            " 60  rougher.state.floatbank10_d_level                   14149 non-null  float64\n",
            " 61  rougher.state.floatbank10_e_air                     13713 non-null  float64\n",
            " 62  rougher.state.floatbank10_e_level                   14149 non-null  float64\n",
            " 63  rougher.state.floatbank10_f_air                     14149 non-null  float64\n",
            " 64  rougher.state.floatbank10_f_level                   14149 non-null  float64\n",
            " 65  secondary_cleaner.output.tail_ag                    14147 non-null  float64\n",
            " 66  secondary_cleaner.output.tail_pb                    14139 non-null  float64\n",
            " 67  secondary_cleaner.output.tail_sol                   12544 non-null  float64\n",
            " 68  secondary_cleaner.output.tail_au                    14149 non-null  float64\n",
            " 69  secondary_cleaner.state.floatbank2_a_air            13932 non-null  float64\n",
            " 70  secondary_cleaner.state.floatbank2_a_level          14148 non-null  float64\n",
            " 71  secondary_cleaner.state.floatbank2_b_air            14128 non-null  float64\n",
            " 72  secondary_cleaner.state.floatbank2_b_level          14148 non-null  float64\n",
            " 73  secondary_cleaner.state.floatbank3_a_air            14145 non-null  float64\n",
            " 74  secondary_cleaner.state.floatbank3_a_level          14148 non-null  float64\n",
            " 75  secondary_cleaner.state.floatbank3_b_air            14148 non-null  float64\n",
            " 76  secondary_cleaner.state.floatbank3_b_level          14148 non-null  float64\n",
            " 77  secondary_cleaner.state.floatbank4_a_air            14143 non-null  float64\n",
            " 78  secondary_cleaner.state.floatbank4_a_level          14148 non-null  float64\n",
            " 79  secondary_cleaner.state.floatbank4_b_air            14148 non-null  float64\n",
            " 80  secondary_cleaner.state.floatbank4_b_level          14148 non-null  float64\n",
            " 81  secondary_cleaner.state.floatbank5_a_air            14148 non-null  float64\n",
            " 82  secondary_cleaner.state.floatbank5_a_level          14148 non-null  float64\n",
            " 83  secondary_cleaner.state.floatbank5_b_air            14148 non-null  float64\n",
            " 84  secondary_cleaner.state.floatbank5_b_level          14148 non-null  float64\n",
            " 85  secondary_cleaner.state.floatbank6_a_air            14147 non-null  float64\n",
            " 86  secondary_cleaner.state.floatbank6_a_level          14148 non-null  float64\n",
            "dtypes: float64(86), object(1)\n",
            "memory usage: 9.4+ MB\n"
          ]
        }
      ],
      "source": [
        "data_train.info()"
      ]
    },
    {
      "cell_type": "code",
      "execution_count": null,
      "metadata": {
        "id": "BtH1fUExkvko",
        "outputId": "f47104be-1b67-445f-fc82-c2fa6c8942e9"
      },
      "outputs": [
        {
          "name": "stdout",
          "output_type": "stream",
          "text": [
            "<class 'pandas.core.frame.DataFrame'>\n",
            "RangeIndex: 5290 entries, 0 to 5289\n",
            "Data columns (total 53 columns):\n",
            " #   Column                                      Non-Null Count  Dtype  \n",
            "---  ------                                      --------------  -----  \n",
            " 0   date                                        5290 non-null   object \n",
            " 1   primary_cleaner.input.sulfate               5286 non-null   float64\n",
            " 2   primary_cleaner.input.depressant            5285 non-null   float64\n",
            " 3   primary_cleaner.input.feed_size             5290 non-null   float64\n",
            " 4   primary_cleaner.input.xanthate              5286 non-null   float64\n",
            " 5   primary_cleaner.state.floatbank8_a_air      5290 non-null   float64\n",
            " 6   primary_cleaner.state.floatbank8_a_level    5290 non-null   float64\n",
            " 7   primary_cleaner.state.floatbank8_b_air      5290 non-null   float64\n",
            " 8   primary_cleaner.state.floatbank8_b_level    5290 non-null   float64\n",
            " 9   primary_cleaner.state.floatbank8_c_air      5290 non-null   float64\n",
            " 10  primary_cleaner.state.floatbank8_c_level    5290 non-null   float64\n",
            " 11  primary_cleaner.state.floatbank8_d_air      5290 non-null   float64\n",
            " 12  primary_cleaner.state.floatbank8_d_level    5290 non-null   float64\n",
            " 13  rougher.input.feed_ag                       5290 non-null   float64\n",
            " 14  rougher.input.feed_pb                       5290 non-null   float64\n",
            " 15  rougher.input.feed_rate                     5287 non-null   float64\n",
            " 16  rougher.input.feed_size                     5289 non-null   float64\n",
            " 17  rougher.input.feed_sol                      5269 non-null   float64\n",
            " 18  rougher.input.feed_au                       5290 non-null   float64\n",
            " 19  rougher.input.floatbank10_sulfate           5285 non-null   float64\n",
            " 20  rougher.input.floatbank10_xanthate          5290 non-null   float64\n",
            " 21  rougher.input.floatbank11_sulfate           5282 non-null   float64\n",
            " 22  rougher.input.floatbank11_xanthate          5265 non-null   float64\n",
            " 23  rougher.state.floatbank10_a_air             5290 non-null   float64\n",
            " 24  rougher.state.floatbank10_a_level           5290 non-null   float64\n",
            " 25  rougher.state.floatbank10_b_air             5290 non-null   float64\n",
            " 26  rougher.state.floatbank10_b_level           5290 non-null   float64\n",
            " 27  rougher.state.floatbank10_c_air             5290 non-null   float64\n",
            " 28  rougher.state.floatbank10_c_level           5290 non-null   float64\n",
            " 29  rougher.state.floatbank10_d_air             5290 non-null   float64\n",
            " 30  rougher.state.floatbank10_d_level           5290 non-null   float64\n",
            " 31  rougher.state.floatbank10_e_air             5290 non-null   float64\n",
            " 32  rougher.state.floatbank10_e_level           5290 non-null   float64\n",
            " 33  rougher.state.floatbank10_f_air             5290 non-null   float64\n",
            " 34  rougher.state.floatbank10_f_level           5290 non-null   float64\n",
            " 35  secondary_cleaner.state.floatbank2_a_air    5287 non-null   float64\n",
            " 36  secondary_cleaner.state.floatbank2_a_level  5290 non-null   float64\n",
            " 37  secondary_cleaner.state.floatbank2_b_air    5288 non-null   float64\n",
            " 38  secondary_cleaner.state.floatbank2_b_level  5290 non-null   float64\n",
            " 39  secondary_cleaner.state.floatbank3_a_air    5281 non-null   float64\n",
            " 40  secondary_cleaner.state.floatbank3_a_level  5290 non-null   float64\n",
            " 41  secondary_cleaner.state.floatbank3_b_air    5290 non-null   float64\n",
            " 42  secondary_cleaner.state.floatbank3_b_level  5290 non-null   float64\n",
            " 43  secondary_cleaner.state.floatbank4_a_air    5290 non-null   float64\n",
            " 44  secondary_cleaner.state.floatbank4_a_level  5290 non-null   float64\n",
            " 45  secondary_cleaner.state.floatbank4_b_air    5290 non-null   float64\n",
            " 46  secondary_cleaner.state.floatbank4_b_level  5290 non-null   float64\n",
            " 47  secondary_cleaner.state.floatbank5_a_air    5290 non-null   float64\n",
            " 48  secondary_cleaner.state.floatbank5_a_level  5290 non-null   float64\n",
            " 49  secondary_cleaner.state.floatbank5_b_air    5290 non-null   float64\n",
            " 50  secondary_cleaner.state.floatbank5_b_level  5290 non-null   float64\n",
            " 51  secondary_cleaner.state.floatbank6_a_air    5290 non-null   float64\n",
            " 52  secondary_cleaner.state.floatbank6_a_level  5290 non-null   float64\n",
            "dtypes: float64(52), object(1)\n",
            "memory usage: 2.1+ MB\n"
          ]
        }
      ],
      "source": [
        "data_test.info()"
      ]
    },
    {
      "cell_type": "code",
      "execution_count": null,
      "metadata": {
        "id": "Mw-WMMNOkvkp",
        "outputId": "cf0f1d5a-36dd-48d8-d047-d33755b2a96d"
      },
      "outputs": [
        {
          "name": "stdout",
          "output_type": "stream",
          "text": [
            "<class 'pandas.core.frame.DataFrame'>\n",
            "RangeIndex: 19439 entries, 0 to 19438\n",
            "Data columns (total 87 columns):\n",
            " #   Column                                              Non-Null Count  Dtype  \n",
            "---  ------                                              --------------  -----  \n",
            " 0   date                                                19439 non-null  object \n",
            " 1   final.output.concentrate_ag                         19438 non-null  float64\n",
            " 2   final.output.concentrate_pb                         19438 non-null  float64\n",
            " 3   final.output.concentrate_sol                        19228 non-null  float64\n",
            " 4   final.output.concentrate_au                         19439 non-null  float64\n",
            " 5   final.output.recovery                               19439 non-null  float64\n",
            " 6   final.output.tail_ag                                19438 non-null  float64\n",
            " 7   final.output.tail_pb                                19338 non-null  float64\n",
            " 8   final.output.tail_sol                               19433 non-null  float64\n",
            " 9   final.output.tail_au                                19439 non-null  float64\n",
            " 10  primary_cleaner.input.sulfate                       19415 non-null  float64\n",
            " 11  primary_cleaner.input.depressant                    19402 non-null  float64\n",
            " 12  primary_cleaner.input.feed_size                     19439 non-null  float64\n",
            " 13  primary_cleaner.input.xanthate                      19335 non-null  float64\n",
            " 14  primary_cleaner.output.concentrate_ag               19439 non-null  float64\n",
            " 15  primary_cleaner.output.concentrate_pb               19323 non-null  float64\n",
            " 16  primary_cleaner.output.concentrate_sol              19069 non-null  float64\n",
            " 17  primary_cleaner.output.concentrate_au               19439 non-null  float64\n",
            " 18  primary_cleaner.output.tail_ag                      19435 non-null  float64\n",
            " 19  primary_cleaner.output.tail_pb                      19418 non-null  float64\n",
            " 20  primary_cleaner.output.tail_sol                     19377 non-null  float64\n",
            " 21  primary_cleaner.output.tail_au                      19439 non-null  float64\n",
            " 22  primary_cleaner.state.floatbank8_a_air              19435 non-null  float64\n",
            " 23  primary_cleaner.state.floatbank8_a_level            19438 non-null  float64\n",
            " 24  primary_cleaner.state.floatbank8_b_air              19435 non-null  float64\n",
            " 25  primary_cleaner.state.floatbank8_b_level            19438 non-null  float64\n",
            " 26  primary_cleaner.state.floatbank8_c_air              19437 non-null  float64\n",
            " 27  primary_cleaner.state.floatbank8_c_level            19438 non-null  float64\n",
            " 28  primary_cleaner.state.floatbank8_d_air              19436 non-null  float64\n",
            " 29  primary_cleaner.state.floatbank8_d_level            19438 non-null  float64\n",
            " 30  rougher.calculation.sulfate_to_au_concentrate       19437 non-null  float64\n",
            " 31  rougher.calculation.floatbank10_sulfate_to_au_feed  19437 non-null  float64\n",
            " 32  rougher.calculation.floatbank11_sulfate_to_au_feed  19437 non-null  float64\n",
            " 33  rougher.calculation.au_pb_ratio                     19439 non-null  float64\n",
            " 34  rougher.input.feed_ag                               19439 non-null  float64\n",
            " 35  rougher.input.feed_pb                               19339 non-null  float64\n",
            " 36  rougher.input.feed_rate                             19428 non-null  float64\n",
            " 37  rougher.input.feed_size                             19294 non-null  float64\n",
            " 38  rougher.input.feed_sol                              19340 non-null  float64\n",
            " 39  rougher.input.feed_au                               19439 non-null  float64\n",
            " 40  rougher.input.floatbank10_sulfate                   19405 non-null  float64\n",
            " 41  rougher.input.floatbank10_xanthate                  19431 non-null  float64\n",
            " 42  rougher.input.floatbank11_sulfate                   19395 non-null  float64\n",
            " 43  rougher.input.floatbank11_xanthate                  18986 non-null  float64\n",
            " 44  rougher.output.concentrate_ag                       19439 non-null  float64\n",
            " 45  rougher.output.concentrate_pb                       19439 non-null  float64\n",
            " 46  rougher.output.concentrate_sol                      19416 non-null  float64\n",
            " 47  rougher.output.concentrate_au                       19439 non-null  float64\n",
            " 48  rougher.output.recovery                             19439 non-null  float64\n",
            " 49  rougher.output.tail_ag                              19438 non-null  float64\n",
            " 50  rougher.output.tail_pb                              19439 non-null  float64\n",
            " 51  rougher.output.tail_sol                             19439 non-null  float64\n",
            " 52  rougher.output.tail_au                              19439 non-null  float64\n",
            " 53  rougher.state.floatbank10_a_air                     19438 non-null  float64\n",
            " 54  rougher.state.floatbank10_a_level                   19438 non-null  float64\n",
            " 55  rougher.state.floatbank10_b_air                     19438 non-null  float64\n",
            " 56  rougher.state.floatbank10_b_level                   19438 non-null  float64\n",
            " 57  rougher.state.floatbank10_c_air                     19438 non-null  float64\n",
            " 58  rougher.state.floatbank10_c_level                   19438 non-null  float64\n",
            " 59  rougher.state.floatbank10_d_air                     19439 non-null  float64\n",
            " 60  rougher.state.floatbank10_d_level                   19439 non-null  float64\n",
            " 61  rougher.state.floatbank10_e_air                     19003 non-null  float64\n",
            " 62  rougher.state.floatbank10_e_level                   19439 non-null  float64\n",
            " 63  rougher.state.floatbank10_f_air                     19439 non-null  float64\n",
            " 64  rougher.state.floatbank10_f_level                   19439 non-null  float64\n",
            " 65  secondary_cleaner.output.tail_ag                    19437 non-null  float64\n",
            " 66  secondary_cleaner.output.tail_pb                    19427 non-null  float64\n",
            " 67  secondary_cleaner.output.tail_sol                   17691 non-null  float64\n",
            " 68  secondary_cleaner.output.tail_au                    19439 non-null  float64\n",
            " 69  secondary_cleaner.state.floatbank2_a_air            19219 non-null  float64\n",
            " 70  secondary_cleaner.state.floatbank2_a_level          19438 non-null  float64\n",
            " 71  secondary_cleaner.state.floatbank2_b_air            19416 non-null  float64\n",
            " 72  secondary_cleaner.state.floatbank2_b_level          19438 non-null  float64\n",
            " 73  secondary_cleaner.state.floatbank3_a_air            19426 non-null  float64\n",
            " 74  secondary_cleaner.state.floatbank3_a_level          19438 non-null  float64\n",
            " 75  secondary_cleaner.state.floatbank3_b_air            19438 non-null  float64\n",
            " 76  secondary_cleaner.state.floatbank3_b_level          19438 non-null  float64\n",
            " 77  secondary_cleaner.state.floatbank4_a_air            19433 non-null  float64\n",
            " 78  secondary_cleaner.state.floatbank4_a_level          19438 non-null  float64\n",
            " 79  secondary_cleaner.state.floatbank4_b_air            19438 non-null  float64\n",
            " 80  secondary_cleaner.state.floatbank4_b_level          19438 non-null  float64\n",
            " 81  secondary_cleaner.state.floatbank5_a_air            19438 non-null  float64\n",
            " 82  secondary_cleaner.state.floatbank5_a_level          19438 non-null  float64\n",
            " 83  secondary_cleaner.state.floatbank5_b_air            19438 non-null  float64\n",
            " 84  secondary_cleaner.state.floatbank5_b_level          19438 non-null  float64\n",
            " 85  secondary_cleaner.state.floatbank6_a_air            19437 non-null  float64\n",
            " 86  secondary_cleaner.state.floatbank6_a_level          19438 non-null  float64\n",
            "dtypes: float64(86), object(1)\n",
            "memory usage: 12.9+ MB\n"
          ]
        }
      ],
      "source": [
        "data_full.info()"
      ]
    },
    {
      "cell_type": "markdown",
      "metadata": {
        "id": "fshOyHDHkvkq"
      },
      "source": [
        "Необходимо проверить, правильно ли подсчитано ***recovery***. Формула для расчёта:\n",
        "\n",
        "\n",
        "recovery = (C * (F-T) / (F * (C-T))) * 100%\n",
        "\n",
        "\n",
        "C — доля золота в концентрате после флотации/очистки;\n",
        "F — доля золота в сырье/концентрате до флотации/очистки;\n",
        "T — доля золота в отвальных хвостах после флотации/очистки.\n",
        "\n",
        "C = rougher.output.concentrate_au\n",
        "F = rougher.input.feed_au\n",
        "rougher.output.recovery\n",
        "T = rougher.output.tail_au"
      ]
    },
    {
      "cell_type": "code",
      "execution_count": null,
      "metadata": {
        "id": "eVNOuTBPkvks"
      },
      "outputs": [],
      "source": [
        "data_train['rec_calc'] = (\n",
        "    (data_train['rougher.output.concentrate_au'] * (data_train['rougher.input.feed_au'] - data_train['rougher.output.tail_au'])) / \n",
        "    (data_train['rougher.input.feed_au'] * (data_train['rougher.output.concentrate_au'] - data_train['rougher.output.tail_au'])) *\n",
        "    100)"
      ]
    },
    {
      "cell_type": "code",
      "execution_count": null,
      "metadata": {
        "id": "EwV_PNwTkvku",
        "outputId": "566f771d-53c9-42ac-f963-313867e92f41"
      },
      "outputs": [
        {
          "data": {
            "text/plain": [
              "0    87.107763\n",
              "1    86.843261\n",
              "2    86.842308\n",
              "3    87.226430\n",
              "4    86.688794\n",
              "Name: rec_calc, dtype: float64"
            ]
          },
          "execution_count": 9,
          "metadata": {},
          "output_type": "execute_result"
        }
      ],
      "source": [
        "data_train['rec_calc'].head(5)"
      ]
    },
    {
      "cell_type": "code",
      "execution_count": null,
      "metadata": {
        "id": "lv8cvg0Vkvkv",
        "outputId": "5b0b7e58-dce9-459a-a704-89cf11544356"
      },
      "outputs": [
        {
          "data": {
            "text/plain": [
              "0    87.107763\n",
              "1    86.843261\n",
              "2    86.842308\n",
              "3    87.226430\n",
              "4    86.688794\n",
              "Name: rougher.output.recovery, dtype: float64"
            ]
          },
          "execution_count": 10,
          "metadata": {},
          "output_type": "execute_result"
        }
      ],
      "source": [
        "data_train['rougher.output.recovery'].head(5)"
      ]
    },
    {
      "cell_type": "code",
      "execution_count": null,
      "metadata": {
        "id": "OC3rWVI9kvkw",
        "outputId": "c9229cd0-5256-4bce-abd0-0e2abebe73df"
      },
      "outputs": [
        {
          "data": {
            "text/plain": [
              "True"
            ]
          },
          "execution_count": 11,
          "metadata": {},
          "output_type": "execute_result"
        }
      ],
      "source": [
        "(abs(data_train['rougher.output.recovery'] - data_train['rec_calc']) < 0.0001).sum() == len(data_train)"
      ]
    },
    {
      "cell_type": "markdown",
      "metadata": {
        "id": "CBwHbjMHkvkx"
      },
      "source": [
        "Подсчёт по формуле и значения в таблице совпадают."
      ]
    },
    {
      "cell_type": "code",
      "execution_count": null,
      "metadata": {
        "id": "NG1WNn4qkvky",
        "outputId": "22e0f0b1-e85d-4ab8-a437-a9b4902eb5eb"
      },
      "outputs": [
        {
          "data": {
            "text/plain": [
              "{'final.output.concentrate_ag',\n",
              " 'final.output.concentrate_au',\n",
              " 'final.output.concentrate_pb',\n",
              " 'final.output.concentrate_sol',\n",
              " 'final.output.recovery',\n",
              " 'final.output.tail_ag',\n",
              " 'final.output.tail_au',\n",
              " 'final.output.tail_pb',\n",
              " 'final.output.tail_sol',\n",
              " 'primary_cleaner.output.concentrate_ag',\n",
              " 'primary_cleaner.output.concentrate_au',\n",
              " 'primary_cleaner.output.concentrate_pb',\n",
              " 'primary_cleaner.output.concentrate_sol',\n",
              " 'primary_cleaner.output.tail_ag',\n",
              " 'primary_cleaner.output.tail_au',\n",
              " 'primary_cleaner.output.tail_pb',\n",
              " 'primary_cleaner.output.tail_sol',\n",
              " 'rec_calc',\n",
              " 'rougher.calculation.au_pb_ratio',\n",
              " 'rougher.calculation.floatbank10_sulfate_to_au_feed',\n",
              " 'rougher.calculation.floatbank11_sulfate_to_au_feed',\n",
              " 'rougher.calculation.sulfate_to_au_concentrate',\n",
              " 'rougher.output.concentrate_ag',\n",
              " 'rougher.output.concentrate_au',\n",
              " 'rougher.output.concentrate_pb',\n",
              " 'rougher.output.concentrate_sol',\n",
              " 'rougher.output.recovery',\n",
              " 'rougher.output.tail_ag',\n",
              " 'rougher.output.tail_au',\n",
              " 'rougher.output.tail_pb',\n",
              " 'rougher.output.tail_sol',\n",
              " 'secondary_cleaner.output.tail_ag',\n",
              " 'secondary_cleaner.output.tail_au',\n",
              " 'secondary_cleaner.output.tail_pb',\n",
              " 'secondary_cleaner.output.tail_sol'}"
            ]
          },
          "execution_count": 12,
          "metadata": {},
          "output_type": "execute_result"
        }
      ],
      "source": [
        "delta = set(data_train.columns) - set(data_test.columns)\n",
        "delta"
      ]
    },
    {
      "cell_type": "markdown",
      "metadata": {
        "id": "kW-hLR4fkvkz"
      },
      "source": [
        "Сравнивая количество столбцов в тестовой и тренировочной выборках можно сделать вывод что в тестовой выборке отсутствуют выходные параметры для всех трёх этапов."
      ]
    },
    {
      "cell_type": "code",
      "execution_count": null,
      "metadata": {
        "id": "wfDjGjHJkvkz",
        "outputId": "6b28b39e-0922-4ce8-f799-df8a14a73c6f"
      },
      "outputs": [
        {
          "data": {
            "text/plain": [
              "4100"
            ]
          },
          "execution_count": 13,
          "metadata": {},
          "output_type": "execute_result"
        }
      ],
      "source": [
        "data_train.isnull().sum().sum()"
      ]
    },
    {
      "cell_type": "code",
      "execution_count": null,
      "metadata": {
        "id": "I2iryK3Vkvk0",
        "outputId": "b398e2dd-ba32-4752-da30-5a1df7915ac2"
      },
      "outputs": [
        {
          "data": {
            "text/plain": [
              "secondary_cleaner.output.tail_sol             1605\n",
              "rougher.state.floatbank10_e_air                436\n",
              "rougher.input.floatbank11_xanthate             428\n",
              "primary_cleaner.output.concentrate_sol         286\n",
              "secondary_cleaner.state.floatbank2_a_air       217\n",
              "final.output.concentrate_sol                   211\n",
              "rougher.input.feed_size                        144\n",
              "final.output.tail_pb                           100\n",
              "rougher.input.feed_pb                          100\n",
              "primary_cleaner.input.xanthate                 100\n",
              "primary_cleaner.output.concentrate_pb           86\n",
              "rougher.input.feed_sol                          78\n",
              "primary_cleaner.output.tail_sol                 46\n",
              "rougher.input.floatbank11_sulfate               36\n",
              "primary_cleaner.input.depressant                32\n",
              "rougher.input.floatbank10_sulfate               29\n",
              "rougher.output.concentrate_sol                  22\n",
              "secondary_cleaner.state.floatbank2_b_air        21\n",
              "primary_cleaner.input.sulfate                   20\n",
              "primary_cleaner.output.tail_pb                  15\n",
              "secondary_cleaner.output.tail_pb                10\n",
              "rougher.input.floatbank10_xanthate               8\n",
              "rougher.input.feed_rate                          8\n",
              "secondary_cleaner.state.floatbank4_a_air         6\n",
              "final.output.tail_sol                            5\n",
              "primary_cleaner.state.floatbank8_a_air           4\n",
              "secondary_cleaner.state.floatbank3_a_air         4\n",
              "primary_cleaner.state.floatbank8_b_air           4\n",
              "primary_cleaner.state.floatbank8_d_air           3\n",
              "secondary_cleaner.state.floatbank6_a_air         2\n",
              "secondary_cleaner.output.tail_ag                 2\n",
              "primary_cleaner.state.floatbank8_c_air           2\n",
              "secondary_cleaner.state.floatbank3_a_level       1\n",
              "final.output.concentrate_ag                      1\n",
              "rougher.state.floatbank10_b_air                  1\n",
              "rougher.output.tail_ag                           1\n",
              "rougher.state.floatbank10_b_level                1\n",
              "secondary_cleaner.state.floatbank2_b_level       1\n",
              "rougher.state.floatbank10_c_air                  1\n",
              "rougher.state.floatbank10_c_level                1\n",
              "dtype: int64"
            ]
          },
          "execution_count": 14,
          "metadata": {},
          "output_type": "execute_result"
        }
      ],
      "source": [
        "data_train.isnull().sum().sort_values(ascending=False).head(40)"
      ]
    },
    {
      "cell_type": "code",
      "execution_count": null,
      "metadata": {
        "id": "yUNFbIExkvk1",
        "outputId": "653f1a07-7d2c-4db8-8809-d20347b489e8"
      },
      "outputs": [
        {
          "data": {
            "text/plain": [
              "436"
            ]
          },
          "execution_count": 15,
          "metadata": {},
          "output_type": "execute_result"
        }
      ],
      "source": [
        "data_train.isnull().sum().sort_values(ascending=False)['rougher.state.floatbank10_e_air']"
      ]
    },
    {
      "cell_type": "code",
      "execution_count": null,
      "metadata": {
        "id": "4Jh0otT5kvk2",
        "outputId": "9b9427fe-c188-4b16-d94f-aa9622a8259c"
      },
      "outputs": [
        {
          "data": {
            "text/plain": [
              "2156"
            ]
          },
          "execution_count": 16,
          "metadata": {},
          "output_type": "execute_result"
        }
      ],
      "source": [
        "data_train[pd.isnull(data_train['secondary_cleaner.output.tail_sol'])].isnull().sum().sum()"
      ]
    },
    {
      "cell_type": "code",
      "execution_count": null,
      "metadata": {
        "id": "_2BcHkSnkvk3",
        "outputId": "49048300-bf2a-43b6-bca6-2963b48e396d"
      },
      "outputs": [
        {
          "data": {
            "text/plain": [
              "1605"
            ]
          },
          "execution_count": 17,
          "metadata": {},
          "output_type": "execute_result"
        }
      ],
      "source": [
        "pd.isnull(data_train['secondary_cleaner.output.tail_sol']).sum()"
      ]
    },
    {
      "cell_type": "code",
      "execution_count": null,
      "metadata": {
        "id": "RAqCFhw-kvk3",
        "outputId": "0f099868-e5a8-475e-84c3-fc1ab456468f"
      },
      "outputs": [
        {
          "data": {
            "text/plain": [
              "493"
            ]
          },
          "execution_count": 18,
          "metadata": {},
          "output_type": "execute_result"
        }
      ],
      "source": [
        "data_train[pd.isnull(data_train['rougher.state.floatbank10_e_air'])].isnull().sum().sum()"
      ]
    },
    {
      "cell_type": "code",
      "execution_count": null,
      "metadata": {
        "id": "QBkbVNpmkvk4",
        "outputId": "5dc4f5ce-a9fa-42fd-9b16-19a81de67bb2"
      },
      "outputs": [
        {
          "data": {
            "text/plain": [
              "11017"
            ]
          },
          "execution_count": 19,
          "metadata": {},
          "output_type": "execute_result"
        }
      ],
      "source": [
        "len(data_train.dropna())"
      ]
    },
    {
      "cell_type": "markdown",
      "metadata": {
        "id": "exZzUq5Skvk5"
      },
      "source": [
        "После проверки на пропуски можно заметить что общее число пропущенных значений - 4100 они сосредоточены в 3132 строках из . Это значит что чаще всего на строку приходится только одно пропущенное значение. Больше всего пропусков расположено в столбце ***secondary_cleaner.output.tail_sol***.\n",
        "\n",
        "Для борьбы с пропусками есть три основных варианта - удалить строки с пропусками, заменить пропуски близкими значениями, удалить столбец в котором слишком много пропусков."
      ]
    },
    {
      "cell_type": "code",
      "execution_count": null,
      "metadata": {
        "id": "hpp8KEJ6kvk6",
        "outputId": "db997062-36cb-4af0-b3cd-fedc5ba1bf96"
      },
      "outputs": [
        {
          "data": {
            "text/plain": [
              "120    12.435482\n",
              "121    12.832229\n",
              "122    12.363726\n",
              "123     4.843082\n",
              "124     0.000000\n",
              "125     3.079691\n",
              "126    11.835476\n",
              "127    12.260346\n",
              "128    12.186020\n",
              "129    11.620894\n",
              "130     1.788792\n",
              "131    12.231032\n",
              "132    13.104183\n",
              "133    13.699427\n",
              "134    13.561395\n",
              "135    13.370898\n",
              "Name: secondary_cleaner.output.tail_sol, dtype: float64"
            ]
          },
          "execution_count": 20,
          "metadata": {},
          "output_type": "execute_result"
        }
      ],
      "source": [
        "data_train.loc[120:135, 'secondary_cleaner.output.tail_sol']"
      ]
    },
    {
      "cell_type": "code",
      "execution_count": null,
      "metadata": {
        "id": "_QKafdp0kvk6",
        "outputId": "83fb050c-7e1b-42c6-b441-81dec68a26e9"
      },
      "outputs": [
        {
          "data": {
            "text/plain": [
              "<AxesSubplot:>"
            ]
          },
          "execution_count": 21,
          "metadata": {},
          "output_type": "execute_result"
        },
        {
          "data": {
            "image/png": "[encoded data removed]",
            "text/plain": [
              "<Figure size 432x288 with 1 Axes>"
            ]
          },
          "metadata": {
            "needs_background": "light"
          },
          "output_type": "display_data"
        }
      ],
      "source": [
        "data_train['secondary_cleaner.output.tail_sol'].hist(bins=50)"
      ]
    },
    {
      "cell_type": "markdown",
      "metadata": {
        "id": "lmzE40f-kvk7"
      },
      "source": [
        "C учётом того что систему в данных определить трудно, наиболее логичным кажется решение удалить все строки с пропусками."
      ]
    },
    {
      "cell_type": "code",
      "execution_count": null,
      "metadata": {
        "id": "Vkib7CbZkvk8"
      },
      "outputs": [],
      "source": [
        "data_train = data_train.dropna()"
      ]
    },
    {
      "cell_type": "code",
      "execution_count": null,
      "metadata": {
        "id": "6coRtmf7kvk9",
        "outputId": "da82505e-bf36-45bb-a499-852068588600"
      },
      "outputs": [
        {
          "data": {
            "text/plain": [
              "0"
            ]
          },
          "execution_count": 23,
          "metadata": {},
          "output_type": "execute_result"
        }
      ],
      "source": [
        "data_train.duplicated().sum()"
      ]
    },
    {
      "cell_type": "markdown",
      "metadata": {
        "id": "T13YhtQhkvlB"
      },
      "source": [
        "Автоматическая проверка дубликаты не выявила."
      ]
    },
    {
      "cell_type": "code",
      "execution_count": null,
      "metadata": {
        "id": "otSfTFa5kvlB"
      },
      "outputs": [],
      "source": [
        "data_train['date'] = pd.to_datetime(data_train['date'], format='%Y-%m-%d %H:%M:%S')\n",
        "data_test['date'] = pd.to_datetime(data_test['date'], format='%Y-%m-%d %H:%M:%S')\n",
        "data_full['date'] = pd.to_datetime(data_full['date'], format='%Y-%m-%d %H:%M:%S')"
      ]
    },
    {
      "cell_type": "code",
      "execution_count": null,
      "metadata": {
        "id": "k_4LFOokkvlC"
      },
      "outputs": [],
      "source": [
        "#data_train = data_train.drop('rec_calc', axis = 1)"
      ]
    },
    {
      "cell_type": "markdown",
      "metadata": {
        "id": "5_yeDaMSkvlD"
      },
      "source": [
        "Изменил формат данных в столбце с датой. Удалил столбец с расчётным значением 'rec_calc'."
      ]
    },
    {
      "cell_type": "markdown",
      "metadata": {
        "id": "kfm7Ur_ikvlD"
      },
      "source": [
        "# Вывод\n",
        "\n",
        "Загрузил данные. У нас есть общий набор данных который уже заранее разбит на тестовую и тренировочную выборки. При этом в тестовой выборке отсутствуют столбцы с выходными данными. Формулы посчитаны корректно. В данных были пропуски, которые я удалил."
      ]
    },
    {
      "cell_type": "markdown",
      "metadata": {
        "id": "VJkahZutkvlE"
      },
      "source": [
        "## Анализ данных"
      ]
    },
    {
      "cell_type": "markdown",
      "metadata": {
        "id": "K7Rzgq8xkvlE"
      },
      "source": [
        "Нужно посмотреть, как меняется концентрация металлов (Au, Ag, Pb) на различных этапах очистки (rougher.input, rougher.output, final.output). \n",
        "Так же нужно сравнить распределение размеров гранул сырья на обучающей и тестовой выборках. Если распределения сильно отличаются друг от друга, оценка модели будет неправильной.\n",
        "В конце нужно исследовать суммарную концентрацию всех веществ на разных стадиях: в сырье, в черновом и финальном концентратах и сделать выводы."
      ]
    },
    {
      "cell_type": "code",
      "execution_count": null,
      "metadata": {
        "id": "FZ0KpLj1kvlE",
        "outputId": "484442cf-a02e-4cb3-9910-d6a0d69d6b20"
      },
      "outputs": [
        {
          "data": {
            "text/plain": [
              "Text(0.5, 1.0, 'Concentrate Pb')"
            ]
          },
          "execution_count": 26,
          "metadata": {},
          "output_type": "execute_result"
        },
        {
          "data": {
            "image/png": "[encoded data removed]",
            "text/plain": [
              "<Figure size 864x432 with 1 Axes>"
            ]
          },
          "metadata": {
            "needs_background": "light"
          },
          "output_type": "display_data"
        }
      ],
      "source": [
        "data_train['rougher.input.feed_pb'].plot(kind = 'hist', bins=50, figsize = (12, 6), legend = True, alpha=0.6)\n",
        "data_train['rougher.output.concentrate_pb'].plot(kind = 'hist', bins=50, legend = True, alpha=0.6)\n",
        "data_train['final.output.concentrate_pb'].plot(kind = 'hist', bins=50, legend = True, alpha=0.6)\n",
        "plt.title('Concentrate Pb')"
      ]
    },
    {
      "cell_type": "code",
      "execution_count": null,
      "metadata": {
        "id": "SynhaTXgkvlF",
        "outputId": "1ad7000c-8724-4b4b-c7a7-aadf45ea9870"
      },
      "outputs": [
        {
          "data": {
            "text/plain": [
              "Text(0.5, 1.0, 'Concentrate Ag')"
            ]
          },
          "execution_count": 27,
          "metadata": {},
          "output_type": "execute_result"
        },
        {
          "data": {
            "image/png": "[encoded data removed]",
            "text/plain": [
              "<Figure size 864x432 with 1 Axes>"
            ]
          },
          "metadata": {
            "needs_background": "light"
          },
          "output_type": "display_data"
        }
      ],
      "source": [
        "data_train['rougher.input.feed_ag'].plot(kind = 'hist', bins=50, figsize = (12, 6), legend = True, alpha=0.6)\n",
        "data_train['rougher.output.concentrate_ag'].plot(kind = 'hist', bins=50, legend = True, alpha=0.6)\n",
        "data_train['final.output.concentrate_ag'].plot(kind = 'hist', bins=50, legend = True, alpha=0.6)\n",
        "plt.title('Concentrate Ag')"
      ]
    },
    {
      "cell_type": "code",
      "execution_count": null,
      "metadata": {
        "id": "X6wtlfSckvlG",
        "outputId": "f66ba3f3-8402-4a1f-e834-26fa8f847022"
      },
      "outputs": [
        {
          "data": {
            "text/plain": [
              "Text(0.5, 1.0, 'Concentrate Au')"
            ]
          },
          "execution_count": 28,
          "metadata": {},
          "output_type": "execute_result"
        },
        {
          "data": {
            "image/png": "[encoded data removed]",
            "text/plain": [
              "<Figure size 864x432 with 1 Axes>"
            ]
          },
          "metadata": {
            "needs_background": "light"
          },
          "output_type": "display_data"
        }
      ],
      "source": [
        "data_train['rougher.input.feed_au'].plot(kind = 'hist', bins=50, figsize = (12, 6), legend = True, alpha=0.6)\n",
        "data_train['rougher.output.concentrate_au'].plot(kind = 'hist', bins=50, legend = True, alpha=0.6)\n",
        "data_train['final.output.concentrate_au'].plot(kind = 'hist', bins=50, legend = True, alpha=0.6)\n",
        "plt.title('Concentrate Au')"
      ]
    },
    {
      "cell_type": "code",
      "execution_count": null,
      "metadata": {
        "scrolled": false,
        "id": "TxKGdke8kvlJ",
        "outputId": "7fa4578d-6ac6-47d0-94b6-b53374ebdb13"
      },
      "outputs": [
        {
          "data": {
            "text/plain": [
              "Text(0.5, 0, 'feed_size')"
            ]
          },
          "execution_count": 29,
          "metadata": {},
          "output_type": "execute_result"
        },
        {
          "data": {
            "image/png": "[encoded data removed]",
            "text/plain": [
              "<Figure size 576x576 with 1 Axes>"
            ]
          },
          "metadata": {
            "needs_background": "light"
          },
          "output_type": "display_data"
        }
      ],
      "source": [
        "fig, axs = plt.subplots(figsize=(8, 8), tight_layout=True)\n",
        "\n",
        "plt.hist([data_train['primary_cleaner.input.feed_size'], data_test['primary_cleaner.input.feed_size']],\n",
        "            bins = 50, range = (5, 11), alpha=0.75, histtype = 'barstacked')\n",
        "plt.title('feed size train-test data')\n",
        "axs.set_xlabel('feed_size')"
      ]
    },
    {
      "cell_type": "code",
      "execution_count": null,
      "metadata": {
        "id": "o_ljJa7lkvlL",
        "outputId": "4789c7db-7705-428c-c8ba-72776d7062c9"
      },
      "outputs": [
        {
          "data": {
            "text/plain": [
              "Text(0.5, 0, 'feed_size')"
            ]
          },
          "execution_count": 49,
          "metadata": {},
          "output_type": "execute_result"
        },
        {
          "data": {
            "image/png": "[encoded data removed]",
            "text/plain": [
              "<Figure size 576x576 with 1 Axes>"
            ]
          },
          "metadata": {
            "needs_background": "light"
          },
          "output_type": "display_data"
        }
      ],
      "source": [
        "fig, axs = plt.subplots(figsize=(8, 8), tight_layout=True)\n",
        "\n",
        "plt.hist([data_train['primary_cleaner.input.feed_size'], data_test['primary_cleaner.input.feed_size']],\n",
        "            bins = 50, range = (5, 11), alpha=0.75, histtype = 'barstacked', density=True)\n",
        "plt.title('feed size train-test data')\n",
        "axs.set_xlabel('feed_size')"
      ]
    },
    {
      "cell_type": "code",
      "execution_count": null,
      "metadata": {
        "id": "Ol_83k5qkvlL",
        "outputId": "eb918746-73cd-4486-c36f-8b9d6ada11f0"
      },
      "outputs": [
        {
          "data": {
            "text/plain": [
              "Text(0.5, 1.0, 'feed size train-test data')"
            ]
          },
          "execution_count": 30,
          "metadata": {},
          "output_type": "execute_result"
        },
        {
          "data": {
            "image/png": "[encoded data removed]",
            "text/plain": [
              "<Figure size 576x576 with 1 Axes>"
            ]
          },
          "metadata": {
            "needs_background": "light"
          },
          "output_type": "display_data"
        }
      ],
      "source": [
        "fig, axs = plt.subplots(figsize=(8, 8), tight_layout=True)\n",
        "\n",
        "plt.boxplot([data_train['primary_cleaner.input.feed_size'], data_test['primary_cleaner.input.feed_size']], \n",
        "            labels = ('feed size train', 'feed size test'))\n",
        "plt.ylim([4, 11])\n",
        "axs.set_ylabel('feed_size')\n",
        "plt.title('feed size train-test data')"
      ]
    },
    {
      "cell_type": "code",
      "execution_count": null,
      "metadata": {
        "id": "4hl_pELhkvmf",
        "outputId": "79d02ccc-1ab3-4e63-cbc9-213d00844d71"
      },
      "outputs": [
        {
          "data": {
            "text/plain": [
              "Text(0.5, 1.0, 'all concentrate rougher/final')"
            ]
          },
          "execution_count": 31,
          "metadata": {},
          "output_type": "execute_result"
        },
        {
          "data": {
            "image/png": "[encoded data removed]",
            "text/plain": [
              "<Figure size 864x432 with 1 Axes>"
            ]
          },
          "metadata": {
            "needs_background": "light"
          },
          "output_type": "display_data"
        }
      ],
      "source": [
        "data_next = pd.DataFrame()\n",
        "data_next['all_rougher_output'] = (data_train['rougher.output.concentrate_pb'] + data_train['rougher.output.concentrate_au'] + data_train['rougher.output.concentrate_ag'])\n",
        "data_next['all_rougher_input'] = (data_train['rougher.input.feed_pb'] + data_train['rougher.input.feed_au'] + data_train['rougher.input.feed_ag']) \n",
        "data_next['all_final'] = (data_train['final.output.concentrate_pb'] + data_train['final.output.concentrate_au'] + data_train['final.output.concentrate_ag']) \n",
        " \n",
        "data_next['all_rougher_output'].plot(kind = 'hist', bins=50, figsize = (12, 6), legend = True, alpha=0.6)\n",
        "data_next['all_rougher_input'].plot(kind = 'hist', bins=50, legend = True, alpha=0.6)\n",
        "data_next['all_final'].plot(kind = 'hist', bins=50, legend = True, alpha=0.6)\n",
        "plt.title('all concentrate rougher/final')"
      ]
    },
    {
      "cell_type": "code",
      "execution_count": null,
      "metadata": {
        "id": "dyusvJDzkvmi"
      },
      "outputs": [],
      "source": [
        "data_train = data_train[((data_next['all_final']) > 0.01) \n",
        "                        & (data_next['all_rougher_input'] > 0.01) \n",
        "                        & (data_next['all_rougher_output'] > 0.01)]                   "
      ]
    },
    {
      "cell_type": "code",
      "execution_count": null,
      "metadata": {
        "id": "FJyUB86Ckvmj"
      },
      "outputs": [],
      "source": [
        "data_train = data_train[((data_train['rougher.output.concentrate_au']) > 0.01) \n",
        "                        & (data_train['rougher.input.feed_au'] > 0.01) \n",
        "                        & (data_train['final.output.concentrate_au'] > 0.01)]                   "
      ]
    },
    {
      "cell_type": "markdown",
      "metadata": {
        "id": "R-TyWblEkvml"
      },
      "source": [
        "# Вывод\n",
        "\n",
        "В результате анализа данных определил что концентрация золота увеличивается на каждой последующей стадии. Концентрация свинца тоже увеличивается а вот концентрация серебра меняется по другому принципу. Распределение похоже на нормальное что выглядит правдоподобно. При этом есть некоторое количество данных сильно отличается, концентрация равна нулю. Можно предположить что это ошибочные данные, поэтому из обучающей выборки исключаем."
      ]
    },
    {
      "cell_type": "markdown",
      "metadata": {
        "id": "VhqErJlCkvml"
      },
      "source": [
        "## Модель"
      ]
    },
    {
      "cell_type": "markdown",
      "metadata": {
        "id": "ZjjPl_edkvmm"
      },
      "source": [
        "Нужно написать функцию для вычисления итоговой sMAPE.\n",
        "Обучить разные модели и оценить их качество кросс-валидацией. Выбрать лучшую модель и проверить её на тестовой выборке."
      ]
    },
    {
      "cell_type": "code",
      "execution_count": null,
      "metadata": {
        "id": "Q6GOUGI3kvmm"
      },
      "outputs": [],
      "source": [
        "def my_custom_loss_func(y_true, y_pred):\n",
        "    y_true = np.array(y_true)\n",
        "    y_pred = np.array(y_pred)\n",
        "    rez = 100 * sum(np.abs(y_true - y_pred) / ((np.abs(y_true) + np.abs(y_pred)) / 2)) / len(y_true) \n",
        "    return rez"
      ]
    },
    {
      "cell_type": "code",
      "execution_count": null,
      "metadata": {
        "id": "5o1VKahekvmm"
      },
      "outputs": [],
      "source": [
        "score = make_scorer(my_custom_loss_func, greater_is_better=False)"
      ]
    },
    {
      "cell_type": "code",
      "execution_count": null,
      "metadata": {
        "id": "egar_MaJkvmn"
      },
      "outputs": [],
      "source": [
        "rougher_columns = []\n",
        "for l in data_train.columns:\n",
        "    if 'rougher.input' in l or 'rougher.state' in l:\n",
        "             rougher_columns.append(l)"
      ]
    },
    {
      "cell_type": "code",
      "execution_count": null,
      "metadata": {
        "id": "BPB2M7vSkvmo"
      },
      "outputs": [],
      "source": [
        "features_rougher = data_train[rougher_columns]\n",
        "features_final = data_train.drop(delta, axis=1)\n",
        "features_final = features_final.drop('date', axis=1)\n",
        "target_final = data_train['final.output.concentrate_au']\n",
        "target_rougher = data_train['rougher.output.concentrate_au']"
      ]
    },
    {
      "cell_type": "markdown",
      "metadata": {
        "id": "CYEfgFqRkvmo"
      },
      "source": [
        "Разбил данные на фичи и целевую переменную. С учётом того что требуются предсказания для двух этапов разделил данные по этапам, при этом в первом этапе (флотация) в фичи включил только те данные которые могли бы быть известны на первом этапе. В финальные фичи включил все данные кроме выходных параметров."
      ]
    },
    {
      "cell_type": "code",
      "execution_count": null,
      "metadata": {
        "id": "3Q-9dScxkvmo",
        "outputId": "ef1ad984-500c-48bf-ab51-c0560d421bef"
      },
      "outputs": [
        {
          "data": {
            "text/plain": [
              "(6.8669668864794104, 9.234304609289174)"
            ]
          },
          "execution_count": 38,
          "metadata": {},
          "output_type": "execute_result"
        }
      ],
      "source": [
        "model_r_f_r = RandomForestRegressor()\n",
        "\n",
        "scores_rougher = cross_val_score(model_r_f_r, features_rougher, target_rougher, cv=5, scoring=score)\n",
        "scores_final = cross_val_score(model_r_f_r, features_final, target_final, cv=5, scoring=score)\n",
        "abs(scores_final.mean()), abs(scores_rougher.mean())"
      ]
    },
    {
      "cell_type": "code",
      "execution_count": null,
      "metadata": {
        "id": "1MynveA8kvms",
        "outputId": "c83eb60c-efd2-4d42-8e71-22efd28154f7"
      },
      "outputs": [
        {
          "data": {
            "text/plain": [
              "({'max_depth': 12,\n",
              "  'min_samples_leaf': 7,\n",
              "  'min_samples_split': 2,\n",
              "  'n_estimators': 15},\n",
              " 8.473113370396366)"
            ]
          },
          "execution_count": 58,
          "metadata": {},
          "output_type": "execute_result"
        }
      ],
      "source": [
        "model_r_f_r = RandomForestRegressor()\n",
        "parametrs = { 'n_estimators': range (10, 31, 5),\n",
        "              'max_depth': range (4, 13, 2),\n",
        "              'min_samples_leaf': range (1,8),\n",
        "              'min_samples_split': range (2, 10, 2),\n",
        "              }\n",
        "grid_r_f_r = GridSearchCV(model_r_f_r, parametrs, n_jobs = -1, scoring = score, cv=5)\n",
        "grid_r_f_r.fit(features_rougher, target_rougher)\n",
        "grid_r_f_r.best_params_, abs(grid_r_f_r.best_score_)"
      ]
    },
    {
      "cell_type": "code",
      "execution_count": null,
      "metadata": {
        "id": "7jwmwqQGkvmz",
        "outputId": "90cc8cef-82aa-43fa-9b89-6a8c4a234064"
      },
      "outputs": [
        {
          "data": {
            "text/plain": [
              "(5.180387005000451, 7.132165354976872)"
            ]
          },
          "execution_count": 39,
          "metadata": {},
          "output_type": "execute_result"
        }
      ],
      "source": [
        "model_l_r = LinearRegression()\n",
        "\n",
        "scores_rougher = cross_val_score(model_l_r, features_rougher, target_rougher, cv=8, scoring=score)\n",
        "scores_final = cross_val_score(model_l_r, features_final, target_final, cv=8, scoring=score)\n",
        "abs(scores_final.mean()), abs(scores_rougher.mean())"
      ]
    },
    {
      "cell_type": "code",
      "execution_count": null,
      "metadata": {
        "id": "_iRZ3k6NkvnG",
        "outputId": "5eff6db5-7b8a-46b4-e92f-b55320c4d9c3"
      },
      "outputs": [
        {
          "data": {
            "text/plain": [
              "({'max_depth': 4, 'min_samples_leaf': 4, 'min_samples_split': 4},\n",
              " 8.649274165361714)"
            ]
          },
          "execution_count": 40,
          "metadata": {},
          "output_type": "execute_result"
        }
      ],
      "source": [
        "d_t_r = DecisionTreeRegressor()\n",
        "parametrs = { 'max_depth': range (4, 13, 2),\n",
        "              'min_samples_leaf': range (1,8),\n",
        "              'min_samples_split': range (2, 10, 2),\n",
        "            }\n",
        "grid_d_t_r = GridSearchCV(d_t_r, parametrs, scoring = score, cv=5)\n",
        "grid_d_t_r.fit(features_rougher, target_rougher)\n",
        "grid_d_t_r.best_params_, abs(grid_d_t_r.best_score_)"
      ]
    },
    {
      "cell_type": "code",
      "execution_count": null,
      "metadata": {
        "id": "fE6Z27FIkvnG",
        "outputId": "486b916d-1adb-45bc-ecbf-dcacb87665f0"
      },
      "outputs": [
        {
          "data": {
            "text/plain": [
              "({'max_depth': 4, 'min_samples_leaf': 7, 'min_samples_split': 4},\n",
              " 5.35641513745489)"
            ]
          },
          "execution_count": 41,
          "metadata": {},
          "output_type": "execute_result"
        }
      ],
      "source": [
        "d_t_r = DecisionTreeRegressor()\n",
        "parametrs = { 'max_depth': range (4, 13, 2),\n",
        "              'min_samples_leaf': range (1,8),\n",
        "              'min_samples_split': range (2, 10, 2),\n",
        "            }\n",
        "grid_d_t_r = GridSearchCV(d_t_r, parametrs, scoring = score, cv=5)\n",
        "grid_d_t_r.fit(features_final, target_final)\n",
        "grid_d_t_r.best_params_, abs(grid_d_t_r.best_score_)"
      ]
    },
    {
      "cell_type": "markdown",
      "metadata": {
        "id": "WMNmsktckvnH"
      },
      "source": [
        "После проверки моделей методом кросвалидации по заданной функции ошибки можно сделать вывод что наименьшая ошибка у линейной регрессии.\n"
      ]
    },
    {
      "cell_type": "code",
      "execution_count": null,
      "metadata": {
        "id": "fgDyj0OukvnH",
        "outputId": "86ae75ab-039e-41ff-a5a7-f9692c827d15"
      },
      "outputs": [
        {
          "data": {
            "text/plain": [
              "LinearRegression()"
            ]
          },
          "execution_count": 42,
          "metadata": {},
          "output_type": "execute_result"
        }
      ],
      "source": [
        "best_model_rougher = LinearRegression()\n",
        "best_model_final = LinearRegression()\n",
        "best_model_rougher.fit(features_rougher, target_rougher)\n",
        "best_model_final.fit(features_final, target_final)\n"
      ]
    },
    {
      "cell_type": "code",
      "execution_count": null,
      "metadata": {
        "id": "8AqDEutAkvnI"
      },
      "outputs": [],
      "source": [
        "data_test = data_test.set_index('date')\n",
        "data_full = data_full.set_index('date')\n",
        "\n",
        "data_valid = data_full.loc[data_test.index]"
      ]
    },
    {
      "cell_type": "code",
      "execution_count": null,
      "metadata": {
        "id": "XsiZeHmvkvnJ",
        "outputId": "4b0098e8-3c2d-4308-d93f-582700f32d9a"
      },
      "outputs": [
        {
          "data": {
            "text/plain": [
              "381"
            ]
          },
          "execution_count": 44,
          "metadata": {},
          "output_type": "execute_result"
        }
      ],
      "source": [
        "data_valid.isnull().sum().sum()"
      ]
    },
    {
      "cell_type": "code",
      "execution_count": null,
      "metadata": {
        "id": "B3T4T4bRkvnJ"
      },
      "outputs": [],
      "source": [
        "data_valid = data_valid.dropna()"
      ]
    },
    {
      "cell_type": "markdown",
      "metadata": {
        "id": "NYKF5pgVkvnK"
      },
      "source": [
        "Подготовил данные для валидации. По дате (уникальный идентификатор) из общей выборки получил фичи. Разбил выборки аналогично предидущему этапу. Удалил строки с пропущенными значениями."
      ]
    },
    {
      "cell_type": "code",
      "execution_count": null,
      "metadata": {
        "id": "amhOHrHRkvnK"
      },
      "outputs": [],
      "source": [
        "features_rougher_val = data_valid[rougher_columns]\n",
        "features_final_val = data_valid.drop(delta, axis=1, errors = 'ignore')\n",
        "target_final_val = data_valid['final.output.concentrate_au']\n",
        "target_rougher_val = data_valid['rougher.output.concentrate_au']"
      ]
    },
    {
      "cell_type": "code",
      "execution_count": null,
      "metadata": {
        "id": "PrOy0k73kvnL",
        "outputId": "ed6d129b-7948-4b7d-f691-7ec2d6c360c2"
      },
      "outputs": [
        {
          "data": {
            "text/plain": [
              "('Итоговое sMAPE:', 7.000722817120868)"
            ]
          },
          "execution_count": 47,
          "metadata": {},
          "output_type": "execute_result"
        }
      ],
      "source": [
        "roug_pred = best_model_rougher.predict(features_rougher_val)\n",
        "fin_pred = best_model_final.predict(features_final_val)\n",
        "\n",
        "'Итоговое sMAPE:', (0.25 * my_custom_loss_func(roug_pred, target_rougher_val)) + (0.75 * my_custom_loss_func(fin_pred, target_final_val))\n"
      ]
    },
    {
      "cell_type": "markdown",
      "metadata": {
        "id": "Rfl-yZ9kkvnM"
      },
      "source": [
        "# Вывод:\n",
        "\n",
        "Мною было проверено несколько моделей. Лучше всего показала себя линейная регрессия -  для заданной метрики (sMAPE) ошибка была самой маленькой. Лучшая модель была обучена для предсказания искомых значений, каждая на своём наборе данных. Итоговое значение sMAPE, посчитанное по формуле 25% * sMAPE(rougher) + 75% * sMAPE(final) показало результат 7%."
      ]
    }
  ],
  "metadata": {
    "ExecuteTimeLog": [
      {
        "duration": 469,
        "start_time": "2022-04-04T16:04:17.405Z"
      },
      {
        "duration": 322,
        "start_time": "2022-04-04T16:04:19.025Z"
      },
      {
        "duration": 781,
        "start_time": "2022-04-04T16:05:27.843Z"
      },
      {
        "duration": 51,
        "start_time": "2022-04-04T16:05:36.125Z"
      },
      {
        "duration": 30,
        "start_time": "2022-04-04T16:06:06.339Z"
      },
      {
        "duration": 27,
        "start_time": "2022-04-04T16:06:21.717Z"
      },
      {
        "duration": 20,
        "start_time": "2022-04-04T16:07:04.591Z"
      },
      {
        "duration": 27,
        "start_time": "2022-04-04T16:08:14.731Z"
      },
      {
        "duration": 18,
        "start_time": "2022-04-04T17:14:09.961Z"
      },
      {
        "duration": 5,
        "start_time": "2022-04-04T17:41:47.994Z"
      },
      {
        "duration": 5,
        "start_time": "2022-04-04T17:41:54.778Z"
      },
      {
        "duration": 261,
        "start_time": "2022-04-04T17:42:31.393Z"
      },
      {
        "duration": 11,
        "start_time": "2022-04-04T17:42:46.642Z"
      },
      {
        "duration": 8,
        "start_time": "2022-04-04T17:42:59.989Z"
      },
      {
        "duration": 9,
        "start_time": "2022-04-04T17:43:21.398Z"
      },
      {
        "duration": 95,
        "start_time": "2022-04-04T17:51:34.414Z"
      },
      {
        "duration": 5,
        "start_time": "2022-04-04T17:51:46.471Z"
      },
      {
        "duration": 6,
        "start_time": "2022-04-04T17:51:54.600Z"
      },
      {
        "duration": 409,
        "start_time": "2022-04-05T16:29:37.745Z"
      },
      {
        "duration": 610,
        "start_time": "2022-04-05T16:29:38.156Z"
      },
      {
        "duration": 24,
        "start_time": "2022-04-05T16:29:38.768Z"
      },
      {
        "duration": 17,
        "start_time": "2022-04-05T16:29:38.794Z"
      },
      {
        "duration": 13,
        "start_time": "2022-04-05T16:29:38.813Z"
      },
      {
        "duration": 41,
        "start_time": "2022-04-05T16:29:38.827Z"
      },
      {
        "duration": 113,
        "start_time": "2022-04-05T16:29:38.870Z"
      },
      {
        "duration": 0,
        "start_time": "2022-04-05T16:29:38.985Z"
      },
      {
        "duration": 0,
        "start_time": "2022-04-05T16:29:38.986Z"
      },
      {
        "duration": 0,
        "start_time": "2022-04-05T16:29:38.987Z"
      },
      {
        "duration": 0,
        "start_time": "2022-04-05T16:29:38.988Z"
      },
      {
        "duration": 8,
        "start_time": "2022-04-05T16:29:57.863Z"
      },
      {
        "duration": 5,
        "start_time": "2022-04-05T16:29:58.984Z"
      },
      {
        "duration": 5,
        "start_time": "2022-04-05T16:29:59.947Z"
      },
      {
        "duration": 5,
        "start_time": "2022-04-05T16:30:01.734Z"
      },
      {
        "duration": 65,
        "start_time": "2022-04-05T16:42:04.102Z"
      },
      {
        "duration": 10,
        "start_time": "2022-04-05T16:42:16.559Z"
      },
      {
        "duration": 38,
        "start_time": "2022-04-05T16:42:23.215Z"
      },
      {
        "duration": 9,
        "start_time": "2022-04-05T16:43:23.550Z"
      },
      {
        "duration": 8,
        "start_time": "2022-04-05T16:43:46.683Z"
      },
      {
        "duration": 123,
        "start_time": "2022-04-05T16:44:10.069Z"
      },
      {
        "duration": 10,
        "start_time": "2022-04-05T16:44:17.835Z"
      },
      {
        "duration": 12,
        "start_time": "2022-04-05T16:44:37.395Z"
      },
      {
        "duration": 3,
        "start_time": "2022-04-05T16:46:04.776Z"
      },
      {
        "duration": 11,
        "start_time": "2022-04-05T16:47:07.094Z"
      },
      {
        "duration": 4,
        "start_time": "2022-04-05T16:47:45.764Z"
      },
      {
        "duration": 31,
        "start_time": "2022-04-05T16:50:58.159Z"
      },
      {
        "duration": 20,
        "start_time": "2022-04-05T16:51:21.320Z"
      },
      {
        "duration": 18,
        "start_time": "2022-04-05T16:52:06.086Z"
      },
      {
        "duration": 7,
        "start_time": "2022-04-05T16:52:59.123Z"
      },
      {
        "duration": 6,
        "start_time": "2022-04-05T16:53:06.855Z"
      },
      {
        "duration": 9,
        "start_time": "2022-04-05T17:21:48.554Z"
      },
      {
        "duration": 7,
        "start_time": "2022-04-05T17:21:59.191Z"
      },
      {
        "duration": 7,
        "start_time": "2022-04-05T17:22:08.661Z"
      },
      {
        "duration": 7,
        "start_time": "2022-04-05T17:22:16.722Z"
      },
      {
        "duration": 9,
        "start_time": "2022-04-05T17:57:09.624Z"
      },
      {
        "duration": 7,
        "start_time": "2022-04-05T17:57:17.138Z"
      },
      {
        "duration": 8,
        "start_time": "2022-04-05T17:57:43.725Z"
      },
      {
        "duration": 12,
        "start_time": "2022-04-05T17:58:17.834Z"
      },
      {
        "duration": 12,
        "start_time": "2022-04-05T17:58:54.534Z"
      },
      {
        "duration": 8,
        "start_time": "2022-04-05T17:59:07.099Z"
      },
      {
        "duration": 8,
        "start_time": "2022-04-05T17:59:20.208Z"
      },
      {
        "duration": 8,
        "start_time": "2022-04-05T18:01:51.177Z"
      },
      {
        "duration": 438,
        "start_time": "2022-04-05T18:03:58.861Z"
      },
      {
        "duration": 9,
        "start_time": "2022-04-05T18:04:34.231Z"
      },
      {
        "duration": 8,
        "start_time": "2022-04-05T18:07:49.390Z"
      },
      {
        "duration": 7,
        "start_time": "2022-04-05T18:08:39.865Z"
      },
      {
        "duration": 360,
        "start_time": "2022-04-05T18:11:59.279Z"
      },
      {
        "duration": 3,
        "start_time": "2022-04-05T18:16:18.390Z"
      },
      {
        "duration": 3,
        "start_time": "2022-04-05T18:16:44.142Z"
      },
      {
        "duration": 117,
        "start_time": "2022-04-05T18:18:01.482Z"
      },
      {
        "duration": 114,
        "start_time": "2022-04-05T18:18:13.646Z"
      },
      {
        "duration": 139,
        "start_time": "2022-04-05T18:18:45.169Z"
      },
      {
        "duration": 104,
        "start_time": "2022-04-05T18:19:07.315Z"
      },
      {
        "duration": 111,
        "start_time": "2022-04-05T18:19:21.084Z"
      },
      {
        "duration": 123,
        "start_time": "2022-04-05T18:19:40.993Z"
      },
      {
        "duration": 28,
        "start_time": "2022-04-05T18:32:35.996Z"
      },
      {
        "duration": 10,
        "start_time": "2022-04-05T18:33:33.019Z"
      },
      {
        "duration": 9,
        "start_time": "2022-04-05T18:34:08.381Z"
      },
      {
        "duration": 5,
        "start_time": "2022-04-05T18:34:44.177Z"
      },
      {
        "duration": 8,
        "start_time": "2022-04-05T18:35:01.956Z"
      },
      {
        "duration": 9,
        "start_time": "2022-04-05T18:38:13.416Z"
      },
      {
        "duration": 9,
        "start_time": "2022-04-05T18:38:27.053Z"
      },
      {
        "duration": 9,
        "start_time": "2022-04-05T18:38:32.535Z"
      },
      {
        "duration": 8,
        "start_time": "2022-04-05T18:38:39.501Z"
      },
      {
        "duration": 9,
        "start_time": "2022-04-05T18:38:45.431Z"
      },
      {
        "duration": 9,
        "start_time": "2022-04-05T18:39:00.567Z"
      },
      {
        "duration": 378,
        "start_time": "2022-04-09T09:41:32.780Z"
      },
      {
        "duration": 654,
        "start_time": "2022-04-09T09:41:33.160Z"
      },
      {
        "duration": 30,
        "start_time": "2022-04-09T09:41:33.815Z"
      },
      {
        "duration": 4,
        "start_time": "2022-04-09T09:41:33.847Z"
      },
      {
        "duration": 21,
        "start_time": "2022-04-09T09:41:33.853Z"
      },
      {
        "duration": 12,
        "start_time": "2022-04-09T09:41:33.876Z"
      },
      {
        "duration": 48,
        "start_time": "2022-04-09T09:41:33.890Z"
      },
      {
        "duration": 3,
        "start_time": "2022-04-09T09:41:33.939Z"
      },
      {
        "duration": 10,
        "start_time": "2022-04-09T09:41:33.943Z"
      },
      {
        "duration": 5,
        "start_time": "2022-04-09T09:41:33.956Z"
      },
      {
        "duration": 14,
        "start_time": "2022-04-09T09:41:33.963Z"
      },
      {
        "duration": 11,
        "start_time": "2022-04-09T09:41:33.978Z"
      },
      {
        "duration": 9,
        "start_time": "2022-04-09T09:41:33.991Z"
      },
      {
        "duration": 12,
        "start_time": "2022-04-09T09:41:34.001Z"
      },
      {
        "duration": 23,
        "start_time": "2022-04-09T09:41:34.015Z"
      },
      {
        "duration": 12,
        "start_time": "2022-04-09T09:41:34.040Z"
      },
      {
        "duration": 8,
        "start_time": "2022-04-09T09:41:34.054Z"
      },
      {
        "duration": 25,
        "start_time": "2022-04-09T09:41:34.064Z"
      },
      {
        "duration": 5,
        "start_time": "2022-04-09T09:41:34.090Z"
      },
      {
        "duration": 38,
        "start_time": "2022-04-09T09:41:34.096Z"
      },
      {
        "duration": 3,
        "start_time": "2022-04-09T09:44:09.373Z"
      },
      {
        "duration": 378,
        "start_time": "2022-04-09T09:46:58.790Z"
      },
      {
        "duration": 645,
        "start_time": "2022-04-09T09:46:59.170Z"
      },
      {
        "duration": 29,
        "start_time": "2022-04-09T09:46:59.817Z"
      },
      {
        "duration": 4,
        "start_time": "2022-04-09T09:46:59.848Z"
      },
      {
        "duration": 22,
        "start_time": "2022-04-09T09:46:59.854Z"
      },
      {
        "duration": 13,
        "start_time": "2022-04-09T09:46:59.878Z"
      },
      {
        "duration": 47,
        "start_time": "2022-04-09T09:46:59.892Z"
      },
      {
        "duration": 3,
        "start_time": "2022-04-09T09:46:59.941Z"
      },
      {
        "duration": 9,
        "start_time": "2022-04-09T09:46:59.946Z"
      },
      {
        "duration": 6,
        "start_time": "2022-04-09T09:46:59.958Z"
      },
      {
        "duration": 7,
        "start_time": "2022-04-09T09:46:59.966Z"
      },
      {
        "duration": 6,
        "start_time": "2022-04-09T09:46:59.975Z"
      },
      {
        "duration": 7,
        "start_time": "2022-04-09T09:46:59.983Z"
      },
      {
        "duration": 42,
        "start_time": "2022-04-09T09:46:59.991Z"
      },
      {
        "duration": 11,
        "start_time": "2022-04-09T09:47:00.034Z"
      },
      {
        "duration": 11,
        "start_time": "2022-04-09T09:47:00.047Z"
      },
      {
        "duration": 10,
        "start_time": "2022-04-09T09:47:00.059Z"
      },
      {
        "duration": 17,
        "start_time": "2022-04-09T09:47:00.071Z"
      },
      {
        "duration": 5,
        "start_time": "2022-04-09T09:47:00.089Z"
      },
      {
        "duration": 8,
        "start_time": "2022-04-09T09:47:00.132Z"
      },
      {
        "duration": 6,
        "start_time": "2022-04-09T09:50:09.860Z"
      },
      {
        "duration": 6,
        "start_time": "2022-04-09T09:51:53.840Z"
      },
      {
        "duration": 6,
        "start_time": "2022-04-09T09:52:05.540Z"
      },
      {
        "duration": 6,
        "start_time": "2022-04-09T09:53:03.117Z"
      },
      {
        "duration": 7,
        "start_time": "2022-04-09T09:54:27.761Z"
      },
      {
        "duration": 5,
        "start_time": "2022-04-09T09:54:28.328Z"
      },
      {
        "duration": 13,
        "start_time": "2022-04-09T10:03:15.051Z"
      },
      {
        "duration": 6,
        "start_time": "2022-04-09T10:10:24.587Z"
      },
      {
        "duration": 5,
        "start_time": "2022-04-09T10:10:50.440Z"
      },
      {
        "duration": 6,
        "start_time": "2022-04-09T10:11:51.603Z"
      },
      {
        "duration": 5,
        "start_time": "2022-04-09T10:12:09.664Z"
      },
      {
        "duration": 6,
        "start_time": "2022-04-09T10:12:56.027Z"
      },
      {
        "duration": 554,
        "start_time": "2022-04-09T10:14:26.592Z"
      },
      {
        "duration": 6,
        "start_time": "2022-04-09T10:17:27.770Z"
      },
      {
        "duration": 14,
        "start_time": "2022-04-09T10:26:55.278Z"
      },
      {
        "duration": 17,
        "start_time": "2022-04-09T10:27:12.203Z"
      },
      {
        "duration": 81,
        "start_time": "2022-04-09T10:28:26.761Z"
      },
      {
        "duration": 61,
        "start_time": "2022-04-09T10:29:24.363Z"
      },
      {
        "duration": 154,
        "start_time": "2022-04-09T10:29:53.311Z"
      },
      {
        "duration": 5,
        "start_time": "2022-04-09T10:32:33.361Z"
      },
      {
        "duration": 15,
        "start_time": "2022-04-09T10:33:17.468Z"
      },
      {
        "duration": 11,
        "start_time": "2022-04-09T10:33:31.548Z"
      },
      {
        "duration": 12,
        "start_time": "2022-04-09T10:34:03.090Z"
      },
      {
        "duration": 6,
        "start_time": "2022-04-09T10:41:15.445Z"
      },
      {
        "duration": 6,
        "start_time": "2022-04-09T10:41:21.969Z"
      },
      {
        "duration": 8,
        "start_time": "2022-04-09T10:41:52.563Z"
      },
      {
        "duration": 15,
        "start_time": "2022-04-09T10:41:59.603Z"
      },
      {
        "duration": 19,
        "start_time": "2022-04-09T10:42:49.855Z"
      },
      {
        "duration": 2,
        "start_time": "2022-04-09T10:44:14.916Z"
      },
      {
        "duration": 125,
        "start_time": "2022-04-09T10:45:15.999Z"
      },
      {
        "duration": 9,
        "start_time": "2022-04-09T10:46:31.158Z"
      },
      {
        "duration": 128,
        "start_time": "2022-04-09T10:47:16.681Z"
      },
      {
        "duration": 126,
        "start_time": "2022-04-09T10:48:48.576Z"
      },
      {
        "duration": 259,
        "start_time": "2022-04-09T10:49:04.532Z"
      },
      {
        "duration": 279,
        "start_time": "2022-04-09T10:54:23.824Z"
      },
      {
        "duration": 245,
        "start_time": "2022-04-09T10:54:58.222Z"
      },
      {
        "duration": 244,
        "start_time": "2022-04-09T10:56:46.533Z"
      },
      {
        "duration": 265,
        "start_time": "2022-04-09T10:57:56.382Z"
      },
      {
        "duration": 223,
        "start_time": "2022-04-09T10:59:18.449Z"
      },
      {
        "duration": 247,
        "start_time": "2022-04-09T11:01:26.523Z"
      },
      {
        "duration": 276,
        "start_time": "2022-04-09T11:02:01.290Z"
      },
      {
        "duration": 242,
        "start_time": "2022-04-09T11:02:38.524Z"
      },
      {
        "duration": 235,
        "start_time": "2022-04-09T11:03:39.833Z"
      },
      {
        "duration": 215,
        "start_time": "2022-04-09T11:05:25.460Z"
      },
      {
        "duration": 275,
        "start_time": "2022-04-09T11:05:40.703Z"
      },
      {
        "duration": 267,
        "start_time": "2022-04-09T11:06:21.990Z"
      },
      {
        "duration": 253,
        "start_time": "2022-04-09T11:06:39.411Z"
      },
      {
        "duration": 260,
        "start_time": "2022-04-09T11:06:54.687Z"
      },
      {
        "duration": 132,
        "start_time": "2022-04-09T11:14:45.346Z"
      },
      {
        "duration": 114,
        "start_time": "2022-04-09T11:16:12.697Z"
      },
      {
        "duration": 124,
        "start_time": "2022-04-09T11:16:54.438Z"
      },
      {
        "duration": 122,
        "start_time": "2022-04-09T11:18:13.040Z"
      },
      {
        "duration": 315,
        "start_time": "2022-04-09T11:19:31.807Z"
      },
      {
        "duration": 301,
        "start_time": "2022-04-09T11:23:25.304Z"
      },
      {
        "duration": 365,
        "start_time": "2022-04-09T11:24:30.522Z"
      },
      {
        "duration": 388,
        "start_time": "2022-04-09T11:24:45.199Z"
      },
      {
        "duration": 385,
        "start_time": "2022-04-09T11:25:27.220Z"
      },
      {
        "duration": 389,
        "start_time": "2022-04-09T11:26:51.769Z"
      },
      {
        "duration": 548,
        "start_time": "2022-04-09T11:27:23.881Z"
      },
      {
        "duration": 425,
        "start_time": "2022-04-09T11:27:54.268Z"
      },
      {
        "duration": 427,
        "start_time": "2022-04-09T11:28:36.992Z"
      },
      {
        "duration": 427,
        "start_time": "2022-04-09T11:29:51.055Z"
      },
      {
        "duration": 564,
        "start_time": "2022-04-09T11:30:40.099Z"
      },
      {
        "duration": 18,
        "start_time": "2022-04-09T11:39:52.705Z"
      },
      {
        "duration": 35,
        "start_time": "2022-04-09T11:42:04.104Z"
      },
      {
        "duration": 8,
        "start_time": "2022-04-09T11:42:13.203Z"
      },
      {
        "duration": 343,
        "start_time": "2022-04-09T11:45:21.892Z"
      },
      {
        "duration": 245,
        "start_time": "2022-04-09T11:47:53.827Z"
      },
      {
        "duration": 211,
        "start_time": "2022-04-09T11:48:35.563Z"
      },
      {
        "duration": 264,
        "start_time": "2022-04-09T11:48:55.698Z"
      },
      {
        "duration": 258,
        "start_time": "2022-04-09T11:49:30.206Z"
      },
      {
        "duration": 217,
        "start_time": "2022-04-09T11:49:45.658Z"
      },
      {
        "duration": 221,
        "start_time": "2022-04-09T11:49:55.251Z"
      },
      {
        "duration": 247,
        "start_time": "2022-04-09T11:50:32.525Z"
      },
      {
        "duration": 248,
        "start_time": "2022-04-09T11:51:26.128Z"
      },
      {
        "duration": 231,
        "start_time": "2022-04-09T11:51:52.541Z"
      },
      {
        "duration": 244,
        "start_time": "2022-04-09T11:52:49.729Z"
      },
      {
        "duration": 265,
        "start_time": "2022-04-09T11:53:12.007Z"
      },
      {
        "duration": 283,
        "start_time": "2022-04-09T11:53:35.775Z"
      },
      {
        "duration": 248,
        "start_time": "2022-04-09T11:53:47.641Z"
      },
      {
        "duration": 144,
        "start_time": "2022-04-09T11:54:49.211Z"
      },
      {
        "duration": 273,
        "start_time": "2022-04-09T11:54:56.188Z"
      },
      {
        "duration": 441,
        "start_time": "2022-04-09T11:56:51.016Z"
      },
      {
        "duration": 338,
        "start_time": "2022-04-09T11:57:12.388Z"
      },
      {
        "duration": 343,
        "start_time": "2022-04-09T11:57:39.635Z"
      },
      {
        "duration": 358,
        "start_time": "2022-04-09T11:58:02.223Z"
      },
      {
        "duration": 370,
        "start_time": "2022-04-09T11:58:45.421Z"
      },
      {
        "duration": 358,
        "start_time": "2022-04-09T12:05:21.090Z"
      },
      {
        "duration": 209,
        "start_time": "2022-04-09T12:05:51.500Z"
      },
      {
        "duration": 219,
        "start_time": "2022-04-09T12:06:00.029Z"
      },
      {
        "duration": 529,
        "start_time": "2022-04-09T12:06:12.586Z"
      },
      {
        "duration": 278,
        "start_time": "2022-04-09T12:08:20.698Z"
      },
      {
        "duration": 408,
        "start_time": "2022-04-09T12:09:22.038Z"
      },
      {
        "duration": 136,
        "start_time": "2022-04-09T12:10:11.301Z"
      },
      {
        "duration": 349,
        "start_time": "2022-04-09T12:10:45.231Z"
      },
      {
        "duration": 326,
        "start_time": "2022-04-09T12:11:32.480Z"
      },
      {
        "duration": 333,
        "start_time": "2022-04-09T12:13:57.485Z"
      },
      {
        "duration": 160,
        "start_time": "2022-04-09T12:16:02.361Z"
      },
      {
        "duration": 398,
        "start_time": "2022-04-09T12:16:10.694Z"
      },
      {
        "duration": 421,
        "start_time": "2022-04-09T12:16:42.125Z"
      },
      {
        "duration": 414,
        "start_time": "2022-04-09T12:16:58.640Z"
      },
      {
        "duration": 635,
        "start_time": "2022-04-09T12:17:50.364Z"
      },
      {
        "duration": 125,
        "start_time": "2022-04-09T12:19:07.789Z"
      },
      {
        "duration": 406,
        "start_time": "2022-04-09T12:20:08.999Z"
      },
      {
        "duration": 441,
        "start_time": "2022-04-09T12:20:22.108Z"
      },
      {
        "duration": 412,
        "start_time": "2022-04-09T12:20:35.906Z"
      },
      {
        "duration": 420,
        "start_time": "2022-04-09T12:22:12.705Z"
      },
      {
        "duration": 389,
        "start_time": "2022-04-09T12:22:30.076Z"
      },
      {
        "duration": 325,
        "start_time": "2022-04-09T12:23:19.857Z"
      },
      {
        "duration": 408,
        "start_time": "2022-04-09T12:26:08.244Z"
      },
      {
        "duration": 10,
        "start_time": "2022-04-09T12:33:12.929Z"
      },
      {
        "duration": 220,
        "start_time": "2022-04-09T12:39:13.530Z"
      },
      {
        "duration": 676,
        "start_time": "2022-04-09T12:41:28.839Z"
      },
      {
        "duration": 449,
        "start_time": "2022-04-09T13:02:46.690Z"
      },
      {
        "duration": 488,
        "start_time": "2022-04-09T13:04:00.158Z"
      },
      {
        "duration": 436,
        "start_time": "2022-04-09T13:04:29.199Z"
      },
      {
        "duration": 2320,
        "start_time": "2022-04-09T13:22:56.340Z"
      },
      {
        "duration": 2386,
        "start_time": "2022-04-09T13:25:22.479Z"
      },
      {
        "duration": 457,
        "start_time": "2022-04-09T13:25:41.337Z"
      },
      {
        "duration": 442,
        "start_time": "2022-04-09T13:26:46.068Z"
      },
      {
        "duration": 712,
        "start_time": "2022-04-09T13:27:48.133Z"
      },
      {
        "duration": 423,
        "start_time": "2022-04-09T13:29:04.197Z"
      },
      {
        "duration": 450,
        "start_time": "2022-04-09T13:31:04.444Z"
      },
      {
        "duration": 11,
        "start_time": "2022-04-09T13:47:09.053Z"
      },
      {
        "duration": 6,
        "start_time": "2022-04-09T13:47:30.326Z"
      },
      {
        "duration": 7,
        "start_time": "2022-04-09T13:47:52.336Z"
      },
      {
        "duration": 7,
        "start_time": "2022-04-09T13:48:14.415Z"
      },
      {
        "duration": 8,
        "start_time": "2022-04-09T13:49:06.001Z"
      },
      {
        "duration": 7,
        "start_time": "2022-04-09T13:49:37.254Z"
      },
      {
        "duration": 8,
        "start_time": "2022-04-09T13:49:44.075Z"
      },
      {
        "duration": 7,
        "start_time": "2022-04-09T13:52:08.280Z"
      },
      {
        "duration": 6,
        "start_time": "2022-04-09T13:52:15.282Z"
      },
      {
        "duration": 7,
        "start_time": "2022-04-09T13:52:22.430Z"
      },
      {
        "duration": 6,
        "start_time": "2022-04-09T13:52:58.231Z"
      },
      {
        "duration": 461,
        "start_time": "2022-04-09T13:53:11.729Z"
      },
      {
        "duration": 740,
        "start_time": "2022-04-09T13:54:17.012Z"
      },
      {
        "duration": 746,
        "start_time": "2022-04-09T13:54:17.754Z"
      },
      {
        "duration": 33,
        "start_time": "2022-04-09T13:54:18.501Z"
      },
      {
        "duration": 4,
        "start_time": "2022-04-09T13:54:18.536Z"
      },
      {
        "duration": 22,
        "start_time": "2022-04-09T13:54:18.542Z"
      },
      {
        "duration": 13,
        "start_time": "2022-04-09T13:54:18.566Z"
      },
      {
        "duration": 18,
        "start_time": "2022-04-09T13:54:18.581Z"
      },
      {
        "duration": 8,
        "start_time": "2022-04-09T13:54:18.632Z"
      },
      {
        "duration": 6,
        "start_time": "2022-04-09T13:54:18.641Z"
      },
      {
        "duration": 6,
        "start_time": "2022-04-09T13:54:18.650Z"
      },
      {
        "duration": 12,
        "start_time": "2022-04-09T13:54:18.658Z"
      },
      {
        "duration": 7,
        "start_time": "2022-04-09T13:54:18.671Z"
      },
      {
        "duration": 11,
        "start_time": "2022-04-09T13:54:18.679Z"
      },
      {
        "duration": 47,
        "start_time": "2022-04-09T13:54:18.691Z"
      },
      {
        "duration": 9,
        "start_time": "2022-04-09T13:54:18.740Z"
      },
      {
        "duration": 19,
        "start_time": "2022-04-09T13:54:18.750Z"
      },
      {
        "duration": 5,
        "start_time": "2022-04-09T13:54:18.771Z"
      },
      {
        "duration": 10,
        "start_time": "2022-04-09T13:54:18.777Z"
      },
      {
        "duration": 45,
        "start_time": "2022-04-09T13:54:18.789Z"
      },
      {
        "duration": 6,
        "start_time": "2022-04-09T13:54:18.835Z"
      },
      {
        "duration": 239,
        "start_time": "2022-04-09T13:54:18.843Z"
      },
      {
        "duration": 10,
        "start_time": "2022-04-09T13:54:19.085Z"
      },
      {
        "duration": 84,
        "start_time": "2022-04-09T13:54:19.097Z"
      },
      {
        "duration": 15,
        "start_time": "2022-04-09T13:54:19.182Z"
      },
      {
        "duration": 9,
        "start_time": "2022-04-09T13:54:19.199Z"
      },
      {
        "duration": 532,
        "start_time": "2022-04-09T13:54:19.210Z"
      },
      {
        "duration": 465,
        "start_time": "2022-04-09T13:54:19.744Z"
      },
      {
        "duration": 457,
        "start_time": "2022-04-09T13:54:20.213Z"
      },
      {
        "duration": 428,
        "start_time": "2022-04-09T13:54:20.672Z"
      },
      {
        "duration": 274,
        "start_time": "2022-04-09T13:54:21.102Z"
      },
      {
        "duration": 94,
        "start_time": "2022-04-09T13:54:21.378Z"
      },
      {
        "duration": 0,
        "start_time": "2022-04-09T13:54:21.473Z"
      },
      {
        "duration": 0,
        "start_time": "2022-04-09T13:54:21.475Z"
      },
      {
        "duration": 582,
        "start_time": "2022-04-09T13:55:04.654Z"
      },
      {
        "duration": 10,
        "start_time": "2022-04-09T13:55:10.067Z"
      },
      {
        "duration": 461,
        "start_time": "2022-04-09T13:55:11.457Z"
      },
      {
        "duration": 434,
        "start_time": "2022-04-09T13:56:04.877Z"
      },
      {
        "duration": 12,
        "start_time": "2022-04-09T13:56:28.069Z"
      },
      {
        "duration": 7,
        "start_time": "2022-04-09T13:56:56.753Z"
      },
      {
        "duration": 4,
        "start_time": "2022-04-09T13:57:09.644Z"
      },
      {
        "duration": 10,
        "start_time": "2022-04-09T13:57:28.924Z"
      },
      {
        "duration": 13,
        "start_time": "2022-04-09T13:57:58.178Z"
      },
      {
        "duration": 12,
        "start_time": "2022-04-09T13:58:39.123Z"
      },
      {
        "duration": 13,
        "start_time": "2022-04-09T13:58:46.720Z"
      },
      {
        "duration": 8,
        "start_time": "2022-04-09T13:59:07.101Z"
      },
      {
        "duration": 11,
        "start_time": "2022-04-09T13:59:16.935Z"
      },
      {
        "duration": 8,
        "start_time": "2022-04-09T13:59:23.439Z"
      },
      {
        "duration": 10,
        "start_time": "2022-04-09T14:00:02.958Z"
      },
      {
        "duration": 10,
        "start_time": "2022-04-09T14:01:06.088Z"
      },
      {
        "duration": 8,
        "start_time": "2022-04-09T14:01:53.693Z"
      },
      {
        "duration": 474,
        "start_time": "2022-04-09T14:02:01.966Z"
      },
      {
        "duration": 10,
        "start_time": "2022-04-09T14:02:41.255Z"
      },
      {
        "duration": 591,
        "start_time": "2022-04-09T14:02:43.229Z"
      },
      {
        "duration": 439,
        "start_time": "2022-04-09T14:02:47.613Z"
      },
      {
        "duration": 421,
        "start_time": "2022-04-09T14:04:11.998Z"
      },
      {
        "duration": 583,
        "start_time": "2022-04-09T14:04:31.113Z"
      },
      {
        "duration": 436,
        "start_time": "2022-04-09T14:04:46.168Z"
      },
      {
        "duration": 7,
        "start_time": "2022-04-10T08:58:07.828Z"
      },
      {
        "duration": 2,
        "start_time": "2022-04-10T08:58:08.555Z"
      },
      {
        "duration": 42,
        "start_time": "2022-04-10T08:58:28.754Z"
      },
      {
        "duration": 793,
        "start_time": "2022-04-10T08:59:49.196Z"
      },
      {
        "duration": 3,
        "start_time": "2022-04-10T09:00:32.445Z"
      },
      {
        "duration": 3,
        "start_time": "2022-04-10T09:00:49.269Z"
      },
      {
        "duration": 5,
        "start_time": "2022-04-10T09:00:49.775Z"
      },
      {
        "duration": 3,
        "start_time": "2022-04-10T09:01:12.185Z"
      },
      {
        "duration": 4,
        "start_time": "2022-04-10T09:01:12.899Z"
      },
      {
        "duration": 2,
        "start_time": "2022-04-10T09:01:20.824Z"
      },
      {
        "duration": 4,
        "start_time": "2022-04-10T09:01:22.400Z"
      },
      {
        "duration": 3,
        "start_time": "2022-04-10T09:01:34.837Z"
      },
      {
        "duration": 4,
        "start_time": "2022-04-10T09:01:35.823Z"
      },
      {
        "duration": 3,
        "start_time": "2022-04-10T09:02:01.664Z"
      },
      {
        "duration": 39,
        "start_time": "2022-04-10T09:02:02.204Z"
      },
      {
        "duration": 3,
        "start_time": "2022-04-10T09:02:16.691Z"
      },
      {
        "duration": 4,
        "start_time": "2022-04-10T09:02:17.228Z"
      },
      {
        "duration": 3,
        "start_time": "2022-04-10T09:02:43.002Z"
      },
      {
        "duration": 3,
        "start_time": "2022-04-10T09:02:43.567Z"
      },
      {
        "duration": 4,
        "start_time": "2022-04-10T09:02:44.095Z"
      },
      {
        "duration": 3,
        "start_time": "2022-04-10T09:03:00.453Z"
      },
      {
        "duration": 4,
        "start_time": "2022-04-10T09:03:00.935Z"
      },
      {
        "duration": 826,
        "start_time": "2022-04-10T09:19:12.592Z"
      },
      {
        "duration": 1440,
        "start_time": "2022-04-10T09:19:30.844Z"
      },
      {
        "duration": 622,
        "start_time": "2022-04-10T09:19:32.286Z"
      },
      {
        "duration": 24,
        "start_time": "2022-04-10T09:19:32.910Z"
      },
      {
        "duration": 17,
        "start_time": "2022-04-10T09:19:32.936Z"
      },
      {
        "duration": 23,
        "start_time": "2022-04-10T09:19:32.956Z"
      },
      {
        "duration": 17,
        "start_time": "2022-04-10T09:19:32.981Z"
      },
      {
        "duration": 17,
        "start_time": "2022-04-10T09:19:33.001Z"
      },
      {
        "duration": 8,
        "start_time": "2022-04-10T09:19:33.020Z"
      },
      {
        "duration": 16,
        "start_time": "2022-04-10T09:19:33.029Z"
      },
      {
        "duration": 5,
        "start_time": "2022-04-10T09:19:33.047Z"
      },
      {
        "duration": 19,
        "start_time": "2022-04-10T09:19:33.054Z"
      },
      {
        "duration": 16,
        "start_time": "2022-04-10T09:19:33.074Z"
      },
      {
        "duration": 19,
        "start_time": "2022-04-10T09:19:33.091Z"
      },
      {
        "duration": 19,
        "start_time": "2022-04-10T09:19:33.113Z"
      },
      {
        "duration": 18,
        "start_time": "2022-04-10T09:19:33.133Z"
      },
      {
        "duration": 30,
        "start_time": "2022-04-10T09:19:33.153Z"
      },
      {
        "duration": 15,
        "start_time": "2022-04-10T09:19:33.185Z"
      },
      {
        "duration": 20,
        "start_time": "2022-04-10T09:19:33.201Z"
      },
      {
        "duration": 24,
        "start_time": "2022-04-10T09:19:33.222Z"
      },
      {
        "duration": 13,
        "start_time": "2022-04-10T09:19:33.247Z"
      },
      {
        "duration": 204,
        "start_time": "2022-04-10T09:19:33.261Z"
      },
      {
        "duration": 9,
        "start_time": "2022-04-10T09:19:33.467Z"
      },
      {
        "duration": 71,
        "start_time": "2022-04-10T09:19:33.478Z"
      },
      {
        "duration": 12,
        "start_time": "2022-04-10T09:19:33.550Z"
      },
      {
        "duration": 21,
        "start_time": "2022-04-10T09:19:33.563Z"
      },
      {
        "duration": 363,
        "start_time": "2022-04-10T09:19:33.585Z"
      },
      {
        "duration": 415,
        "start_time": "2022-04-10T09:19:33.949Z"
      },
      {
        "duration": 378,
        "start_time": "2022-04-10T09:19:34.365Z"
      },
      {
        "duration": 384,
        "start_time": "2022-04-10T09:19:34.744Z"
      },
      {
        "duration": 230,
        "start_time": "2022-04-10T09:19:35.129Z"
      },
      {
        "duration": 529,
        "start_time": "2022-04-10T09:19:35.361Z"
      },
      {
        "duration": 14,
        "start_time": "2022-04-10T09:19:35.891Z"
      },
      {
        "duration": 4,
        "start_time": "2022-04-10T09:19:35.907Z"
      },
      {
        "duration": 5,
        "start_time": "2022-04-10T09:19:35.912Z"
      },
      {
        "duration": 6,
        "start_time": "2022-04-10T09:19:35.918Z"
      },
      {
        "duration": 3,
        "start_time": "2022-04-10T09:39:39.756Z"
      },
      {
        "duration": 107,
        "start_time": "2022-04-10T09:46:26.250Z"
      },
      {
        "duration": 5,
        "start_time": "2022-04-10T09:47:58.846Z"
      },
      {
        "duration": 4,
        "start_time": "2022-04-10T09:48:32.618Z"
      },
      {
        "duration": 9,
        "start_time": "2022-04-10T09:52:32.239Z"
      },
      {
        "duration": 10,
        "start_time": "2022-04-10T09:55:00.999Z"
      },
      {
        "duration": 4,
        "start_time": "2022-04-10T09:55:30.882Z"
      },
      {
        "duration": 3,
        "start_time": "2022-04-10T10:10:50.119Z"
      },
      {
        "duration": 4,
        "start_time": "2022-04-10T10:10:56.000Z"
      },
      {
        "duration": 9,
        "start_time": "2022-04-10T10:16:56.483Z"
      },
      {
        "duration": 1321,
        "start_time": "2022-04-10T10:17:03.980Z"
      },
      {
        "duration": 16,
        "start_time": "2022-04-10T10:17:39.716Z"
      },
      {
        "duration": 4,
        "start_time": "2022-04-10T10:19:59.745Z"
      },
      {
        "duration": 1543,
        "start_time": "2022-04-10T10:20:50.508Z"
      },
      {
        "duration": 669,
        "start_time": "2022-04-10T10:20:52.053Z"
      },
      {
        "duration": 23,
        "start_time": "2022-04-10T10:20:52.724Z"
      },
      {
        "duration": 3,
        "start_time": "2022-04-10T10:20:52.749Z"
      },
      {
        "duration": 17,
        "start_time": "2022-04-10T10:20:52.754Z"
      },
      {
        "duration": 35,
        "start_time": "2022-04-10T10:20:52.773Z"
      },
      {
        "duration": 16,
        "start_time": "2022-04-10T10:20:52.810Z"
      },
      {
        "duration": 8,
        "start_time": "2022-04-10T10:20:52.827Z"
      },
      {
        "duration": 4,
        "start_time": "2022-04-10T10:20:52.836Z"
      },
      {
        "duration": 5,
        "start_time": "2022-04-10T10:20:52.842Z"
      },
      {
        "duration": 5,
        "start_time": "2022-04-10T10:20:52.849Z"
      },
      {
        "duration": 6,
        "start_time": "2022-04-10T10:20:52.856Z"
      },
      {
        "duration": 46,
        "start_time": "2022-04-10T10:20:52.864Z"
      },
      {
        "duration": 10,
        "start_time": "2022-04-10T10:20:52.913Z"
      },
      {
        "duration": 8,
        "start_time": "2022-04-10T10:20:52.924Z"
      },
      {
        "duration": 14,
        "start_time": "2022-04-10T10:20:52.934Z"
      },
      {
        "duration": 4,
        "start_time": "2022-04-10T10:20:52.950Z"
      },
      {
        "duration": 15,
        "start_time": "2022-04-10T10:20:52.956Z"
      },
      {
        "duration": 37,
        "start_time": "2022-04-10T10:20:52.973Z"
      },
      {
        "duration": 5,
        "start_time": "2022-04-10T10:20:53.012Z"
      },
      {
        "duration": 193,
        "start_time": "2022-04-10T10:20:53.018Z"
      },
      {
        "duration": 9,
        "start_time": "2022-04-10T10:20:53.212Z"
      },
      {
        "duration": 60,
        "start_time": "2022-04-10T10:20:53.223Z"
      },
      {
        "duration": 23,
        "start_time": "2022-04-10T10:20:53.285Z"
      },
      {
        "duration": 5,
        "start_time": "2022-04-10T10:20:53.310Z"
      },
      {
        "duration": 388,
        "start_time": "2022-04-10T10:20:53.316Z"
      },
      {
        "duration": 430,
        "start_time": "2022-04-10T10:20:53.705Z"
      },
      {
        "duration": 361,
        "start_time": "2022-04-10T10:20:54.137Z"
      },
      {
        "duration": 386,
        "start_time": "2022-04-10T10:20:54.501Z"
      },
      {
        "duration": 243,
        "start_time": "2022-04-10T10:20:54.889Z"
      },
      {
        "duration": 482,
        "start_time": "2022-04-10T10:20:55.134Z"
      },
      {
        "duration": 9,
        "start_time": "2022-04-10T10:20:55.618Z"
      },
      {
        "duration": 5,
        "start_time": "2022-04-10T10:20:55.628Z"
      },
      {
        "duration": 6,
        "start_time": "2022-04-10T10:20:55.635Z"
      },
      {
        "duration": 5,
        "start_time": "2022-04-10T10:20:55.643Z"
      },
      {
        "duration": 131,
        "start_time": "2022-04-10T10:20:55.650Z"
      },
      {
        "duration": 0,
        "start_time": "2022-04-10T10:20:55.783Z"
      },
      {
        "duration": 0,
        "start_time": "2022-04-10T10:20:55.785Z"
      },
      {
        "duration": 9,
        "start_time": "2022-04-10T10:21:18.868Z"
      },
      {
        "duration": 17,
        "start_time": "2022-04-10T10:21:21.762Z"
      },
      {
        "duration": 408,
        "start_time": "2022-04-10T10:25:59.501Z"
      },
      {
        "duration": 1507,
        "start_time": "2022-04-10T10:26:11.601Z"
      },
      {
        "duration": 15,
        "start_time": "2022-04-10T10:27:35.647Z"
      },
      {
        "duration": 9,
        "start_time": "2022-04-10T10:46:52.098Z"
      },
      {
        "duration": 4,
        "start_time": "2022-04-10T10:48:01.614Z"
      },
      {
        "duration": 3,
        "start_time": "2022-04-10T10:48:12.971Z"
      },
      {
        "duration": 13,
        "start_time": "2022-04-10T10:48:31.616Z"
      },
      {
        "duration": 2,
        "start_time": "2022-04-10T10:58:20.256Z"
      },
      {
        "duration": 5,
        "start_time": "2022-04-10T10:58:21.106Z"
      },
      {
        "duration": 6,
        "start_time": "2022-04-10T10:58:24.187Z"
      },
      {
        "duration": 14,
        "start_time": "2022-04-10T10:58:26.766Z"
      },
      {
        "duration": 1774,
        "start_time": "2022-04-10T11:03:03.635Z"
      },
      {
        "duration": 15,
        "start_time": "2022-04-10T11:03:21.176Z"
      },
      {
        "duration": 890,
        "start_time": "2022-04-10T11:23:46.319Z"
      },
      {
        "duration": 4,
        "start_time": "2022-04-10T11:24:20.702Z"
      },
      {
        "duration": 2,
        "start_time": "2022-04-10T11:24:21.328Z"
      },
      {
        "duration": 5,
        "start_time": "2022-04-10T11:24:22.074Z"
      },
      {
        "duration": 7,
        "start_time": "2022-04-10T11:24:22.855Z"
      },
      {
        "duration": 15,
        "start_time": "2022-04-10T11:24:24.911Z"
      },
      {
        "duration": 3,
        "start_time": "2022-04-10T11:24:49.285Z"
      },
      {
        "duration": 3,
        "start_time": "2022-04-10T11:28:09.314Z"
      },
      {
        "duration": 1195215,
        "start_time": "2022-04-10T11:33:21.463Z"
      },
      {
        "duration": 1506,
        "start_time": "2022-04-10T11:53:57.284Z"
      },
      {
        "duration": 633,
        "start_time": "2022-04-10T11:53:58.793Z"
      },
      {
        "duration": 22,
        "start_time": "2022-04-10T11:53:59.428Z"
      },
      {
        "duration": 3,
        "start_time": "2022-04-10T11:53:59.451Z"
      },
      {
        "duration": 18,
        "start_time": "2022-04-10T11:53:59.456Z"
      },
      {
        "duration": 34,
        "start_time": "2022-04-10T11:53:59.476Z"
      },
      {
        "duration": 16,
        "start_time": "2022-04-10T11:53:59.511Z"
      },
      {
        "duration": 8,
        "start_time": "2022-04-10T11:53:59.529Z"
      },
      {
        "duration": 5,
        "start_time": "2022-04-10T11:53:59.538Z"
      },
      {
        "duration": 5,
        "start_time": "2022-04-10T11:53:59.544Z"
      },
      {
        "duration": 6,
        "start_time": "2022-04-10T11:53:59.551Z"
      },
      {
        "duration": 7,
        "start_time": "2022-04-10T11:53:59.558Z"
      },
      {
        "duration": 37,
        "start_time": "2022-04-10T11:53:59.566Z"
      },
      {
        "duration": 9,
        "start_time": "2022-04-10T11:53:59.607Z"
      },
      {
        "duration": 8,
        "start_time": "2022-04-10T11:53:59.617Z"
      },
      {
        "duration": 15,
        "start_time": "2022-04-10T11:53:59.627Z"
      },
      {
        "duration": 5,
        "start_time": "2022-04-10T11:53:59.643Z"
      },
      {
        "duration": 13,
        "start_time": "2022-04-10T11:53:59.649Z"
      },
      {
        "duration": 47,
        "start_time": "2022-04-10T11:53:59.664Z"
      },
      {
        "duration": 5,
        "start_time": "2022-04-10T11:53:59.713Z"
      },
      {
        "duration": 199,
        "start_time": "2022-04-10T11:53:59.719Z"
      },
      {
        "duration": 10,
        "start_time": "2022-04-10T11:53:59.919Z"
      },
      {
        "duration": 77,
        "start_time": "2022-04-10T11:53:59.930Z"
      },
      {
        "duration": 13,
        "start_time": "2022-04-10T11:54:00.008Z"
      },
      {
        "duration": 5,
        "start_time": "2022-04-10T11:54:00.023Z"
      },
      {
        "duration": 395,
        "start_time": "2022-04-10T11:54:00.030Z"
      },
      {
        "duration": 468,
        "start_time": "2022-04-10T11:54:00.427Z"
      },
      {
        "duration": 383,
        "start_time": "2022-04-10T11:54:00.900Z"
      },
      {
        "duration": 423,
        "start_time": "2022-04-10T11:54:01.285Z"
      },
      {
        "duration": 237,
        "start_time": "2022-04-10T11:54:01.710Z"
      },
      {
        "duration": 489,
        "start_time": "2022-04-10T11:54:01.949Z"
      },
      {
        "duration": 9,
        "start_time": "2022-04-10T11:54:02.440Z"
      },
      {
        "duration": 7,
        "start_time": "2022-04-10T11:54:02.451Z"
      },
      {
        "duration": 31,
        "start_time": "2022-04-10T11:54:02.460Z"
      },
      {
        "duration": 19,
        "start_time": "2022-04-10T11:54:02.493Z"
      },
      {
        "duration": 15,
        "start_time": "2022-04-10T11:54:02.514Z"
      },
      {
        "duration": 16,
        "start_time": "2022-04-10T11:54:02.531Z"
      },
      {
        "duration": 15,
        "start_time": "2022-04-10T11:54:02.549Z"
      },
      {
        "duration": 122,
        "start_time": "2022-04-10T11:54:02.566Z"
      },
      {
        "duration": 0,
        "start_time": "2022-04-10T11:54:02.689Z"
      },
      {
        "duration": 0,
        "start_time": "2022-04-10T11:54:02.691Z"
      },
      {
        "duration": 0,
        "start_time": "2022-04-10T11:54:02.691Z"
      },
      {
        "duration": 17,
        "start_time": "2022-04-10T11:54:16.294Z"
      },
      {
        "duration": 4,
        "start_time": "2022-04-10T11:56:46.911Z"
      },
      {
        "duration": 2,
        "start_time": "2022-04-10T11:56:47.771Z"
      },
      {
        "duration": 3,
        "start_time": "2022-04-10T11:56:49.537Z"
      },
      {
        "duration": 8,
        "start_time": "2022-04-10T11:56:50.477Z"
      },
      {
        "duration": 2,
        "start_time": "2022-04-10T11:56:50.939Z"
      },
      {
        "duration": 2,
        "start_time": "2022-04-10T11:56:51.329Z"
      },
      {
        "duration": 3,
        "start_time": "2022-04-10T11:56:51.752Z"
      },
      {
        "duration": 3,
        "start_time": "2022-04-10T11:56:52.367Z"
      },
      {
        "duration": 14,
        "start_time": "2022-04-10T11:56:54.309Z"
      },
      {
        "duration": 3,
        "start_time": "2022-04-10T11:59:34.180Z"
      },
      {
        "duration": 3,
        "start_time": "2022-04-10T11:59:35.110Z"
      },
      {
        "duration": 7,
        "start_time": "2022-04-10T11:59:35.503Z"
      },
      {
        "duration": 2,
        "start_time": "2022-04-10T11:59:35.838Z"
      },
      {
        "duration": 2,
        "start_time": "2022-04-10T11:59:36.169Z"
      },
      {
        "duration": 2,
        "start_time": "2022-04-10T11:59:36.487Z"
      },
      {
        "duration": 3,
        "start_time": "2022-04-10T11:59:36.916Z"
      },
      {
        "duration": 14,
        "start_time": "2022-04-10T11:59:46.910Z"
      },
      {
        "duration": 11,
        "start_time": "2022-04-10T12:03:17.707Z"
      },
      {
        "duration": 3,
        "start_time": "2022-04-10T12:03:44.882Z"
      },
      {
        "duration": 4,
        "start_time": "2022-04-10T12:03:52.926Z"
      },
      {
        "duration": 4,
        "start_time": "2022-04-10T12:04:57.846Z"
      },
      {
        "duration": 3,
        "start_time": "2022-04-10T12:07:51.657Z"
      },
      {
        "duration": 752,
        "start_time": "2022-04-10T12:07:52.651Z"
      },
      {
        "duration": 3,
        "start_time": "2022-04-10T12:08:51.413Z"
      },
      {
        "duration": 1553,
        "start_time": "2022-04-10T12:08:52.049Z"
      },
      {
        "duration": 833,
        "start_time": "2022-04-10T12:09:11.376Z"
      },
      {
        "duration": 10,
        "start_time": "2022-04-10T12:09:59.234Z"
      },
      {
        "duration": 1585,
        "start_time": "2022-04-10T12:10:13.820Z"
      },
      {
        "duration": 1501,
        "start_time": "2022-04-10T12:10:40.305Z"
      },
      {
        "duration": 2,
        "start_time": "2022-04-10T12:10:49.801Z"
      },
      {
        "duration": 15,
        "start_time": "2022-04-10T12:10:50.924Z"
      },
      {
        "duration": 2,
        "start_time": "2022-04-10T12:11:13.690Z"
      },
      {
        "duration": 4,
        "start_time": "2022-04-10T12:11:24.360Z"
      },
      {
        "duration": 3,
        "start_time": "2022-04-10T12:18:55.074Z"
      },
      {
        "duration": 2,
        "start_time": "2022-04-10T12:18:55.955Z"
      },
      {
        "duration": 3,
        "start_time": "2022-04-10T12:18:56.447Z"
      },
      {
        "duration": 6,
        "start_time": "2022-04-10T12:18:56.780Z"
      },
      {
        "duration": 2,
        "start_time": "2022-04-10T12:18:57.184Z"
      },
      {
        "duration": 2,
        "start_time": "2022-04-10T12:18:57.601Z"
      },
      {
        "duration": 2,
        "start_time": "2022-04-10T12:18:57.955Z"
      },
      {
        "duration": 2,
        "start_time": "2022-04-10T12:18:58.269Z"
      },
      {
        "duration": 4,
        "start_time": "2022-04-10T12:18:58.605Z"
      },
      {
        "duration": 3,
        "start_time": "2022-04-10T12:18:59.257Z"
      },
      {
        "duration": 15,
        "start_time": "2022-04-10T12:18:59.612Z"
      },
      {
        "duration": 1471,
        "start_time": "2022-04-10T12:20:49.603Z"
      },
      {
        "duration": 1361,
        "start_time": "2022-04-10T12:21:33.055Z"
      },
      {
        "duration": 1564,
        "start_time": "2022-04-10T12:21:34.419Z"
      },
      {
        "duration": 952,
        "start_time": "2022-04-10T12:21:35.986Z"
      },
      {
        "duration": 38,
        "start_time": "2022-04-10T12:21:36.940Z"
      },
      {
        "duration": 5,
        "start_time": "2022-04-10T12:21:36.981Z"
      },
      {
        "duration": 25,
        "start_time": "2022-04-10T12:21:37.001Z"
      },
      {
        "duration": 18,
        "start_time": "2022-04-10T12:21:37.028Z"
      },
      {
        "duration": 22,
        "start_time": "2022-04-10T12:21:37.048Z"
      },
      {
        "duration": 36,
        "start_time": "2022-04-10T12:21:37.072Z"
      },
      {
        "duration": 6,
        "start_time": "2022-04-10T12:21:37.109Z"
      },
      {
        "duration": 5,
        "start_time": "2022-04-10T12:21:37.117Z"
      },
      {
        "duration": 8,
        "start_time": "2022-04-10T12:21:37.124Z"
      },
      {
        "duration": 5,
        "start_time": "2022-04-10T12:21:37.133Z"
      },
      {
        "duration": 16,
        "start_time": "2022-04-10T12:21:37.141Z"
      },
      {
        "duration": 49,
        "start_time": "2022-04-10T12:21:37.159Z"
      },
      {
        "duration": 10,
        "start_time": "2022-04-10T12:21:37.209Z"
      },
      {
        "duration": 14,
        "start_time": "2022-04-10T12:21:37.221Z"
      },
      {
        "duration": 4,
        "start_time": "2022-04-10T12:21:37.237Z"
      },
      {
        "duration": 9,
        "start_time": "2022-04-10T12:21:37.242Z"
      },
      {
        "duration": 49,
        "start_time": "2022-04-10T12:21:37.253Z"
      },
      {
        "duration": 4,
        "start_time": "2022-04-10T12:21:37.304Z"
      },
      {
        "duration": 207,
        "start_time": "2022-04-10T12:21:37.310Z"
      },
      {
        "duration": 10,
        "start_time": "2022-04-10T12:21:37.518Z"
      },
      {
        "duration": 90,
        "start_time": "2022-04-10T12:21:37.530Z"
      },
      {
        "duration": 12,
        "start_time": "2022-04-10T12:21:37.622Z"
      },
      {
        "duration": 6,
        "start_time": "2022-04-10T12:21:37.636Z"
      },
      {
        "duration": 418,
        "start_time": "2022-04-10T12:21:37.644Z"
      },
      {
        "duration": 491,
        "start_time": "2022-04-10T12:21:38.064Z"
      },
      {
        "duration": 390,
        "start_time": "2022-04-10T12:21:38.556Z"
      },
      {
        "duration": 372,
        "start_time": "2022-04-10T12:21:38.948Z"
      },
      {
        "duration": 218,
        "start_time": "2022-04-10T12:21:39.321Z"
      },
      {
        "duration": 530,
        "start_time": "2022-04-10T12:21:39.541Z"
      },
      {
        "duration": 9,
        "start_time": "2022-04-10T12:21:40.072Z"
      },
      {
        "duration": 6,
        "start_time": "2022-04-10T12:21:40.082Z"
      },
      {
        "duration": 5,
        "start_time": "2022-04-10T12:21:40.090Z"
      },
      {
        "duration": 7,
        "start_time": "2022-04-10T12:21:40.097Z"
      },
      {
        "duration": 7,
        "start_time": "2022-04-10T12:21:40.106Z"
      },
      {
        "duration": 15,
        "start_time": "2022-04-10T12:21:40.114Z"
      },
      {
        "duration": 9,
        "start_time": "2022-04-10T12:21:40.130Z"
      },
      {
        "duration": 10,
        "start_time": "2022-04-10T12:21:40.141Z"
      },
      {
        "duration": 12,
        "start_time": "2022-04-10T12:21:40.154Z"
      },
      {
        "duration": 11,
        "start_time": "2022-04-10T12:21:40.167Z"
      },
      {
        "duration": 8,
        "start_time": "2022-04-10T12:21:40.180Z"
      },
      {
        "duration": 8,
        "start_time": "2022-04-10T12:21:40.190Z"
      },
      {
        "duration": 130,
        "start_time": "2022-04-10T12:21:40.200Z"
      },
      {
        "duration": 0,
        "start_time": "2022-04-10T12:21:40.332Z"
      },
      {
        "duration": 4,
        "start_time": "2022-04-10T12:25:36.121Z"
      },
      {
        "duration": 3,
        "start_time": "2022-04-10T12:29:20.081Z"
      },
      {
        "duration": 3,
        "start_time": "2022-04-10T12:29:29.714Z"
      },
      {
        "duration": 4,
        "start_time": "2022-04-10T12:29:30.875Z"
      },
      {
        "duration": 3,
        "start_time": "2022-04-10T12:29:33.071Z"
      },
      {
        "duration": 9,
        "start_time": "2022-04-10T12:29:34.267Z"
      },
      {
        "duration": 2,
        "start_time": "2022-04-10T12:29:35.421Z"
      },
      {
        "duration": 3,
        "start_time": "2022-04-10T12:29:35.797Z"
      },
      {
        "duration": 3,
        "start_time": "2022-04-10T12:29:36.217Z"
      },
      {
        "duration": 3,
        "start_time": "2022-04-10T12:29:37.280Z"
      },
      {
        "duration": 4,
        "start_time": "2022-04-10T12:29:38.032Z"
      },
      {
        "duration": 3,
        "start_time": "2022-04-10T12:29:38.431Z"
      },
      {
        "duration": 13,
        "start_time": "2022-04-10T12:29:39.878Z"
      },
      {
        "duration": 3,
        "start_time": "2022-04-10T12:32:46.125Z"
      },
      {
        "duration": 3,
        "start_time": "2022-04-10T12:32:46.730Z"
      },
      {
        "duration": 3,
        "start_time": "2022-04-10T12:32:47.385Z"
      },
      {
        "duration": 4,
        "start_time": "2022-04-10T12:32:48.069Z"
      },
      {
        "duration": 3,
        "start_time": "2022-04-10T12:33:10.585Z"
      },
      {
        "duration": 14,
        "start_time": "2022-04-10T12:33:11.548Z"
      },
      {
        "duration": 3,
        "start_time": "2022-04-10T12:33:35.850Z"
      },
      {
        "duration": 748,
        "start_time": "2022-04-10T12:33:48.163Z"
      },
      {
        "duration": 4,
        "start_time": "2022-04-10T12:34:10.870Z"
      },
      {
        "duration": 4,
        "start_time": "2022-04-10T12:34:29.547Z"
      },
      {
        "duration": 2,
        "start_time": "2022-04-10T12:34:33.574Z"
      },
      {
        "duration": 4,
        "start_time": "2022-04-10T12:34:34.896Z"
      },
      {
        "duration": 7,
        "start_time": "2022-04-10T12:34:35.308Z"
      },
      {
        "duration": 3,
        "start_time": "2022-04-10T12:34:35.614Z"
      },
      {
        "duration": 2,
        "start_time": "2022-04-10T12:34:36.245Z"
      },
      {
        "duration": 2,
        "start_time": "2022-04-10T12:34:36.527Z"
      },
      {
        "duration": 2,
        "start_time": "2022-04-10T12:34:36.825Z"
      },
      {
        "duration": 5,
        "start_time": "2022-04-10T12:34:37.945Z"
      },
      {
        "duration": 1424,
        "start_time": "2022-04-10T12:34:56.283Z"
      },
      {
        "duration": 3,
        "start_time": "2022-04-10T12:36:17.456Z"
      },
      {
        "duration": 5,
        "start_time": "2022-04-10T12:36:18.027Z"
      },
      {
        "duration": 5,
        "start_time": "2022-04-10T12:36:50.225Z"
      },
      {
        "duration": 5,
        "start_time": "2022-04-10T12:36:54.769Z"
      },
      {
        "duration": 6,
        "start_time": "2022-04-10T12:37:09.321Z"
      },
      {
        "duration": 11,
        "start_time": "2022-04-10T12:37:20.294Z"
      },
      {
        "duration": 5,
        "start_time": "2022-04-10T12:40:17.059Z"
      },
      {
        "duration": 3,
        "start_time": "2022-04-10T12:40:31.987Z"
      },
      {
        "duration": 4,
        "start_time": "2022-04-10T12:40:32.829Z"
      },
      {
        "duration": 9,
        "start_time": "2022-04-10T12:40:59.204Z"
      },
      {
        "duration": 4,
        "start_time": "2022-04-10T12:41:20.745Z"
      },
      {
        "duration": 12,
        "start_time": "2022-04-10T12:41:52.363Z"
      },
      {
        "duration": 3,
        "start_time": "2022-04-10T12:42:03.727Z"
      },
      {
        "duration": 4,
        "start_time": "2022-04-10T12:42:10.233Z"
      },
      {
        "duration": 4,
        "start_time": "2022-04-10T12:42:18.022Z"
      },
      {
        "duration": 5,
        "start_time": "2022-04-10T12:42:50.821Z"
      },
      {
        "duration": 4,
        "start_time": "2022-04-10T12:44:10.181Z"
      },
      {
        "duration": 4,
        "start_time": "2022-04-10T12:44:11.798Z"
      },
      {
        "duration": 3,
        "start_time": "2022-04-10T12:44:18.978Z"
      },
      {
        "duration": 4,
        "start_time": "2022-04-10T12:44:19.595Z"
      },
      {
        "duration": 2,
        "start_time": "2022-04-10T12:44:26.837Z"
      },
      {
        "duration": 4,
        "start_time": "2022-04-10T12:44:28.683Z"
      },
      {
        "duration": 3,
        "start_time": "2022-04-10T12:44:33.867Z"
      },
      {
        "duration": 5,
        "start_time": "2022-04-10T12:44:35.473Z"
      },
      {
        "duration": 2,
        "start_time": "2022-04-10T12:44:55.451Z"
      },
      {
        "duration": 4,
        "start_time": "2022-04-10T12:44:57.201Z"
      },
      {
        "duration": 3,
        "start_time": "2022-04-10T12:45:06.939Z"
      },
      {
        "duration": 4,
        "start_time": "2022-04-10T12:45:07.446Z"
      },
      {
        "duration": 3,
        "start_time": "2022-04-10T12:45:11.844Z"
      },
      {
        "duration": 4,
        "start_time": "2022-04-10T12:45:13.124Z"
      },
      {
        "duration": 3,
        "start_time": "2022-04-10T12:45:17.192Z"
      },
      {
        "duration": 4,
        "start_time": "2022-04-10T12:45:17.561Z"
      },
      {
        "duration": 3,
        "start_time": "2022-04-10T12:45:31.300Z"
      },
      {
        "duration": 4,
        "start_time": "2022-04-10T12:45:31.771Z"
      },
      {
        "duration": 3,
        "start_time": "2022-04-10T12:45:35.863Z"
      },
      {
        "duration": 4,
        "start_time": "2022-04-10T12:45:36.444Z"
      },
      {
        "duration": 3,
        "start_time": "2022-04-10T12:45:42.534Z"
      },
      {
        "duration": 5,
        "start_time": "2022-04-10T12:45:43.186Z"
      },
      {
        "duration": 3,
        "start_time": "2022-04-10T12:45:51.055Z"
      },
      {
        "duration": 3,
        "start_time": "2022-04-10T12:45:51.500Z"
      },
      {
        "duration": 3,
        "start_time": "2022-04-10T12:45:57.732Z"
      },
      {
        "duration": 4,
        "start_time": "2022-04-10T12:45:58.155Z"
      },
      {
        "duration": 3,
        "start_time": "2022-04-10T12:46:13.014Z"
      },
      {
        "duration": 4,
        "start_time": "2022-04-10T12:46:13.448Z"
      },
      {
        "duration": 3,
        "start_time": "2022-04-10T12:46:20.107Z"
      },
      {
        "duration": 4,
        "start_time": "2022-04-10T12:46:20.499Z"
      },
      {
        "duration": 3,
        "start_time": "2022-04-10T12:46:26.783Z"
      },
      {
        "duration": 3,
        "start_time": "2022-04-10T12:46:27.658Z"
      },
      {
        "duration": 3,
        "start_time": "2022-04-10T12:53:08.788Z"
      },
      {
        "duration": 1061,
        "start_time": "2022-04-10T12:53:15.347Z"
      },
      {
        "duration": 184,
        "start_time": "2022-04-10T12:55:34.646Z"
      },
      {
        "duration": 165,
        "start_time": "2022-04-10T12:55:54.321Z"
      },
      {
        "duration": 195,
        "start_time": "2022-04-10T12:57:25.883Z"
      },
      {
        "duration": 164,
        "start_time": "2022-04-10T12:58:04.916Z"
      },
      {
        "duration": 3,
        "start_time": "2022-04-10T12:58:19.579Z"
      },
      {
        "duration": 3,
        "start_time": "2022-04-10T12:58:21.123Z"
      },
      {
        "duration": 3,
        "start_time": "2022-04-10T12:58:22.033Z"
      },
      {
        "duration": 4,
        "start_time": "2022-04-10T12:58:22.631Z"
      },
      {
        "duration": 3,
        "start_time": "2022-04-10T12:58:31.528Z"
      },
      {
        "duration": 1367,
        "start_time": "2022-04-10T12:58:35.543Z"
      },
      {
        "duration": 3,
        "start_time": "2022-04-10T13:02:35.850Z"
      },
      {
        "duration": 3,
        "start_time": "2022-04-10T13:02:36.758Z"
      },
      {
        "duration": 4,
        "start_time": "2022-04-10T13:02:37.133Z"
      },
      {
        "duration": 4,
        "start_time": "2022-04-10T13:02:38.125Z"
      },
      {
        "duration": 2,
        "start_time": "2022-04-10T13:02:39.336Z"
      },
      {
        "duration": 3,
        "start_time": "2022-04-10T13:02:39.711Z"
      },
      {
        "duration": 7,
        "start_time": "2022-04-10T13:02:40.043Z"
      },
      {
        "duration": 2,
        "start_time": "2022-04-10T13:02:40.296Z"
      },
      {
        "duration": 2,
        "start_time": "2022-04-10T13:02:40.580Z"
      },
      {
        "duration": 2,
        "start_time": "2022-04-10T13:02:40.877Z"
      },
      {
        "duration": 3,
        "start_time": "2022-04-10T13:02:41.275Z"
      },
      {
        "duration": 1258,
        "start_time": "2022-04-10T13:02:41.847Z"
      },
      {
        "duration": 4,
        "start_time": "2022-04-10T13:03:03.729Z"
      },
      {
        "duration": 4,
        "start_time": "2022-04-10T13:03:16.337Z"
      },
      {
        "duration": 4,
        "start_time": "2022-04-10T13:04:11.168Z"
      },
      {
        "duration": 3,
        "start_time": "2022-04-10T13:04:12.060Z"
      },
      {
        "duration": 2,
        "start_time": "2022-04-10T13:04:12.571Z"
      },
      {
        "duration": 4,
        "start_time": "2022-04-10T13:04:13.099Z"
      },
      {
        "duration": 2,
        "start_time": "2022-04-10T13:04:13.670Z"
      },
      {
        "duration": 3,
        "start_time": "2022-04-10T13:04:13.963Z"
      },
      {
        "duration": 6,
        "start_time": "2022-04-10T13:04:14.314Z"
      },
      {
        "duration": 2,
        "start_time": "2022-04-10T13:04:14.651Z"
      },
      {
        "duration": 2,
        "start_time": "2022-04-10T13:04:15.079Z"
      },
      {
        "duration": 2,
        "start_time": "2022-04-10T13:04:15.390Z"
      },
      {
        "duration": 2,
        "start_time": "2022-04-10T13:04:15.704Z"
      },
      {
        "duration": 748,
        "start_time": "2022-04-10T13:04:16.355Z"
      },
      {
        "duration": 16,
        "start_time": "2022-04-10T13:12:32.948Z"
      },
      {
        "duration": 11,
        "start_time": "2022-04-10T13:13:49.668Z"
      },
      {
        "duration": 12,
        "start_time": "2022-04-10T13:14:00.622Z"
      },
      {
        "duration": 3,
        "start_time": "2022-04-10T13:14:27.976Z"
      },
      {
        "duration": 3,
        "start_time": "2022-04-10T13:14:28.711Z"
      },
      {
        "duration": 6,
        "start_time": "2022-04-10T13:14:29.181Z"
      },
      {
        "duration": 2,
        "start_time": "2022-04-10T13:14:29.587Z"
      },
      {
        "duration": 12,
        "start_time": "2022-04-10T13:14:30.456Z"
      },
      {
        "duration": 5787909,
        "start_time": "2022-04-10T13:18:52.566Z"
      },
      {
        "duration": 9,
        "start_time": "2022-04-10T14:55:35.313Z"
      },
      {
        "duration": 2,
        "start_time": "2022-04-10T14:55:36.241Z"
      },
      {
        "duration": 1388,
        "start_time": "2022-04-10T14:55:37.124Z"
      },
      {
        "duration": 0,
        "start_time": "2022-04-10T14:58:44.473Z"
      },
      {
        "duration": 102933,
        "start_time": "2022-04-10T14:58:47.017Z"
      },
      {
        "duration": 4,
        "start_time": "2022-04-10T15:01:34.151Z"
      },
      {
        "duration": 6,
        "start_time": "2022-04-10T15:03:18.806Z"
      },
      {
        "duration": 3,
        "start_time": "2022-04-10T15:05:05.007Z"
      },
      {
        "duration": 100007,
        "start_time": "2022-04-10T15:05:05.953Z"
      },
      {
        "duration": 4,
        "start_time": "2022-04-10T15:06:45.962Z"
      },
      {
        "duration": 6,
        "start_time": "2022-04-10T15:06:45.967Z"
      },
      {
        "duration": 4,
        "start_time": "2022-04-10T15:06:45.974Z"
      },
      {
        "duration": 4,
        "start_time": "2022-04-10T15:07:00.934Z"
      },
      {
        "duration": 3,
        "start_time": "2022-04-10T15:09:11.537Z"
      },
      {
        "duration": 5,
        "start_time": "2022-04-10T15:09:11.972Z"
      },
      {
        "duration": 8,
        "start_time": "2022-04-10T15:09:12.479Z"
      },
      {
        "duration": 2059679,
        "start_time": "2022-04-10T15:09:13.360Z"
      },
      {
        "duration": 0,
        "start_time": "2022-04-10T15:43:33.041Z"
      },
      {
        "duration": 0,
        "start_time": "2022-04-10T15:43:33.042Z"
      },
      {
        "duration": 94514,
        "start_time": "2022-04-10T15:44:50.096Z"
      },
      {
        "duration": 135163,
        "start_time": "2022-04-10T15:46:50.394Z"
      },
      {
        "duration": 3,
        "start_time": "2022-04-10T15:55:50.476Z"
      },
      {
        "duration": 1500,
        "start_time": "2022-04-10T15:55:55.313Z"
      },
      {
        "duration": 671,
        "start_time": "2022-04-10T15:55:56.816Z"
      },
      {
        "duration": 31,
        "start_time": "2022-04-10T15:55:57.489Z"
      },
      {
        "duration": 4,
        "start_time": "2022-04-10T15:55:57.522Z"
      },
      {
        "duration": 17,
        "start_time": "2022-04-10T15:55:57.529Z"
      },
      {
        "duration": 13,
        "start_time": "2022-04-10T15:55:57.548Z"
      },
      {
        "duration": 59,
        "start_time": "2022-04-10T15:55:57.563Z"
      },
      {
        "duration": 10,
        "start_time": "2022-04-10T15:55:57.624Z"
      },
      {
        "duration": 5,
        "start_time": "2022-04-10T15:55:57.636Z"
      },
      {
        "duration": 7,
        "start_time": "2022-04-10T15:55:57.643Z"
      },
      {
        "duration": 8,
        "start_time": "2022-04-10T15:55:57.652Z"
      },
      {
        "duration": 40,
        "start_time": "2022-04-10T15:55:57.662Z"
      },
      {
        "duration": 9,
        "start_time": "2022-04-10T15:55:57.703Z"
      },
      {
        "duration": 9,
        "start_time": "2022-04-10T15:55:57.716Z"
      },
      {
        "duration": 7,
        "start_time": "2022-04-10T15:55:57.727Z"
      },
      {
        "duration": 16,
        "start_time": "2022-04-10T15:55:57.736Z"
      },
      {
        "duration": 4,
        "start_time": "2022-04-10T15:55:57.754Z"
      },
      {
        "duration": 42,
        "start_time": "2022-04-10T15:55:57.760Z"
      },
      {
        "duration": 13,
        "start_time": "2022-04-10T15:55:57.804Z"
      },
      {
        "duration": 4,
        "start_time": "2022-04-10T15:55:57.819Z"
      },
      {
        "duration": 209,
        "start_time": "2022-04-10T15:55:57.825Z"
      },
      {
        "duration": 11,
        "start_time": "2022-04-10T15:55:58.035Z"
      },
      {
        "duration": 78,
        "start_time": "2022-04-10T15:55:58.047Z"
      },
      {
        "duration": 13,
        "start_time": "2022-04-10T15:55:58.127Z"
      },
      {
        "duration": 4,
        "start_time": "2022-04-10T15:55:58.142Z"
      },
      {
        "duration": 417,
        "start_time": "2022-04-10T15:55:58.147Z"
      },
      {
        "duration": 471,
        "start_time": "2022-04-10T15:55:58.566Z"
      },
      {
        "duration": 641,
        "start_time": "2022-04-10T15:55:59.039Z"
      },
      {
        "duration": 585,
        "start_time": "2022-04-10T15:55:59.682Z"
      },
      {
        "duration": 297,
        "start_time": "2022-04-10T15:56:00.270Z"
      },
      {
        "duration": 534,
        "start_time": "2022-04-10T15:56:00.569Z"
      },
      {
        "duration": 10,
        "start_time": "2022-04-10T15:56:01.105Z"
      },
      {
        "duration": 5,
        "start_time": "2022-04-10T15:56:01.117Z"
      },
      {
        "duration": 12,
        "start_time": "2022-04-10T15:56:01.124Z"
      },
      {
        "duration": 10,
        "start_time": "2022-04-10T15:56:01.138Z"
      },
      {
        "duration": 13,
        "start_time": "2022-04-10T15:56:01.150Z"
      },
      {
        "duration": 76042,
        "start_time": "2022-04-10T15:56:01.165Z"
      },
      {
        "duration": 0,
        "start_time": "2022-04-10T15:57:17.208Z"
      },
      {
        "duration": 0,
        "start_time": "2022-04-10T15:57:17.210Z"
      },
      {
        "duration": 0,
        "start_time": "2022-04-10T15:57:17.211Z"
      },
      {
        "duration": 0,
        "start_time": "2022-04-10T15:57:17.212Z"
      },
      {
        "duration": 0,
        "start_time": "2022-04-10T15:57:17.213Z"
      },
      {
        "duration": 74639,
        "start_time": "2022-04-10T15:59:28.052Z"
      },
      {
        "duration": 9,
        "start_time": "2022-04-10T16:03:28.568Z"
      },
      {
        "duration": 3,
        "start_time": "2022-04-10T16:03:30.164Z"
      },
      {
        "duration": 4,
        "start_time": "2022-04-10T16:03:30.668Z"
      },
      {
        "duration": 4,
        "start_time": "2022-04-10T16:03:31.113Z"
      },
      {
        "duration": 7,
        "start_time": "2022-04-10T16:03:31.532Z"
      },
      {
        "duration": 74656,
        "start_time": "2022-04-10T16:03:32.475Z"
      },
      {
        "duration": 1521,
        "start_time": "2022-04-10T16:05:17.831Z"
      },
      {
        "duration": 8,
        "start_time": "2022-04-10T16:06:25.592Z"
      },
      {
        "duration": 7,
        "start_time": "2022-04-10T16:06:27.838Z"
      },
      {
        "duration": 3,
        "start_time": "2022-04-10T16:06:31.028Z"
      },
      {
        "duration": 3,
        "start_time": "2022-04-10T16:06:31.531Z"
      },
      {
        "duration": 3,
        "start_time": "2022-04-10T16:06:31.994Z"
      },
      {
        "duration": 7,
        "start_time": "2022-04-10T16:06:33.976Z"
      },
      {
        "duration": 2016,
        "start_time": "2022-04-10T16:06:37.814Z"
      },
      {
        "duration": 3103,
        "start_time": "2022-04-10T16:06:47.999Z"
      },
      {
        "duration": 8,
        "start_time": "2022-04-10T16:07:34.552Z"
      },
      {
        "duration": 6,
        "start_time": "2022-04-10T16:07:47.415Z"
      },
      {
        "duration": 5,
        "start_time": "2022-04-10T16:07:57.062Z"
      },
      {
        "duration": 30,
        "start_time": "2022-04-10T16:08:19.124Z"
      },
      {
        "duration": 4,
        "start_time": "2022-04-10T16:10:53.114Z"
      },
      {
        "duration": 4,
        "start_time": "2022-04-10T16:11:09.449Z"
      },
      {
        "duration": 16,
        "start_time": "2022-04-10T16:11:38.456Z"
      },
      {
        "duration": 12,
        "start_time": "2022-04-10T16:12:02.339Z"
      },
      {
        "duration": 1325,
        "start_time": "2022-04-10T16:12:43.567Z"
      },
      {
        "duration": 0,
        "start_time": "2022-04-10T16:12:44.893Z"
      },
      {
        "duration": 12,
        "start_time": "2022-04-10T16:12:45.286Z"
      },
      {
        "duration": 10,
        "start_time": "2022-04-10T16:13:43.091Z"
      },
      {
        "duration": 12,
        "start_time": "2022-04-10T16:13:44.940Z"
      },
      {
        "duration": 16,
        "start_time": "2022-04-10T16:13:45.442Z"
      },
      {
        "duration": 4,
        "start_time": "2022-04-10T16:14:08.819Z"
      },
      {
        "duration": 3983,
        "start_time": "2022-04-10T16:14:14.620Z"
      },
      {
        "duration": 402618,
        "start_time": "2022-04-10T16:14:28.554Z"
      },
      {
        "duration": 113053,
        "start_time": "2022-04-10T16:22:08.958Z"
      },
      {
        "duration": 283174,
        "start_time": "2022-04-10T16:24:02.013Z"
      },
      {
        "duration": 14,
        "start_time": "2022-04-10T16:30:05.149Z"
      },
      {
        "duration": 45,
        "start_time": "2022-04-10T16:34:05.782Z"
      },
      {
        "duration": 25,
        "start_time": "2022-04-10T16:35:37.768Z"
      },
      {
        "duration": 9,
        "start_time": "2022-04-10T16:36:02.669Z"
      },
      {
        "duration": 26,
        "start_time": "2022-04-10T16:36:12.801Z"
      },
      {
        "duration": 28,
        "start_time": "2022-04-10T16:36:47.671Z"
      },
      {
        "duration": 4,
        "start_time": "2022-04-10T16:37:17.395Z"
      },
      {
        "duration": 5,
        "start_time": "2022-04-10T16:37:42.505Z"
      },
      {
        "duration": 25,
        "start_time": "2022-04-10T16:37:56.997Z"
      },
      {
        "duration": 41,
        "start_time": "2022-04-10T16:38:14.603Z"
      },
      {
        "duration": 47,
        "start_time": "2022-04-10T16:38:36.053Z"
      },
      {
        "duration": 16,
        "start_time": "2022-04-10T16:39:09.556Z"
      },
      {
        "duration": 16,
        "start_time": "2022-04-10T16:40:55.984Z"
      },
      {
        "duration": 6,
        "start_time": "2022-04-10T16:41:12.682Z"
      },
      {
        "duration": 64,
        "start_time": "2022-04-10T16:42:21.353Z"
      },
      {
        "duration": 189,
        "start_time": "2022-04-10T16:45:59.924Z"
      },
      {
        "duration": 11,
        "start_time": "2022-04-10T16:48:43.407Z"
      },
      {
        "duration": 15,
        "start_time": "2022-04-10T16:49:03.759Z"
      },
      {
        "duration": 16,
        "start_time": "2022-04-10T16:49:33.161Z"
      },
      {
        "duration": 7,
        "start_time": "2022-04-10T16:52:06.589Z"
      },
      {
        "duration": 7,
        "start_time": "2022-04-10T16:52:23.292Z"
      },
      {
        "duration": 5,
        "start_time": "2022-04-10T16:53:05.422Z"
      },
      {
        "duration": 8,
        "start_time": "2022-04-10T16:53:54.075Z"
      },
      {
        "duration": 7,
        "start_time": "2022-04-10T16:54:26.692Z"
      },
      {
        "duration": 21,
        "start_time": "2022-04-10T16:54:27.483Z"
      },
      {
        "duration": 6,
        "start_time": "2022-04-10T16:55:11.187Z"
      },
      {
        "duration": 7,
        "start_time": "2022-04-10T16:55:58.697Z"
      },
      {
        "duration": 6,
        "start_time": "2022-04-10T16:55:59.466Z"
      },
      {
        "duration": 27,
        "start_time": "2022-04-10T16:56:00.478Z"
      },
      {
        "duration": 101,
        "start_time": "2022-04-10T16:56:50.900Z"
      },
      {
        "duration": 13,
        "start_time": "2022-04-10T17:10:04.014Z"
      },
      {
        "duration": 12,
        "start_time": "2022-04-10T17:22:23.624Z"
      },
      {
        "duration": 37,
        "start_time": "2022-04-10T17:26:50.272Z"
      },
      {
        "duration": 1752,
        "start_time": "2022-04-10T17:34:14.538Z"
      },
      {
        "duration": 752,
        "start_time": "2022-04-10T17:34:16.292Z"
      },
      {
        "duration": 25,
        "start_time": "2022-04-10T17:34:17.046Z"
      },
      {
        "duration": 4,
        "start_time": "2022-04-10T17:34:17.074Z"
      },
      {
        "duration": 39,
        "start_time": "2022-04-10T17:34:17.080Z"
      },
      {
        "duration": 13,
        "start_time": "2022-04-10T17:34:17.121Z"
      },
      {
        "duration": 20,
        "start_time": "2022-04-10T17:34:17.136Z"
      },
      {
        "duration": 8,
        "start_time": "2022-04-10T17:34:17.158Z"
      },
      {
        "duration": 37,
        "start_time": "2022-04-10T17:34:17.168Z"
      },
      {
        "duration": 5,
        "start_time": "2022-04-10T17:34:17.208Z"
      },
      {
        "duration": 6,
        "start_time": "2022-04-10T17:34:17.216Z"
      },
      {
        "duration": 5,
        "start_time": "2022-04-10T17:34:17.223Z"
      },
      {
        "duration": 10,
        "start_time": "2022-04-10T17:34:17.230Z"
      },
      {
        "duration": 9,
        "start_time": "2022-04-10T17:34:17.241Z"
      },
      {
        "duration": 8,
        "start_time": "2022-04-10T17:34:17.252Z"
      },
      {
        "duration": 18,
        "start_time": "2022-04-10T17:34:17.302Z"
      },
      {
        "duration": 6,
        "start_time": "2022-04-10T17:34:17.322Z"
      },
      {
        "duration": 7,
        "start_time": "2022-04-10T17:34:17.330Z"
      },
      {
        "duration": 13,
        "start_time": "2022-04-10T17:34:17.339Z"
      },
      {
        "duration": 6,
        "start_time": "2022-04-10T17:34:17.354Z"
      },
      {
        "duration": 241,
        "start_time": "2022-04-10T17:34:17.362Z"
      },
      {
        "duration": 11,
        "start_time": "2022-04-10T17:34:17.605Z"
      },
      {
        "duration": 65,
        "start_time": "2022-04-10T17:34:17.618Z"
      },
      {
        "duration": 13,
        "start_time": "2022-04-10T17:34:17.702Z"
      },
      {
        "duration": 4,
        "start_time": "2022-04-10T17:34:17.717Z"
      },
      {
        "duration": 418,
        "start_time": "2022-04-10T17:34:17.723Z"
      },
      {
        "duration": 578,
        "start_time": "2022-04-10T17:34:18.143Z"
      },
      {
        "duration": 432,
        "start_time": "2022-04-10T17:34:18.724Z"
      },
      {
        "duration": 420,
        "start_time": "2022-04-10T17:34:19.158Z"
      },
      {
        "duration": 258,
        "start_time": "2022-04-10T17:34:19.580Z"
      },
      {
        "duration": 539,
        "start_time": "2022-04-10T17:34:19.840Z"
      },
      {
        "duration": 23,
        "start_time": "2022-04-10T17:34:20.381Z"
      },
      {
        "duration": 9,
        "start_time": "2022-04-10T17:34:20.406Z"
      },
      {
        "duration": 4,
        "start_time": "2022-04-10T17:34:20.417Z"
      },
      {
        "duration": 4,
        "start_time": "2022-04-10T17:34:20.423Z"
      },
      {
        "duration": 6,
        "start_time": "2022-04-10T17:34:20.429Z"
      },
      {
        "duration": 12,
        "start_time": "2022-04-10T17:34:20.436Z"
      },
      {
        "duration": 370738,
        "start_time": "2022-04-10T17:34:20.449Z"
      },
      {
        "duration": 4613,
        "start_time": "2022-04-10T17:40:31.189Z"
      },
      {
        "duration": 93045,
        "start_time": "2022-04-10T17:40:35.804Z"
      },
      {
        "duration": 268339,
        "start_time": "2022-04-10T17:42:08.851Z"
      },
      {
        "duration": 524,
        "start_time": "2022-04-10T17:46:37.192Z"
      },
      {
        "duration": 89,
        "start_time": "2022-04-10T17:46:37.720Z"
      },
      {
        "duration": 13,
        "start_time": "2022-04-10T17:46:37.811Z"
      },
      {
        "duration": 15,
        "start_time": "2022-04-10T17:46:37.827Z"
      },
      {
        "duration": 57,
        "start_time": "2022-04-10T17:46:37.844Z"
      },
      {
        "duration": 24,
        "start_time": "2022-04-10T17:46:37.903Z"
      },
      {
        "duration": 157,
        "start_time": "2022-04-10T18:37:45.371Z"
      },
      {
        "duration": 397,
        "start_time": "2022-04-10T18:39:52.366Z"
      },
      {
        "duration": 392,
        "start_time": "2022-04-10T18:51:06.261Z"
      },
      {
        "duration": 376,
        "start_time": "2022-04-10T18:51:28.658Z"
      },
      {
        "duration": 369,
        "start_time": "2022-04-10T18:51:53.658Z"
      },
      {
        "duration": 515,
        "start_time": "2022-04-10T18:52:35.661Z"
      },
      {
        "duration": 477,
        "start_time": "2022-04-10T18:52:47.331Z"
      },
      {
        "duration": 613,
        "start_time": "2022-04-10T18:54:50.420Z"
      },
      {
        "duration": 386,
        "start_time": "2022-04-10T18:55:35.109Z"
      },
      {
        "duration": 111,
        "start_time": "2022-04-10T19:03:30.540Z"
      },
      {
        "duration": 5983830,
        "start_time": "2022-04-10T19:04:02.826Z"
      },
      {
        "duration": 155,
        "start_time": "2022-04-11T04:25:07.815Z"
      }
    ],
    "kernelspec": {
      "display_name": "Python 3 (ipykernel)",
      "language": "python",
      "name": "python3"
    },
    "language_info": {
      "codemirror_mode": {
        "name": "ipython",
        "version": 3
      },
      "file_extension": ".py",
      "mimetype": "text/x-python",
      "name": "python",
      "nbconvert_exporter": "python",
      "pygments_lexer": "ipython3",
      "version": "3.9.5"
    },
    "toc": {
      "base_numbering": 1,
      "nav_menu": {},
      "number_sections": true,
      "sideBar": true,
      "skip_h1_title": true,
      "title_cell": "Содержание",
      "title_sidebar": "Contents",
      "toc_cell": true,
      "toc_position": {
        "height": "calc(100% - 180px)",
        "left": "10px",
        "top": "150px",
        "width": "218px"
      },
      "toc_section_display": true,
      "toc_window_display": true
    },
    "colab": {
      "name": "разные_модели_спр_12.ipynb",
      "provenance": []
    }
  },
  "nbformat": 4,
  "nbformat_minor": 0
}